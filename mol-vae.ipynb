{
 "cells": [
  {
   "cell_type": "markdown",
   "metadata": {},
   "source": [
    "# Molecular Vae implementation with pytorch\n",
    "\n",
    "※基本的にはhttps://github.com/ShabbirK/chemical_vae_pytorch/blob/main/Chemical%20VAE.ipynbの写経"
   ]
  },
  {
   "cell_type": "code",
   "execution_count": 1,
   "metadata": {},
   "outputs": [],
   "source": [
    "import torch\n",
    "import torch.nn as nn\n",
    "from torch.utils.data import TensorDataset\n",
    "from torch.utils.data import DataLoader\n",
    "from torch import optim\n",
    "\n",
    "from sklearn.model_selection import train_test_split\n",
    "from time import time\n",
    "from tqdm import tqdm\n",
    "\n",
    "import pathlib\n",
    "import yaml\n",
    "import pandas as pd\n",
    "import numpy as np\n",
    "import matplotlib.pyplot as plt\n",
    "import math"
   ]
  },
  {
   "cell_type": "markdown",
   "metadata": {},
   "source": [
    "## Declare Constants"
   ]
  },
  {
   "cell_type": "code",
   "execution_count": 2,
   "metadata": {},
   "outputs": [],
   "source": [
    "MAX_LEN = 120\n",
    "NLATENT = 196\n",
    "DECODER_HIDDEN_SIZE = 488\n",
    "DECODER_NUM_LAYERS = 3\n",
    "\n",
    "#adopted from https://github.com/aspuru-guzik-group/chemical_vae/tree/main/models/zinc_properties\n",
    "\n",
    "DATA_DIR = './data'\n",
    "DATA_FILE_NAME = '250k_rndm_zinc_drugs_clean_3.csv'\n",
    "CHAR_FILE_NAME = 'zinc.json'\n",
    "\n",
    "#adopted from https://github.com/ShabbirK/chemical_vae_pytorch/blob/main/data/test_idx.npy\n",
    "TEST_IDX_FILE_NAME = 'test_idx.npy'\n",
    "\n",
    "ALL_LETTERS = yaml.safe_load(open(pathlib.Path(DATA_DIR, CHAR_FILE_NAME))) + ['SOS']\n",
    "N_LETTERS = len(ALL_LETTERS) \n",
    "\n",
    "MODELS_DIR = './models'"
   ]
  },
  {
   "cell_type": "code",
   "execution_count": 3,
   "metadata": {},
   "outputs": [
    {
     "data": {
      "text/plain": [
       "(['7',\n",
       "  '6',\n",
       "  'o',\n",
       "  ']',\n",
       "  '3',\n",
       "  's',\n",
       "  '(',\n",
       "  '-',\n",
       "  'S',\n",
       "  '/',\n",
       "  'B',\n",
       "  '4',\n",
       "  '[',\n",
       "  ')',\n",
       "  '#',\n",
       "  'I',\n",
       "  'l',\n",
       "  'O',\n",
       "  'H',\n",
       "  'c',\n",
       "  '1',\n",
       "  '@',\n",
       "  '=',\n",
       "  'n',\n",
       "  'P',\n",
       "  '8',\n",
       "  'C',\n",
       "  '2',\n",
       "  'F',\n",
       "  '5',\n",
       "  'r',\n",
       "  'N',\n",
       "  '+',\n",
       "  '\\\\',\n",
       "  ' ',\n",
       "  'SOS'],\n",
       " 36)"
      ]
     },
     "execution_count": 3,
     "metadata": {},
     "output_type": "execute_result"
    }
   ],
   "source": [
    "ALL_LETTERS, N_LETTERS"
   ]
  },
  {
   "cell_type": "markdown",
   "metadata": {},
   "source": [
    "## Create a Utility Class"
   ]
  },
  {
   "cell_type": "code",
   "execution_count": 4,
   "metadata": {},
   "outputs": [],
   "source": [
    "class VAEUtils:\n",
    "    \"\"\"\n",
    "    This purpose of this class is \n",
    "    to help with various aspects of data processing\n",
    "    \"\"\"\n",
    "    def __init__(self, data_dir=DATA_DIR,\n",
    "                 data_file_name=DATA_FILE_NAME,\n",
    "                 test_idx_file_name=TEST_IDX_FILE_NAME,\n",
    "                 max_len=MAX_LEN,\n",
    "                 all_letters=ALL_LETTERS):\n",
    "        \n",
    "        self.data_dir = pathlib.Path(data_dir)\n",
    "        self.data_file = self.data_dir / pathlib.Path(data_file_name)\n",
    "        self.test_file = self.data_dir / pathlib.Path(test_idx_file_name)\n",
    "\n",
    "        self.max_len = max_len\n",
    "\n",
    "        self.all_letters = all_letters #SMILES文字列に含まれるすべての文字\n",
    "        self.n_letters = len(all_letters) #SMILES文字列に含まれる文字の個数\n",
    "        self.letters_to_indices_dict = dict((l, i) for i, l in enumerate(all_letters)) #文字→index\n",
    "        self.indices_to_letters_dict = dict((i, l) for i, l in enumerate(all_letters)) #index→文字\n",
    "\n",
    "    def get_data_df(self):\n",
    "        df = pd.read_csv(self.data_file) #データの読み込み\n",
    "        df = df[df.smiles.str.len() <= self.max_len].reset_index(drop=True) #max_lenより長いSMILESの削除\n",
    "\n",
    "        #空白文字と改行文字を削除して、文字列の長さがmax_lenに合うように空白文字\" \"でパディング\n",
    "        df.loc[:, 'smiles'] = df.loc[:, 'smiles'].str.strip().str.pad(width=self.max_len, side='right', fillchar=\" \")\n",
    "\n",
    "        return df\n",
    "\n",
    "    def get_input_tensor(self, smile):\n",
    "        tensor = torch.zeros(1, len(smile), self.n_letters) #batch_size * seq_length * num_features\n",
    "        for i, letter in enumerate(smile):\n",
    "            tensor[0][i][self.letters_to_indices_dict[letter]] = 1 #one hot vectorにする\n",
    "        return tensor\n",
    "\n",
    "    def get_target_tensor(self, smile):\n",
    "        letter_indexes = [self.letters_to_indices_dict[l] for l in smile] #one hot vectorではなくindexのリスト\n",
    "        # letter_indexes.append(self.n_letters-1) #EOS\n",
    "        return torch.LongTensor(letter_indexes)\n",
    "    \n",
    "    def get_train_valid_test_splits(self, reg_col, valid_pct=1):\n",
    "        df = self.get_data_df()[['smiles', reg_col]]\n",
    "        df = df.rename(columns={reg_col: 'reg_col'})\n",
    "\n",
    "        test_idx = np.load(self.test_file)\n",
    "        non_test_idx = np.array(df[~df.index.isin(test_idx)].index)\n",
    "        train_idx, valid_idx = train_test_split(non_test_idx, test_size=valid_pct,\n",
    "                                                random_state=42, shuffle=True)\n",
    "        \n",
    "        assert len(df)==len(test_idx) + len(train_idx) + len(valid_idx)\n",
    "\n",
    "        return df, train_idx, valid_idx, test_idx\n",
    "    \n",
    "    def get_dl(self, df, idx, bs, shuffle=False):\n",
    "        df = df.iloc[idx]\n",
    "\n",
    "        input_tensors = torch.zeros(len(df), self.max_len, self.n_letters)\n",
    "        target_tensors = torch.zeros(len(df), self.max_len, dtype=torch.long)\n",
    "\n",
    "        for i, smile in enumerate(tqdm(df.smiles)):\n",
    "            input_tensors[i] = self.get_input_tensor(smile)\n",
    "            target_tensors[i] = self.get_target_tensor(smile)\n",
    "\n",
    "        input_tensors = input_tensors\n",
    "        target_tensors = target_tensors\n",
    "\n",
    "        property_values = torch.tensor(df.reg_col.to_numpy()).type(torch.float32)\n",
    "\n",
    "        ds = TensorDataset(input_tensors, target_tensors, property_values)\n",
    "        dl = DataLoader(ds, shuffle=shuffle, batch_size=bs)\n",
    "\n",
    "        return dl"
   ]
  },
  {
   "cell_type": "code",
   "execution_count": 5,
   "metadata": {},
   "outputs": [],
   "source": [
    "vae_utils = VAEUtils()"
   ]
  },
  {
   "cell_type": "markdown",
   "metadata": {},
   "source": [
    "## Model Networks"
   ]
  },
  {
   "cell_type": "code",
   "execution_count": 6,
   "metadata": {},
   "outputs": [],
   "source": [
    "class Lambda(nn.Module):\n",
    "    \"\"\"\n",
    "    This class simplifies layers from custom functions\n",
    "    \"\"\"\n",
    "    def __init__(self, func):\n",
    "        super().__init__()\n",
    "        self.func = func\n",
    "    \n",
    "    def forward(self, x):\n",
    "        return self.func(x)"
   ]
  },
  {
   "cell_type": "code",
   "execution_count": 7,
   "metadata": {},
   "outputs": [],
   "source": [
    "class Encoder(nn.Module):\n",
    "    \n",
    "    def __init__(self, n_letters, nlatent, decoder_hidden_size):\n",
    "        super().__init__()\n",
    "\n",
    "        self.n_letters = n_letters\n",
    "        self.nlatent = nlatent\n",
    "        self.decoder_hidden_size = decoder_hidden_size\n",
    "\n",
    "        self.encoder = nn.Sequential(\n",
    "            Lambda(lambda x: x.permute(0, 2, 1)), # the features are in the channels dimension\n",
    "            nn.Conv1d(in_channels=n_letters, out_channels=9, kernel_size=9),\n",
    "            # nn.Tanh(), # the authors of the paper used tanh\n",
    "            nn.ReLU(),\n",
    "            nn.BatchNorm1d(9), # the authors of the paper did batch normalization\n",
    "            nn.Conv1d(in_channels=9, out_channels=9, kernel_size=9),\n",
    "            # nn.Tanh(), # the authors of the paper used tanh\n",
    "            nn.ReLU(),\n",
    "            nn.BatchNorm1d(9), # the authors of the paper did batch normalization\n",
    "            nn.Conv1d(in_channels=9, out_channels=11, kernel_size=10),\n",
    "            # nn.Tanh(), # the authors of the paper used tanh\n",
    "            nn.ReLU(),\n",
    "            nn.BatchNorm1d(11), # the authors of the paper did batch normalization\n",
    "            nn.Flatten()\n",
    "        )\n",
    "\n",
    "        self.mean = nn.Linear(1045, nlatent) #平均\n",
    "        self.log_var = nn.Linear(1045, nlatent) #分散(のlog)\n",
    "        self.dec_init_hidden = nn.Linear(nlatent, self.decoder_hidden_size) #decoderのinputに合わせたサイズ\n",
    "\n",
    "    def reparameterize(self, mean, log_var):\n",
    "        std = torch.exp(0.5 * log_var)\n",
    "        eps = torch.randn_like(std)\n",
    "        sample = mean + (eps * std)\n",
    "        return sample #latent spaceからのサンプリング\n",
    "    \n",
    "    def forward(self, x):\n",
    "        x = self.encoder(x)\n",
    "        mean = self.mean(x)\n",
    "        log_var = self.log_var(x)\n",
    "        z = self.reparameterize(mean, log_var)\n",
    "        dec_init_hidden = self.dec_init_hidden(z)\n",
    "\n",
    "        return z,mean,log_var,dec_init_hidden"
   ]
  },
  {
   "cell_type": "code",
   "execution_count": 8,
   "metadata": {},
   "outputs": [],
   "source": [
    "def preprocess_decoder_input(input_tensors):\n",
    "    \"\"\"\n",
    "    Adjust for SOS and make batch the second demension\n",
    "    \"\"\"\n",
    "    sos_tensor = torch.zeros(1, N_LETTERS)\n",
    "    sos_tensor[0][vae_utils.letters_to_indices_dict['SOS']] = 1\n",
    "    new_tensor = torch.zeros(input_tensors.shape[0], MAX_LEN, N_LETTERS)\n",
    "    new_tensor[:][0] = sos_tensor\n",
    "    new_tensor[:, 1:MAX_LEN, :] = input_tensors[:, 0:MAX_LEN-1, :]\n",
    "    new_tensor = new_tensor.permute(1, 0, 2).to(input_tensors.device)\n",
    "\n",
    "    return new_tensor"
   ]
  },
  {
   "cell_type": "code",
   "execution_count": 9,
   "metadata": {},
   "outputs": [],
   "source": [
    "class Decoder(nn.Module):\n",
    "    def __init__(self, input_size, hidden_size, num_layers):\n",
    "        super().__init__()\n",
    "        self.input_size = input_size\n",
    "        self.hidden_size = hidden_size\n",
    "        self.num_layers = num_layers\n",
    "        self.preprocess = Lambda(preprocess_decoder_input)\n",
    "        self.rnn = nn.GRU(input_size, hidden_size, num_layers)\n",
    "        self.out = nn.Linear(hidden_size, input_size)\n",
    "        self.softmax = nn.LogSoftmax(dim=2)\n",
    "\n",
    "    def forward(self, input, hidden):\n",
    "        output, hidden = self.rnn(self.preprocess(input),)\n",
    "        output = output.permute(1,0,2)\n",
    "        output = self.softmax(self.out(output))\n",
    "        return output, hidden"
   ]
  },
  {
   "cell_type": "code",
   "execution_count": 10,
   "metadata": {},
   "outputs": [],
   "source": [
    "class PropertyPredictor(nn.Module):\n",
    "    def __init__(self, nlatent):\n",
    "        super().__init__()\n",
    "        self.predictor = nn.Sequential(\n",
    "            nn.Linear(nlatent, 1000),\n",
    "            # nn.Tanh() #the authors of the paper used tanh\n",
    "            nn.ReLU(),\n",
    "            nn.Dropout(.2),\n",
    "            nn.Linear(1000,1000),\n",
    "            # nn.Tanh() #the authors of the paper used tanh\n",
    "            nn.ReLU(),\n",
    "            nn.Dropout(.2),\n",
    "            nn.Linear(1000,1)\n",
    "        )\n",
    "\n",
    "    def forward(self, x):\n",
    "        return self.predictor(x)"
   ]
  },
  {
   "cell_type": "markdown",
   "metadata": {},
   "source": [
    "## Write Helper Classes & Functions for Training and Testing"
   ]
  },
  {
   "cell_type": "code",
   "execution_count": 11,
   "metadata": {},
   "outputs": [],
   "source": [
    "class Trainer:\n",
    "    def __init__(self, reg_col):\n",
    "        self.reg_col = reg_col\n",
    "        models_dir = pathlib.Path(MODELS_DIR)\n",
    "        models_dir.mkdir(exist_ok=True, parents=True)\n",
    "\n",
    "        #encoderとdecoderのモデルを保存する\n",
    "        self.encoder_file = models_dir / pathlib.Path(f'{reg_col}_encoder.pth')\n",
    "        self.decoder_file = models_dir / pathlib.Path(f'{reg_col}_decoder.pth')\n",
    "        self.property_predictor_file = models_dir / pathlib.Path(f'{reg_col}_property_predictor.pth')\n",
    "\n",
    "        #lossを記録する\n",
    "        self.train_losses_file = models_dir / pathlib.Path(f'{reg_col}_train_losses.csv')\n",
    "        self.val_losses_file = models_dir / pathlib.Path(f'{reg_col}_valid_losses.csv')\n",
    "\n",
    "        self.loss_columns = ['total_loss', 'reconstruction_loss', 'kl_divergence', 'regression_loss']\n",
    "        self.train_losses_df = pd.DataFrame(columns=self.loss_columns)\n",
    "        self.val_losses_df = pd.DataFrame(columns=self.loss_columns)\n",
    "\n",
    "    #initialize  networks\n",
    "    def initialize_networks(self):\n",
    "        self.encoder = Encoder(vae_utils.n_letters, NLATENT, DECODER_HIDDEN_SIZE)\n",
    "        self.decoder = Decoder(vae_utils.n_letters, DECODER_HIDDEN_SIZE, DECODER_NUM_LAYERS)\n",
    "        self.property_predictor = PropertyPredictor(NLATENT)\n",
    "\n",
    "    #時間を測る\n",
    "    def __time_since(self, since):\n",
    "        now = time()\n",
    "        s = now - since\n",
    "        m = math.floor(s / 60)\n",
    "        s -= m*60\n",
    "        return f'{m}m {s:.0f}s'\n",
    "    \n",
    "    #for calculate kl divergence\n",
    "    def kl_anneal_function(self, epoch, anneal_start, k=1):\n",
    "        return 1/(1+np.exp(-k*(epoch - anneal_start)))\n",
    "    \n",
    "    def get_losses(self, epoch, device, anneal_start, input_tensors, target_tensors, property_values):\n",
    "        \n",
    "        # loss function \n",
    "        reconstruction_loss_func = nn.NLLLoss()\n",
    "        reg_loss_func = nn.MSELoss()\n",
    "\n",
    "        input_tensors = input_tensors.to(device)\n",
    "        target_tensors = target_tensors.to(device)\n",
    "        property_values = property_values.to(device)\n",
    "\n",
    "        # encode input tensor\n",
    "        z, mean, log_var, dec_init_hidden = self.encoder(input_tensors)\n",
    "\n",
    "        # decode input tensor\n",
    "        output, hidden = self.decoder(input_tensors,\n",
    "                                    dec_init_hidden.unsqueeze(0).repeat(DECODER_NUM_LAYERS, 1, 1))\n",
    "        \n",
    "        # property predict\n",
    "        reg_pred = self.property_predictor(mean)\n",
    "\n",
    "        kl_divergence = -0.5 * torch.sum(1+log_var-mean.pow(2)-log_var.exp())\n",
    "        kl_weight = self.kl_anneal_function(epoch, anneal_start)\n",
    "\n",
    "        reg_loss = reg_loss_func(reg_pred.flatten(), property_values)\n",
    "        reg_loss = reg_loss.type(torch.float32)\n",
    "\n",
    "        reconstruction_loss = reconstruction_loss_func(output.permute(0,2,1), target_tensors)\n",
    "\n",
    "        loss = reconstruction_loss + kl_divergence*kl_weight + reg_loss\n",
    "\n",
    "        return loss, reconstruction_loss, kl_divergence, reg_loss\n",
    "\n",
    "    # process of dataloader\n",
    "    def process_dl(self, epoch, anneal_start, device, dl, train,\n",
    "                   enc_opt=None, dec_opt=None, pp_opt=None):\n",
    "        num_loaders = len(dl)\n",
    "        loader_loss = 0\n",
    "        recon_loss_epoch = 0\n",
    "        kld_epoch = 0\n",
    "        reg_loss_epoch = 0\n",
    "\n",
    "        for input_tensors, target_tensors, property_values in dl:\n",
    "            loss, reconstruction_loss, kl_divergence, reg_loss = \\\n",
    "                self.get_losses(epoch, device, anneal_start, input_tensors, target_tensors, property_values)\n",
    "            \n",
    "            if train:\n",
    "                enc_opt.zero_grad()\n",
    "                dec_opt.zero_grad()\n",
    "                pp_opt.zero_grad()\n",
    "\n",
    "                loss.backward()\n",
    "\n",
    "                enc_opt.step()\n",
    "                dec_opt.step()\n",
    "                pp_opt.step()\n",
    "\n",
    "            loader_loss += loss.item()\n",
    "            recon_loss_epoch += reconstruction_loss.item()\n",
    "            kld_epoch += kl_divergence.item()\n",
    "            reg_loss_epoch += reg_loss.item()\n",
    "\n",
    "        loader_loss /= num_loaders\n",
    "        recon_loss_epoch /= num_loaders\n",
    "        kld_epoch /= num_loaders\n",
    "        reg_loss_epoch /= num_loaders\n",
    "\n",
    "        return (loader_loss, recon_loss_epoch, kld_epoch, reg_loss_epoch)\n",
    "    \n",
    "    def save_parameters_and_losses(self,train_losses:list, val_losses:list):\n",
    "\n",
    "        # save the models\n",
    "        torch.save(self.encoder.state_dict(), self.encoder_file)\n",
    "        torch.save(self.decoder.state_dict(), self.decoder_file)\n",
    "        torch.save(self.property_predictor.state_dict(), self.property_predictor_file)\n",
    "\n",
    "        # save train losses\n",
    "        temp_df = pd.DataFrame(data=train_losses, columns=self.loss_columns)\n",
    "        self.train_losses_df = self.train_losses_df.append(temp_df, ignore_index=True)\n",
    "        self.train_losses_df.to_csv(self.train_losses_file, index=False)\n",
    "\n",
    "        #save val losses\n",
    "        temp_df = pd.DataFrame(data=val_losses, columns=self.loss_columns)\n",
    "        self.val_losses_df = self.val_losses_df.append(temp_df, ignore_index=True)\n",
    "        self.val_losses_df.to_csv(self.val_losses_file, index=False)\n",
    "\n",
    "    def load_parameters_and_losses(self):\n",
    "\n",
    "        #load the models\n",
    "        self.encoder.load_state_dict(torch.load(self.decoder_file))\n",
    "        self.decoder.load_state_dict(torch.load(self.decoder_file))\n",
    "        self.property_predictor.load_state_dict(torch.load(self.property_predictor_file))\n",
    "\n",
    "        #load the losses\n",
    "        self.train_losses_df = pd.read_csv(self.train_losses_file)\n",
    "        self.val_losses_df = pd.read_csv(self.val_losses_file)\n",
    "\n",
    "    def print_result(self, epoch, start_time, train_loss, val_loss):\n",
    "        print(f\"Epoch: {epoch + 1:3d} | \" + \\\n",
    "                  f\"Train Loss: {train_loss[0]:10.5f} | Val Loss: {val_loss[0]:10.5f} | \" + \\\n",
    "                  f\"Time Taken: {self.__time_since(start_time)}\")\n",
    "        print(f\"Train Recon Loss: {train_loss[1]:10.5f} | Val Recon Loss: {val_loss[1]:10.5f}\")\n",
    "        print(f\"Train KLD: {train_loss[2]:10.5f} | Val KLD: {val_loss[2]:10.5f}\")\n",
    "        print(f\"Train Reg Loss: {train_loss[3]:10.5f} | Val Reg Loss: {val_loss[3]:10.5f}\\n\")\n",
    "\n",
    "    # 本体, 学習時に呼び出す関数\n",
    "    def fit(self, epochs, save_every, anneal_start, lr, train_dl, valid_dl, device, load_previous=False):\n",
    "\n",
    "        # initialize networks\n",
    "        self.initialize_networks()\n",
    "\n",
    "        # put networks on the device\n",
    "        self.encoder = self.encoder.to(device)\n",
    "        self.decoder = self.decoder.to(device)\n",
    "        self.property_predictor = self.property_predictor.to(device)\n",
    "\n",
    "        # 学習済みモデルをloadするとき\n",
    "        if load_previous:\n",
    "            self.load_parameters_and_losses()\n",
    "\n",
    "        # optimizerの初期化\n",
    "        enc_opt = optim.Adam(self.encoder.parameters(), lr=lr)\n",
    "        dec_opt = optim.Adam(self.decoder.parameters(), lr=lr)\n",
    "        pp_opt = optim.Adam(self.property_predictor.parameters(), lr=lr)\n",
    "\n",
    "        # loss listの初期化\n",
    "        train_losses = []\n",
    "        val_losses = []\n",
    "        prev_n_epochs = len(self.train_losses_df)\n",
    "\n",
    "        # 時間を測る\n",
    "        start_time = time()\n",
    "\n",
    "        for epoch in tqdm(range(prev_n_epochs, epochs)):\n",
    "\n",
    "            #学習モード\n",
    "            self.encoder.train()\n",
    "            self.decoder.train()\n",
    "            self.property_predictor.train()\n",
    "\n",
    "            #損失の計算 & 誤差伝播\n",
    "            train_loss = self.process_dl(epoch, anneal_start, device, train_dl, True, enc_opt, dec_opt, pp_opt)\n",
    "            train_losses.append(train_loss)\n",
    "\n",
    "            #評価モード\n",
    "            self.encoder.eval()\n",
    "            self.decoder.eval()\n",
    "            self.property_predictor.eval()\n",
    "\n",
    "            with torch.no_grad():\n",
    "                #損失の計算 & 誤差伝播\n",
    "                val_loss = self.process_dl(epoch, anneal_start, device, valid_dl, False)\n",
    "                val_losses.append(val_loss)\n",
    "\n",
    "            # 結果の出力\n",
    "            #if epoch % 10 == 9:\n",
    "            self.print_result(epoch, start_time, train_loss, val_loss)\n",
    "\n",
    "            # モデルとlossesの保存\n",
    "            if epoch % save_every == save_every - 1:\n",
    "                self.save_parameters_and_losses(train_losses,val_losses)\n",
    "                train_losses = []\n",
    "                val_losses = []\n",
    "\n",
    "        self.save_parameters_and_losses(train_losses, val_losses)\n",
    "\n",
    "        del self.encoder\n",
    "        del self.decoder\n",
    "        del self.property_predictor\n",
    "\n",
    "    # loss plot\n",
    "    def plot_losses(self):\n",
    "        \n",
    "        train_losses_df = pd.read_csv(self.train_losses_file)\n",
    "        val_losses_df = pd.read_csv(self.val_losses_file)\n",
    "        \n",
    "        plt.rcParams.update({'font.size': 15})\n",
    "        fig, ((ax1, ax2), (ax3, ax4)) = plt.subplots(2, 2, figsize=(20,10))\n",
    "        \n",
    "                \n",
    "        ax1.plot(train_losses_df['total_loss'], label='Train')\n",
    "        ax1.plot(val_losses_df['total_loss'], label='Validation')\n",
    "        ax1.set_ylabel('Total Loss')\n",
    "        ax1.legend(loc='upper right')\n",
    "        \n",
    "        ax2.plot(train_losses_df['reconstruction_loss'], label='Train')\n",
    "        ax2.plot(val_losses_df['reconstruction_loss'], label='Validation')\n",
    "        ax2.set_ylabel('Reconstruction Loss')\n",
    "        ax2.legend(loc='upper right')\n",
    "        \n",
    "        ax3.plot(train_losses_df['kl_divergence'], label='Train')\n",
    "        ax3.plot(val_losses_df['kl_divergence'], label='Validation')\n",
    "        ax3.set_yscale('log')\n",
    "        ax3.set_xlabel('Epoch')\n",
    "        ax3.set_ylabel('KL Divergence')\n",
    "        ax3.legend(loc='upper right')\n",
    "        \n",
    "        \n",
    "        ax4.plot(train_losses_df['regression_loss'], label='Train')\n",
    "        ax4.plot(val_losses_df['regression_loss'], label='Validation')\n",
    "        ax4.set_xlabel('Epoch')\n",
    "        ax4.set_ylabel('Regression Loss')\n",
    "        ax4.legend(loc='upper right')\n",
    "        \n",
    "        plt.savefig(pathlib.Path(MODELS_DIR, f\"{self.reg_col}_losses.png\"))\n",
    "        plt.show()\n",
    "\n",
    "        \n"
   ]
  },
  {
   "cell_type": "code",
   "execution_count": 12,
   "metadata": {},
   "outputs": [],
   "source": [
    "def get_dataloaders(df, train_idx, valid_idx, max_samples, bs):\n",
    "    start_time = time()\n",
    "    train_dl = vae_utils.get_dl(df, train_idx[:max_samples], bs, shuffle=True)\n",
    "    val_dl = vae_utils.get_dl(df, valid_idx[:max_samples],bs)\n",
    "    print(f'Time taken to get dataloaders: {time() - start_time:.2f}s')\n",
    "\n",
    "    return train_dl, val_dl"
   ]
  },
  {
   "cell_type": "code",
   "execution_count": 13,
   "metadata": {},
   "outputs": [],
   "source": [
    "def get_pred_mae(reg_col, df, test_idx, bs):\n",
    "    encoder = Encoder(vae_utils.n_letters, NLATENT, DECODER_HIDDEN_SIZE)\n",
    "    property_predictor = PropertyPredictor(NLATENT)\n",
    "\n",
    "    encoder.load_state_dict(torch.load(pathlib.Path(MODELS_DIR, f'{reg_col}_encoder.pth')))\n",
    "    property_predictor.load_state_dict(torch.load(pathlib.Path(MODELS_DIR, f'{reg_col}_property_predictor.pth')))\n",
    "\n",
    "    dl = vae_utils.get_dl(df,test_idx, bs)\n",
    "\n",
    "    encoder.eval()\n",
    "    property_predictor.eval()\n",
    "\n",
    "    with torch.no_grad():\n",
    "        abs_errors = []\n",
    "        for input_tensors, target_tensors, property_values in dl:\n",
    "            z, mean, log_var, dec_init_hidden = encoder(input_tensors)\n",
    "            reg_pred = property_predictor(mean)\n",
    "            abs_error = torch.abs(property_values - reg_pred.flatten())\n",
    "            abs_errors.append(abs_error)\n",
    "        \n",
    "        abs_errors = torch.cat(abs_errors)\n",
    "        mae_error = abs_errors.mean()\n",
    "\n",
    "    return mae_error"
   ]
  },
  {
   "cell_type": "markdown",
   "metadata": {},
   "source": [
    "## Define Parameters for Training"
   ]
  },
  {
   "cell_type": "code",
   "execution_count": 14,
   "metadata": {},
   "outputs": [],
   "source": [
    "valid_pct = .1\n",
    "bs = 128\n",
    "max_samples = 250000\n",
    "device = torch.device('cuda:0') if torch.cuda.is_available() else torch.device('cpu')\n",
    "epochs = 120\n",
    "save_every = 2\n",
    "anneal_start = 29\n",
    "lr = 0.0005\n",
    "load_previous = True"
   ]
  },
  {
   "cell_type": "markdown",
   "metadata": {},
   "source": [
    "## Train and Test the Network for logP"
   ]
  },
  {
   "cell_type": "code",
   "execution_count": 15,
   "metadata": {},
   "outputs": [],
   "source": [
    "errors = []"
   ]
  },
  {
   "cell_type": "code",
   "execution_count": 16,
   "metadata": {},
   "outputs": [],
   "source": [
    "reg_col = 'logP'\n",
    "df, train_idx, valid_idx, test_idx = vae_utils.get_train_valid_test_splits(reg_col, valid_pct)\n",
    "trainer = Trainer(reg_col)"
   ]
  },
  {
   "cell_type": "code",
   "execution_count": 17,
   "metadata": {},
   "outputs": [
    {
     "name": "stderr",
     "output_type": "stream",
     "text": [
      "100%|██████████| 224018/224018 [05:04<00:00, 735.04it/s]\n",
      "100%|██████████| 24891/24891 [00:33<00:00, 735.75it/s]"
     ]
    },
    {
     "name": "stdout",
     "output_type": "stream",
     "text": [
      "Time taken to get dataloaders: 339.20s\n"
     ]
    },
    {
     "name": "stderr",
     "output_type": "stream",
     "text": [
      "\n"
     ]
    }
   ],
   "source": [
    "train_dl, valid_dl = get_dataloaders(df, train_idx, valid_idx, max_samples, bs)"
   ]
  },
  {
   "cell_type": "code",
   "execution_count": null,
   "metadata": {},
   "outputs": [
    {
     "name": "stderr",
     "output_type": "stream",
     "text": [
      "  1%|          | 1/120 [02:26<4:50:25, 146.44s/it]"
     ]
    },
    {
     "name": "stdout",
     "output_type": "stream",
     "text": [
      "Epoch:   1 | Train Loss:    0.72677 | Val Loss:    0.47915 | Time Taken: 2m 26s\n",
      "Train Recon Loss:    0.40482 | Val Recon Loss:    0.27314\n",
      "Train KLD: 12703.20444 | Val KLD: 12992.78346\n",
      "Train Reg Loss:    0.32195 | Val Reg Loss:    0.20601\n",
      "\n"
     ]
    },
    {
     "name": "stderr",
     "output_type": "stream",
     "text": [
      "/scr/14083913.1.all.q/ipykernel_34881/150529367.py:115: FutureWarning: The frame.append method is deprecated and will be removed from pandas in a future version. Use pandas.concat instead.\n",
      "  self.train_losses_df = self.train_losses_df.append(temp_df, ignore_index=True)\n",
      "/scr/14083913.1.all.q/ipykernel_34881/150529367.py:120: FutureWarning: The frame.append method is deprecated and will be removed from pandas in a future version. Use pandas.concat instead.\n",
      "  self.val_losses_df = self.val_losses_df.append(temp_df, ignore_index=True)\n",
      "  2%|▏         | 2/120 [04:52<4:47:52, 146.38s/it]"
     ]
    },
    {
     "name": "stdout",
     "output_type": "stream",
     "text": [
      "Epoch:   2 | Train Loss:    0.38495 | Val Loss:    0.32529 | Time Taken: 4m 53s\n",
      "Train Recon Loss:    0.25541 | Val Recon Loss:    0.24572\n",
      "Train KLD: 15004.16874 | Val KLD: 15083.56601\n",
      "Train Reg Loss:    0.12954 | Val Reg Loss:    0.07956\n",
      "\n"
     ]
    },
    {
     "name": "stderr",
     "output_type": "stream",
     "text": [
      "  2%|▎         | 3/120 [07:18<4:45:01, 146.17s/it]"
     ]
    },
    {
     "name": "stdout",
     "output_type": "stream",
     "text": [
      "Epoch:   3 | Train Loss:    0.34969 | Val Loss:    0.38503 | Time Taken: 7m 19s\n",
      "Train Recon Loss:    0.23748 | Val Recon Loss:    0.23290\n",
      "Train KLD: 15757.58905 | Val KLD: 16461.51332\n",
      "Train Reg Loss:    0.11222 | Val Reg Loss:    0.15213\n",
      "\n"
     ]
    },
    {
     "name": "stderr",
     "output_type": "stream",
     "text": [
      "/scr/14083913.1.all.q/ipykernel_34881/150529367.py:115: FutureWarning: The frame.append method is deprecated and will be removed from pandas in a future version. Use pandas.concat instead.\n",
      "  self.train_losses_df = self.train_losses_df.append(temp_df, ignore_index=True)\n",
      "/scr/14083913.1.all.q/ipykernel_34881/150529367.py:120: FutureWarning: The frame.append method is deprecated and will be removed from pandas in a future version. Use pandas.concat instead.\n",
      "  self.val_losses_df = self.val_losses_df.append(temp_df, ignore_index=True)\n",
      "  3%|▎         | 4/120 [09:44<4:42:19, 146.03s/it]"
     ]
    },
    {
     "name": "stdout",
     "output_type": "stream",
     "text": [
      "Epoch:   4 | Train Loss:    0.32967 | Val Loss:    0.29303 | Time Taken: 9m 44s\n",
      "Train Recon Loss:    0.22780 | Val Recon Loss:    0.22507\n",
      "Train KLD: 15828.60130 | Val KLD: 16089.54609\n",
      "Train Reg Loss:    0.10187 | Val Reg Loss:    0.06796\n",
      "\n"
     ]
    },
    {
     "name": "stderr",
     "output_type": "stream",
     "text": [
      "  4%|▍         | 5/120 [12:10<4:40:03, 146.12s/it]"
     ]
    },
    {
     "name": "stdout",
     "output_type": "stream",
     "text": [
      "Epoch:   5 | Train Loss:    0.31331 | Val Loss:    0.26854 | Time Taken: 12m 11s\n",
      "Train Recon Loss:    0.22090 | Val Recon Loss:    0.22084\n",
      "Train KLD: 15864.75231 | Val KLD: 16334.54238\n",
      "Train Reg Loss:    0.09241 | Val Reg Loss:    0.04769\n",
      "\n"
     ]
    },
    {
     "name": "stderr",
     "output_type": "stream",
     "text": [
      "/scr/14083913.1.all.q/ipykernel_34881/150529367.py:115: FutureWarning: The frame.append method is deprecated and will be removed from pandas in a future version. Use pandas.concat instead.\n",
      "  self.train_losses_df = self.train_losses_df.append(temp_df, ignore_index=True)\n",
      "/scr/14083913.1.all.q/ipykernel_34881/150529367.py:120: FutureWarning: The frame.append method is deprecated and will be removed from pandas in a future version. Use pandas.concat instead.\n",
      "  self.val_losses_df = self.val_losses_df.append(temp_df, ignore_index=True)\n",
      "  5%|▌         | 6/120 [14:37<4:37:56, 146.28s/it]"
     ]
    },
    {
     "name": "stdout",
     "output_type": "stream",
     "text": [
      "Epoch:   6 | Train Loss:    0.30660 | Val Loss:    0.25903 | Time Taken: 14m 37s\n",
      "Train Recon Loss:    0.21505 | Val Recon Loss:    0.21563\n",
      "Train KLD: 15637.10571 | Val KLD: 15056.91648\n",
      "Train Reg Loss:    0.09154 | Val Reg Loss:    0.04340\n",
      "\n"
     ]
    },
    {
     "name": "stderr",
     "output_type": "stream",
     "text": [
      "  6%|▌         | 7/120 [17:03<4:35:30, 146.29s/it]"
     ]
    },
    {
     "name": "stdout",
     "output_type": "stream",
     "text": [
      "Epoch:   7 | Train Loss:    0.29958 | Val Loss:    0.25131 | Time Taken: 17m 4s\n",
      "Train Recon Loss:    0.21063 | Val Recon Loss:    0.21143\n",
      "Train KLD: 14588.82643 | Val KLD: 14557.24907\n",
      "Train Reg Loss:    0.08895 | Val Reg Loss:    0.03988\n",
      "\n"
     ]
    },
    {
     "name": "stderr",
     "output_type": "stream",
     "text": [
      "/scr/14083913.1.all.q/ipykernel_34881/150529367.py:115: FutureWarning: The frame.append method is deprecated and will be removed from pandas in a future version. Use pandas.concat instead.\n",
      "  self.train_losses_df = self.train_losses_df.append(temp_df, ignore_index=True)\n",
      "/scr/14083913.1.all.q/ipykernel_34881/150529367.py:120: FutureWarning: The frame.append method is deprecated and will be removed from pandas in a future version. Use pandas.concat instead.\n",
      "  self.val_losses_df = self.val_losses_df.append(temp_df, ignore_index=True)\n",
      "  7%|▋         | 8/120 [19:30<4:33:05, 146.30s/it]"
     ]
    },
    {
     "name": "stdout",
     "output_type": "stream",
     "text": [
      "Epoch:   8 | Train Loss:    0.28479 | Val Loss:    0.25915 | Time Taken: 19m 30s\n",
      "Train Recon Loss:    0.20640 | Val Recon Loss:    0.20947\n",
      "Train KLD: 14137.17711 | Val KLD: 13780.96510\n",
      "Train Reg Loss:    0.07838 | Val Reg Loss:    0.04968\n",
      "\n"
     ]
    },
    {
     "name": "stderr",
     "output_type": "stream",
     "text": [
      "  8%|▊         | 9/120 [21:56<4:30:36, 146.27s/it]"
     ]
    },
    {
     "name": "stdout",
     "output_type": "stream",
     "text": [
      "Epoch:   9 | Train Loss:    0.28338 | Val Loss:    0.26291 | Time Taken: 21m 56s\n",
      "Train Recon Loss:    0.20305 | Val Recon Loss:    0.20709\n",
      "Train KLD: 13087.03261 | Val KLD: 12234.12798\n",
      "Train Reg Loss:    0.08031 | Val Reg Loss:    0.05581\n",
      "\n"
     ]
    },
    {
     "name": "stderr",
     "output_type": "stream",
     "text": [
      "/scr/14083913.1.all.q/ipykernel_34881/150529367.py:115: FutureWarning: The frame.append method is deprecated and will be removed from pandas in a future version. Use pandas.concat instead.\n",
      "  self.train_losses_df = self.train_losses_df.append(temp_df, ignore_index=True)\n",
      "/scr/14083913.1.all.q/ipykernel_34881/150529367.py:120: FutureWarning: The frame.append method is deprecated and will be removed from pandas in a future version. Use pandas.concat instead.\n",
      "  self.val_losses_df = self.val_losses_df.append(temp_df, ignore_index=True)\n",
      "  8%|▊         | 10/120 [24:22<4:28:11, 146.29s/it]"
     ]
    },
    {
     "name": "stdout",
     "output_type": "stream",
     "text": [
      "Epoch:  10 | Train Loss:    0.27776 | Val Loss:    0.23927 | Time Taken: 24m 22s\n",
      "Train Recon Loss:    0.20009 | Val Recon Loss:    0.20542\n",
      "Train KLD: 12115.06120 | Val KLD: 11837.07260\n",
      "Train Reg Loss:    0.07764 | Val Reg Loss:    0.03382\n",
      "\n"
     ]
    },
    {
     "name": "stderr",
     "output_type": "stream",
     "text": [
      "  9%|▉         | 11/120 [26:48<4:25:46, 146.30s/it]"
     ]
    },
    {
     "name": "stdout",
     "output_type": "stream",
     "text": [
      "Epoch:  11 | Train Loss:    0.27291 | Val Loss:    0.24553 | Time Taken: 26m 49s\n",
      "Train Recon Loss:    0.19738 | Val Recon Loss:    0.20444\n",
      "Train KLD: 11186.66770 | Val KLD: 10562.47121\n",
      "Train Reg Loss:    0.07547 | Val Reg Loss:    0.04103\n",
      "\n"
     ]
    },
    {
     "name": "stderr",
     "output_type": "stream",
     "text": [
      "/scr/14083913.1.all.q/ipykernel_34881/150529367.py:115: FutureWarning: The frame.append method is deprecated and will be removed from pandas in a future version. Use pandas.concat instead.\n",
      "  self.train_losses_df = self.train_losses_df.append(temp_df, ignore_index=True)\n",
      "/scr/14083913.1.all.q/ipykernel_34881/150529367.py:120: FutureWarning: The frame.append method is deprecated and will be removed from pandas in a future version. Use pandas.concat instead.\n",
      "  self.val_losses_df = self.val_losses_df.append(temp_df, ignore_index=True)\n",
      " 10%|█         | 12/120 [29:15<4:23:22, 146.31s/it]"
     ]
    },
    {
     "name": "stdout",
     "output_type": "stream",
     "text": [
      "Epoch:  12 | Train Loss:    0.26745 | Val Loss:    0.23871 | Time Taken: 29m 15s\n",
      "Train Recon Loss:    0.19507 | Val Recon Loss:    0.20284\n",
      "Train KLD: 10606.62783 | Val KLD: 10141.50743\n",
      "Train Reg Loss:    0.07222 | Val Reg Loss:    0.03571\n",
      "\n"
     ]
    },
    {
     "name": "stderr",
     "output_type": "stream",
     "text": [
      " 11%|█         | 13/120 [31:41<4:20:38, 146.16s/it]"
     ]
    },
    {
     "name": "stdout",
     "output_type": "stream",
     "text": [
      "Epoch:  13 | Train Loss:    0.26193 | Val Loss:    0.24900 | Time Taken: 31m 41s\n",
      "Train Recon Loss:    0.19302 | Val Recon Loss:    0.20154\n",
      "Train KLD: 9552.44876 | Val KLD: 9013.65718\n",
      "Train Reg Loss:    0.06852 | Val Reg Loss:    0.04708\n",
      "\n"
     ]
    },
    {
     "name": "stderr",
     "output_type": "stream",
     "text": [
      "/scr/14083913.1.all.q/ipykernel_34881/150529367.py:115: FutureWarning: The frame.append method is deprecated and will be removed from pandas in a future version. Use pandas.concat instead.\n",
      "  self.train_losses_df = self.train_losses_df.append(temp_df, ignore_index=True)\n",
      "/scr/14083913.1.all.q/ipykernel_34881/150529367.py:120: FutureWarning: The frame.append method is deprecated and will be removed from pandas in a future version. Use pandas.concat instead.\n",
      "  self.val_losses_df = self.val_losses_df.append(temp_df, ignore_index=True)\n",
      " 12%|█▏        | 14/120 [34:07<4:18:18, 146.21s/it]"
     ]
    },
    {
     "name": "stdout",
     "output_type": "stream",
     "text": [
      "Epoch:  14 | Train Loss:    0.26213 | Val Loss:    0.23477 | Time Taken: 34m 7s\n",
      "Train Recon Loss:    0.19113 | Val Recon Loss:    0.20089\n",
      "Train KLD: 8455.80423 | Val KLD: 7960.81027\n",
      "Train Reg Loss:    0.07005 | Val Reg Loss:    0.03298\n",
      "\n"
     ]
    },
    {
     "name": "stderr",
     "output_type": "stream",
     "text": [
      " 12%|█▎        | 15/120 [36:33<4:16:06, 146.34s/it]"
     ]
    },
    {
     "name": "stdout",
     "output_type": "stream",
     "text": [
      "Epoch:  15 | Train Loss:    0.25686 | Val Loss:    0.23478 | Time Taken: 36m 34s\n",
      "Train Recon Loss:    0.18928 | Val Recon Loss:    0.20055\n",
      "Train KLD: 7014.22022 | Val KLD: 6294.42828\n",
      "Train Reg Loss:    0.06543 | Val Reg Loss:    0.03230\n",
      "\n"
     ]
    },
    {
     "name": "stderr",
     "output_type": "stream",
     "text": [
      "/scr/14083913.1.all.q/ipykernel_34881/150529367.py:115: FutureWarning: The frame.append method is deprecated and will be removed from pandas in a future version. Use pandas.concat instead.\n",
      "  self.train_losses_df = self.train_losses_df.append(temp_df, ignore_index=True)\n",
      "/scr/14083913.1.all.q/ipykernel_34881/150529367.py:120: FutureWarning: The frame.append method is deprecated and will be removed from pandas in a future version. Use pandas.concat instead.\n",
      "  self.val_losses_df = self.val_losses_df.append(temp_df, ignore_index=True)\n",
      " 13%|█▎        | 16/120 [39:00<4:13:39, 146.34s/it]"
     ]
    },
    {
     "name": "stdout",
     "output_type": "stream",
     "text": [
      "Epoch:  16 | Train Loss:    0.25661 | Val Loss:    0.23404 | Time Taken: 39m 0s\n",
      "Train Recon Loss:    0.18763 | Val Recon Loss:    0.20042\n",
      "Train KLD: 5173.58329 | Val KLD: 4470.95959\n",
      "Train Reg Loss:    0.06468 | Val Reg Loss:    0.02990\n",
      "\n"
     ]
    },
    {
     "name": "stderr",
     "output_type": "stream",
     "text": [
      " 14%|█▍        | 17/120 [41:26<4:11:04, 146.26s/it]"
     ]
    },
    {
     "name": "stdout",
     "output_type": "stream",
     "text": [
      "Epoch:  17 | Train Loss:    0.25408 | Val Loss:    0.23871 | Time Taken: 41m 26s\n",
      "Train Recon Loss:    0.18618 | Val Recon Loss:    0.20013\n",
      "Train KLD: 3163.97777 | Val KLD: 2659.37665\n",
      "Train Reg Loss:    0.06075 | Val Reg Loss:    0.03257\n",
      "\n"
     ]
    },
    {
     "name": "stderr",
     "output_type": "stream",
     "text": [
      "/scr/14083913.1.all.q/ipykernel_34881/150529367.py:115: FutureWarning: The frame.append method is deprecated and will be removed from pandas in a future version. Use pandas.concat instead.\n",
      "  self.train_losses_df = self.train_losses_df.append(temp_df, ignore_index=True)\n",
      "/scr/14083913.1.all.q/ipykernel_34881/150529367.py:120: FutureWarning: The frame.append method is deprecated and will be removed from pandas in a future version. Use pandas.concat instead.\n",
      "  self.val_losses_df = self.val_losses_df.append(temp_df, ignore_index=True)\n",
      " 15%|█▌        | 18/120 [43:52<4:08:44, 146.32s/it]"
     ]
    },
    {
     "name": "stdout",
     "output_type": "stream",
     "text": [
      "Epoch:  18 | Train Loss:    0.25724 | Val Loss:    0.25868 | Time Taken: 43m 53s\n",
      "Train Recon Loss:    0.18472 | Val Recon Loss:    0.19930\n",
      "Train KLD: 1642.84631 | Val KLD: 1238.29399\n",
      "Train Reg Loss:    0.06242 | Val Reg Loss:    0.05178\n",
      "\n"
     ]
    },
    {
     "name": "stderr",
     "output_type": "stream",
     "text": [
      " 16%|█▌        | 19/120 [46:19<4:06:28, 146.42s/it]"
     ]
    },
    {
     "name": "stdout",
     "output_type": "stream",
     "text": [
      "Epoch:  19 | Train Loss:    0.25464 | Val Loss:    0.25225 | Time Taken: 46m 20s\n",
      "Train Recon Loss:    0.18345 | Val Recon Loss:    0.19881\n",
      "Train KLD:  740.70188 | Val KLD:  538.79169\n",
      "Train Reg Loss:    0.05881 | Val Reg Loss:    0.04444\n",
      "\n"
     ]
    },
    {
     "name": "stderr",
     "output_type": "stream",
     "text": [
      "/scr/14083913.1.all.q/ipykernel_34881/150529367.py:115: FutureWarning: The frame.append method is deprecated and will be removed from pandas in a future version. Use pandas.concat instead.\n",
      "  self.train_losses_df = self.train_losses_df.append(temp_df, ignore_index=True)\n",
      "/scr/14083913.1.all.q/ipykernel_34881/150529367.py:120: FutureWarning: The frame.append method is deprecated and will be removed from pandas in a future version. Use pandas.concat instead.\n",
      "  self.val_losses_df = self.val_losses_df.append(temp_df, ignore_index=True)\n",
      " 17%|█▋        | 20/120 [48:45<4:03:51, 146.31s/it]"
     ]
    },
    {
     "name": "stdout",
     "output_type": "stream",
     "text": [
      "Epoch:  20 | Train Loss:    0.25298 | Val Loss:    0.24279 | Time Taken: 48m 46s\n",
      "Train Recon Loss:    0.18218 | Val Recon Loss:    0.19960\n",
      "Train KLD:  314.69882 | Val KLD:  237.55411\n",
      "Train Reg Loss:    0.05651 | Val Reg Loss:    0.03240\n",
      "\n"
     ]
    },
    {
     "name": "stderr",
     "output_type": "stream",
     "text": [
      " 18%|█▊        | 21/120 [51:11<4:01:27, 146.34s/it]"
     ]
    },
    {
     "name": "stdout",
     "output_type": "stream",
     "text": [
      "Epoch:  21 | Train Loss:    0.25279 | Val Loss:    0.31680 | Time Taken: 51m 12s\n",
      "Train Recon Loss:    0.18108 | Val Recon Loss:    0.19907\n",
      "Train KLD:  127.67261 | Val KLD:  102.14832\n",
      "Train Reg Loss:    0.05596 | Val Reg Loss:    0.10512\n",
      "\n"
     ]
    },
    {
     "name": "stderr",
     "output_type": "stream",
     "text": [
      "/scr/14083913.1.all.q/ipykernel_34881/150529367.py:115: FutureWarning: The frame.append method is deprecated and will be removed from pandas in a future version. Use pandas.concat instead.\n",
      "  self.train_losses_df = self.train_losses_df.append(temp_df, ignore_index=True)\n",
      "/scr/14083913.1.all.q/ipykernel_34881/150529367.py:120: FutureWarning: The frame.append method is deprecated and will be removed from pandas in a future version. Use pandas.concat instead.\n",
      "  self.val_losses_df = self.val_losses_df.append(temp_df, ignore_index=True)\n",
      " 18%|█▊        | 22/120 [53:38<3:59:15, 146.49s/it]"
     ]
    },
    {
     "name": "stdout",
     "output_type": "stream",
     "text": [
      "Epoch:  22 | Train Loss:    0.25386 | Val Loss:    0.27020 | Time Taken: 53m 39s\n",
      "Train Recon Loss:    0.17994 | Val Recon Loss:    0.19918\n",
      "Train KLD:   52.52514 | Val KLD:   44.49156\n",
      "Train Reg Loss:    0.05630 | Val Reg Loss:    0.05610\n",
      "\n"
     ]
    },
    {
     "name": "stderr",
     "output_type": "stream",
     "text": [
      " 19%|█▉        | 23/120 [56:05<3:57:02, 146.62s/it]"
     ]
    },
    {
     "name": "stdout",
     "output_type": "stream",
     "text": [
      "Epoch:  23 | Train Loss:    0.25461 | Val Loss:    0.25126 | Time Taken: 56m 6s\n",
      "Train Recon Loss:    0.17897 | Val Recon Loss:    0.19955\n",
      "Train KLD:   21.38021 | Val KLD:   19.43616\n",
      "Train Reg Loss:    0.05617 | Val Reg Loss:    0.03400\n",
      "\n"
     ]
    },
    {
     "name": "stderr",
     "output_type": "stream",
     "text": [
      "/scr/14083913.1.all.q/ipykernel_34881/150529367.py:115: FutureWarning: The frame.append method is deprecated and will be removed from pandas in a future version. Use pandas.concat instead.\n",
      "  self.train_losses_df = self.train_losses_df.append(temp_df, ignore_index=True)\n",
      "/scr/14083913.1.all.q/ipykernel_34881/150529367.py:120: FutureWarning: The frame.append method is deprecated and will be removed from pandas in a future version. Use pandas.concat instead.\n",
      "  self.val_losses_df = self.val_losses_df.append(temp_df, ignore_index=True)\n",
      " 20%|██        | 24/120 [58:31<3:54:21, 146.47s/it]"
     ]
    },
    {
     "name": "stdout",
     "output_type": "stream",
     "text": [
      "Epoch:  24 | Train Loss:    0.25554 | Val Loss:    0.25852 | Time Taken: 58m 32s\n",
      "Train Recon Loss:    0.17789 | Val Recon Loss:    0.19907\n",
      "Train KLD:    8.72691 | Val KLD:    8.78952\n",
      "Train Reg Loss:    0.05607 | Val Reg Loss:    0.03772\n",
      "\n"
     ]
    },
    {
     "name": "stderr",
     "output_type": "stream",
     "text": [
      " 21%|██        | 25/120 [1:00:58<3:51:55, 146.48s/it]"
     ]
    },
    {
     "name": "stdout",
     "output_type": "stream",
     "text": [
      "Epoch:  25 | Train Loss:    0.25815 | Val Loss:    0.27573 | Time Taken: 60m 58s\n",
      "Train Recon Loss:    0.17708 | Val Recon Loss:    0.19981\n",
      "Train KLD:    3.69160 | Val KLD:    3.47030\n",
      "Train Reg Loss:    0.05636 | Val Reg Loss:    0.05269\n",
      "\n",
      "Epoch:  26 | Train Loss:    0.26565 | Val Loss:    0.28886 | Time Taken: 63m 25s\n",
      "Train Recon Loss:    0.17615 | Val Recon Loss:    0.19980\n",
      "Train KLD:    1.63856 | Val KLD:    1.08343\n",
      "Train Reg Loss:    0.06002 | Val Reg Loss:    0.06957\n",
      "\n"
     ]
    },
    {
     "name": "stderr",
     "output_type": "stream",
     "text": [
      "/scr/14083913.1.all.q/ipykernel_34881/150529367.py:115: FutureWarning: The frame.append method is deprecated and will be removed from pandas in a future version. Use pandas.concat instead.\n",
      "  self.train_losses_df = self.train_losses_df.append(temp_df, ignore_index=True)\n",
      "/scr/14083913.1.all.q/ipykernel_34881/150529367.py:120: FutureWarning: The frame.append method is deprecated and will be removed from pandas in a future version. Use pandas.concat instead.\n",
      "  self.val_losses_df = self.val_losses_df.append(temp_df, ignore_index=True)\n",
      " 22%|██▎       | 27/120 [1:05:51<3:47:09, 146.55s/it]"
     ]
    },
    {
     "name": "stdout",
     "output_type": "stream",
     "text": [
      "Epoch:  27 | Train Loss:    0.27256 | Val Loss:    0.46945 | Time Taken: 65m 52s\n",
      "Train Recon Loss:    0.17542 | Val Recon Loss:    0.19959\n",
      "Train KLD:    0.72143 | Val KLD:    1.32079\n",
      "Train Reg Loss:    0.06292 | Val Reg Loss:    0.20722\n",
      "\n",
      "Epoch:  28 | Train Loss:    0.27450 | Val Loss:    0.25977 | Time Taken: 68m 18s\n",
      "Train Recon Loss:    0.17457 | Val Recon Loss:    0.20018\n",
      "Train KLD:    0.30160 | Val KLD:    0.18320\n",
      "Train Reg Loss:    0.06398 | Val Reg Loss:    0.03775\n",
      "\n"
     ]
    },
    {
     "name": "stderr",
     "output_type": "stream",
     "text": [
      "/scr/14083913.1.all.q/ipykernel_34881/150529367.py:115: FutureWarning: The frame.append method is deprecated and will be removed from pandas in a future version. Use pandas.concat instead.\n",
      "  self.train_losses_df = self.train_losses_df.append(temp_df, ignore_index=True)\n",
      "/scr/14083913.1.all.q/ipykernel_34881/150529367.py:120: FutureWarning: The frame.append method is deprecated and will be removed from pandas in a future version. Use pandas.concat instead.\n",
      "  self.val_losses_df = self.val_losses_df.append(temp_df, ignore_index=True)\n",
      " 24%|██▍       | 29/120 [1:10:44<3:42:05, 146.44s/it]"
     ]
    },
    {
     "name": "stdout",
     "output_type": "stream",
     "text": [
      "Epoch:  29 | Train Loss:    0.27377 | Val Loss:    0.27330 | Time Taken: 70m 45s\n",
      "Train Recon Loss:    0.17383 | Val Recon Loss:    0.19991\n",
      "Train KLD:    0.13334 | Val KLD:    0.11632\n",
      "Train Reg Loss:    0.06408 | Val Reg Loss:    0.04211\n",
      "\n",
      "Epoch:  30 | Train Loss:    0.27432 | Val Loss:    0.27471 | Time Taken: 73m 13s\n",
      "Train Recon Loss:    0.17317 | Val Recon Loss:    0.20055\n",
      "Train KLD:    0.06989 | Val KLD:    0.05508\n",
      "Train Reg Loss:    0.06620 | Val Reg Loss:    0.04662\n",
      "\n"
     ]
    },
    {
     "name": "stderr",
     "output_type": "stream",
     "text": [
      "/scr/14083913.1.all.q/ipykernel_34881/150529367.py:115: FutureWarning: The frame.append method is deprecated and will be removed from pandas in a future version. Use pandas.concat instead.\n",
      "  self.train_losses_df = self.train_losses_df.append(temp_df, ignore_index=True)\n",
      "/scr/14083913.1.all.q/ipykernel_34881/150529367.py:120: FutureWarning: The frame.append method is deprecated and will be removed from pandas in a future version. Use pandas.concat instead.\n",
      "  self.val_losses_df = self.val_losses_df.append(temp_df, ignore_index=True)\n",
      " 26%|██▌       | 31/120 [1:15:39<3:37:46, 146.82s/it]"
     ]
    },
    {
     "name": "stdout",
     "output_type": "stream",
     "text": [
      "Epoch:  31 | Train Loss:    0.26437 | Val Loss:    0.26831 | Time Taken: 75m 39s\n",
      "Train Recon Loss:    0.17246 | Val Recon Loss:    0.20050\n",
      "Train KLD:    0.03745 | Val KLD:    0.02443\n",
      "Train Reg Loss:    0.06452 | Val Reg Loss:    0.04995\n",
      "\n"
     ]
    },
    {
     "name": "stderr",
     "output_type": "stream",
     "text": [
      "/scr/14083913.1.all.q/ipykernel_34881/150529367.py:115: FutureWarning: The frame.append method is deprecated and will be removed from pandas in a future version. Use pandas.concat instead.\n",
      "  self.train_losses_df = self.train_losses_df.append(temp_df, ignore_index=True)\n",
      "/scr/14083913.1.all.q/ipykernel_34881/150529367.py:120: FutureWarning: The frame.append method is deprecated and will be removed from pandas in a future version. Use pandas.concat instead.\n",
      "  self.val_losses_df = self.val_losses_df.append(temp_df, ignore_index=True)\n",
      " 27%|██▋       | 32/120 [1:18:05<3:35:02, 146.62s/it]"
     ]
    },
    {
     "name": "stdout",
     "output_type": "stream",
     "text": [
      "Epoch:  32 | Train Loss:    0.24617 | Val Loss:    0.24508 | Time Taken: 78m 5s\n",
      "Train Recon Loss:    0.17189 | Val Recon Loss:    0.20085\n",
      "Train KLD:    0.01752 | Val KLD:    0.01316\n",
      "Train Reg Loss:    0.05885 | Val Reg Loss:    0.03264\n",
      "\n"
     ]
    },
    {
     "name": "stderr",
     "output_type": "stream",
     "text": [
      " 28%|██▊       | 33/120 [1:20:31<3:32:26, 146.51s/it]"
     ]
    },
    {
     "name": "stdout",
     "output_type": "stream",
     "text": [
      "Epoch:  33 | Train Loss:    0.23854 | Val Loss:    0.24769 | Time Taken: 80m 32s\n",
      "Train Recon Loss:    0.17126 | Val Recon Loss:    0.20112\n",
      "Train KLD:    0.01266 | Val KLD:    0.01303\n",
      "Train Reg Loss:    0.05521 | Val Reg Loss:    0.03415\n",
      "\n"
     ]
    },
    {
     "name": "stderr",
     "output_type": "stream",
     "text": [
      "/scr/14083913.1.all.q/ipykernel_34881/150529367.py:115: FutureWarning: The frame.append method is deprecated and will be removed from pandas in a future version. Use pandas.concat instead.\n",
      "  self.train_losses_df = self.train_losses_df.append(temp_df, ignore_index=True)\n",
      "/scr/14083913.1.all.q/ipykernel_34881/150529367.py:120: FutureWarning: The frame.append method is deprecated and will be removed from pandas in a future version. Use pandas.concat instead.\n",
      "  self.val_losses_df = self.val_losses_df.append(temp_df, ignore_index=True)\n",
      " 28%|██▊       | 34/120 [1:22:58<3:29:59, 146.50s/it]"
     ]
    },
    {
     "name": "stdout",
     "output_type": "stream",
     "text": [
      "Epoch:  34 | Train Loss:    0.23248 | Val Loss:    0.25509 | Time Taken: 82m 58s\n",
      "Train Recon Loss:    0.17064 | Val Recon Loss:    0.20135\n",
      "Train KLD:    0.01030 | Val KLD:    0.00908\n",
      "Train Reg Loss:    0.05172 | Val Reg Loss:    0.04481\n",
      "\n"
     ]
    },
    {
     "name": "stderr",
     "output_type": "stream",
     "text": [
      " 29%|██▉       | 35/120 [1:25:24<3:27:23, 146.39s/it]"
     ]
    },
    {
     "name": "stdout",
     "output_type": "stream",
     "text": [
      "Epoch:  35 | Train Loss:    0.23160 | Val Loss:    0.27378 | Time Taken: 85m 24s\n",
      "Train Recon Loss:    0.17014 | Val Recon Loss:    0.20169\n",
      "Train KLD:    0.01017 | Val KLD:    0.01644\n",
      "Train Reg Loss:    0.05136 | Val Reg Loss:    0.05576\n",
      "\n"
     ]
    },
    {
     "name": "stderr",
     "output_type": "stream",
     "text": [
      "/scr/14083913.1.all.q/ipykernel_34881/150529367.py:115: FutureWarning: The frame.append method is deprecated and will be removed from pandas in a future version. Use pandas.concat instead.\n",
      "  self.train_losses_df = self.train_losses_df.append(temp_df, ignore_index=True)\n",
      "/scr/14083913.1.all.q/ipykernel_34881/150529367.py:120: FutureWarning: The frame.append method is deprecated and will be removed from pandas in a future version. Use pandas.concat instead.\n",
      "  self.val_losses_df = self.val_losses_df.append(temp_df, ignore_index=True)\n",
      " 30%|███       | 36/120 [1:27:50<3:24:53, 146.35s/it]"
     ]
    },
    {
     "name": "stdout",
     "output_type": "stream",
     "text": [
      "Epoch:  36 | Train Loss:    0.22746 | Val Loss:    0.31365 | Time Taken: 87m 50s\n",
      "Train Recon Loss:    0.16962 | Val Recon Loss:    0.20149\n",
      "Train KLD:    0.00899 | Val KLD:    0.01135\n",
      "Train Reg Loss:    0.04888 | Val Reg Loss:    0.10084\n",
      "\n"
     ]
    },
    {
     "name": "stderr",
     "output_type": "stream",
     "text": [
      " 31%|███       | 37/120 [1:30:17<3:22:51, 146.64s/it]"
     ]
    },
    {
     "name": "stdout",
     "output_type": "stream",
     "text": [
      "Epoch:  37 | Train Loss:    0.22798 | Val Loss:    0.24056 | Time Taken: 90m 18s\n",
      "Train Recon Loss:    0.16910 | Val Recon Loss:    0.20256\n",
      "Train KLD:    0.00893 | Val KLD:    0.00885\n",
      "Train Reg Loss:    0.04996 | Val Reg Loss:    0.02915\n",
      "\n",
      "Epoch:  38 | Train Loss:    0.22559 | Val Loss:    0.24249 | Time Taken: 92m 46s\n",
      "Train Recon Loss:    0.16865 | Val Recon Loss:    0.20246\n",
      "Train KLD:    0.00890 | Val KLD:    0.00881\n",
      "Train Reg Loss:    0.04804 | Val Reg Loss:    0.03122\n",
      "\n"
     ]
    },
    {
     "name": "stderr",
     "output_type": "stream",
     "text": [
      "/scr/14083913.1.all.q/ipykernel_34881/150529367.py:115: FutureWarning: The frame.append method is deprecated and will be removed from pandas in a future version. Use pandas.concat instead.\n",
      "  self.train_losses_df = self.train_losses_df.append(temp_df, ignore_index=True)\n",
      "/scr/14083913.1.all.q/ipykernel_34881/150529367.py:120: FutureWarning: The frame.append method is deprecated and will be removed from pandas in a future version. Use pandas.concat instead.\n",
      "  self.val_losses_df = self.val_losses_df.append(temp_df, ignore_index=True)\n",
      " 32%|███▎      | 39/120 [1:35:12<3:18:13, 146.84s/it]"
     ]
    },
    {
     "name": "stdout",
     "output_type": "stream",
     "text": [
      "Epoch:  39 | Train Loss:    0.22270 | Val Loss:    0.35938 | Time Taken: 95m 12s\n",
      "Train Recon Loss:    0.16816 | Val Recon Loss:    0.20336\n",
      "Train KLD:    0.00802 | Val KLD:    0.01770\n",
      "Train Reg Loss:    0.04652 | Val Reg Loss:    0.13832\n",
      "\n"
     ]
    },
    {
     "name": "stderr",
     "output_type": "stream",
     "text": [
      "/scr/14083913.1.all.q/ipykernel_34881/150529367.py:115: FutureWarning: The frame.append method is deprecated and will be removed from pandas in a future version. Use pandas.concat instead.\n",
      "  self.train_losses_df = self.train_losses_df.append(temp_df, ignore_index=True)\n",
      "/scr/14083913.1.all.q/ipykernel_34881/150529367.py:120: FutureWarning: The frame.append method is deprecated and will be removed from pandas in a future version. Use pandas.concat instead.\n",
      "  self.val_losses_df = self.val_losses_df.append(temp_df, ignore_index=True)\n",
      " 33%|███▎      | 40/120 [1:37:37<3:15:15, 146.45s/it]"
     ]
    },
    {
     "name": "stdout",
     "output_type": "stream",
     "text": [
      "Epoch:  40 | Train Loss:    0.22406 | Val Loss:    0.25536 | Time Taken: 97m 38s\n",
      "Train Recon Loss:    0.16762 | Val Recon Loss:    0.20361\n",
      "Train KLD:    0.00858 | Val KLD:    0.00984\n",
      "Train Reg Loss:    0.04786 | Val Reg Loss:    0.04191\n",
      "\n"
     ]
    },
    {
     "name": "stderr",
     "output_type": "stream",
     "text": [
      " 34%|███▍      | 41/120 [1:40:03<3:12:22, 146.11s/it]"
     ]
    },
    {
     "name": "stdout",
     "output_type": "stream",
     "text": [
      "Epoch:  41 | Train Loss:    0.22084 | Val Loss:    0.31020 | Time Taken: 100m 3s\n",
      "Train Recon Loss:    0.16726 | Val Recon Loss:    0.20374\n",
      "Train KLD:    0.00766 | Val KLD:    0.01448\n",
      "Train Reg Loss:    0.04592 | Val Reg Loss:    0.09198\n",
      "\n"
     ]
    },
    {
     "name": "stderr",
     "output_type": "stream",
     "text": [
      "/scr/14083913.1.all.q/ipykernel_34881/150529367.py:115: FutureWarning: The frame.append method is deprecated and will be removed from pandas in a future version. Use pandas.concat instead.\n",
      "  self.train_losses_df = self.train_losses_df.append(temp_df, ignore_index=True)\n",
      "/scr/14083913.1.all.q/ipykernel_34881/150529367.py:120: FutureWarning: The frame.append method is deprecated and will be removed from pandas in a future version. Use pandas.concat instead.\n",
      "  self.val_losses_df = self.val_losses_df.append(temp_df, ignore_index=True)\n",
      " 35%|███▌      | 42/120 [1:42:28<3:09:46, 145.98s/it]"
     ]
    },
    {
     "name": "stdout",
     "output_type": "stream",
     "text": [
      "Epoch:  42 | Train Loss:    0.22112 | Val Loss:    0.26425 | Time Taken: 102m 29s\n",
      "Train Recon Loss:    0.16683 | Val Recon Loss:    0.20435\n",
      "Train KLD:    0.00826 | Val KLD:    0.00803\n",
      "Train Reg Loss:    0.04603 | Val Reg Loss:    0.05187\n",
      "\n"
     ]
    },
    {
     "name": "stderr",
     "output_type": "stream",
     "text": [
      " 36%|███▌      | 43/120 [1:44:54<3:07:11, 145.86s/it]"
     ]
    },
    {
     "name": "stdout",
     "output_type": "stream",
     "text": [
      "Epoch:  43 | Train Loss:    0.22195 | Val Loss:    0.25952 | Time Taken: 104m 55s\n",
      "Train Recon Loss:    0.16643 | Val Recon Loss:    0.20426\n",
      "Train KLD:    0.00927 | Val KLD:    0.02139\n",
      "Train Reg Loss:    0.04625 | Val Reg Loss:    0.03387\n",
      "\n"
     ]
    },
    {
     "name": "stderr",
     "output_type": "stream",
     "text": [
      "/scr/14083913.1.all.q/ipykernel_34881/150529367.py:115: FutureWarning: The frame.append method is deprecated and will be removed from pandas in a future version. Use pandas.concat instead.\n",
      "  self.train_losses_df = self.train_losses_df.append(temp_df, ignore_index=True)\n",
      "/scr/14083913.1.all.q/ipykernel_34881/150529367.py:120: FutureWarning: The frame.append method is deprecated and will be removed from pandas in a future version. Use pandas.concat instead.\n",
      "  self.val_losses_df = self.val_losses_df.append(temp_df, ignore_index=True)\n",
      " 37%|███▋      | 44/120 [1:47:20<3:04:37, 145.76s/it]"
     ]
    },
    {
     "name": "stdout",
     "output_type": "stream",
     "text": [
      "Epoch:  44 | Train Loss:    0.21897 | Val Loss:    0.34466 | Time Taken: 107m 20s\n",
      "Train Recon Loss:    0.16616 | Val Recon Loss:    0.20477\n",
      "Train KLD:    0.00697 | Val KLD:    0.02027\n",
      "Train Reg Loss:    0.04585 | Val Reg Loss:    0.11963\n",
      "\n"
     ]
    },
    {
     "name": "stderr",
     "output_type": "stream",
     "text": [
      " 38%|███▊      | 45/120 [1:49:45<3:02:09, 145.73s/it]"
     ]
    },
    {
     "name": "stdout",
     "output_type": "stream",
     "text": [
      "Epoch:  45 | Train Loss:    0.21970 | Val Loss:    0.24615 | Time Taken: 109m 46s\n",
      "Train Recon Loss:    0.16574 | Val Recon Loss:    0.20489\n",
      "Train KLD:    0.00809 | Val KLD:    0.00928\n",
      "Train Reg Loss:    0.04587 | Val Reg Loss:    0.03197\n",
      "\n"
     ]
    },
    {
     "name": "stderr",
     "output_type": "stream",
     "text": [
      "/scr/14083913.1.all.q/ipykernel_34881/150529367.py:115: FutureWarning: The frame.append method is deprecated and will be removed from pandas in a future version. Use pandas.concat instead.\n",
      "  self.train_losses_df = self.train_losses_df.append(temp_df, ignore_index=True)\n",
      "/scr/14083913.1.all.q/ipykernel_34881/150529367.py:120: FutureWarning: The frame.append method is deprecated and will be removed from pandas in a future version. Use pandas.concat instead.\n",
      "  self.val_losses_df = self.val_losses_df.append(temp_df, ignore_index=True)\n",
      " 38%|███▊      | 46/120 [1:52:11<2:59:39, 145.67s/it]"
     ]
    },
    {
     "name": "stdout",
     "output_type": "stream",
     "text": [
      "Epoch:  46 | Train Loss:    0.21816 | Val Loss:    0.31010 | Time Taken: 112m 11s\n",
      "Train Recon Loss:    0.16544 | Val Recon Loss:    0.20490\n",
      "Train KLD:    0.00775 | Val KLD:    0.00701\n",
      "Train Reg Loss:    0.04498 | Val Reg Loss:    0.09818\n",
      "\n"
     ]
    },
    {
     "name": "stderr",
     "output_type": "stream",
     "text": [
      " 39%|███▉      | 47/120 [1:54:37<2:57:21, 145.78s/it]"
     ]
    },
    {
     "name": "stdout",
     "output_type": "stream",
     "text": [
      "Epoch:  47 | Train Loss:    0.21691 | Val Loss:    0.29019 | Time Taken: 114m 37s\n",
      "Train Recon Loss:    0.16501 | Val Recon Loss:    0.20513\n",
      "Train KLD:    0.00749 | Val KLD:    0.00782\n",
      "Train Reg Loss:    0.04441 | Val Reg Loss:    0.07724\n",
      "\n"
     ]
    },
    {
     "name": "stderr",
     "output_type": "stream",
     "text": [
      "/scr/14083913.1.all.q/ipykernel_34881/150529367.py:115: FutureWarning: The frame.append method is deprecated and will be removed from pandas in a future version. Use pandas.concat instead.\n",
      "  self.train_losses_df = self.train_losses_df.append(temp_df, ignore_index=True)\n",
      "/scr/14083913.1.all.q/ipykernel_34881/150529367.py:120: FutureWarning: The frame.append method is deprecated and will be removed from pandas in a future version. Use pandas.concat instead.\n",
      "  self.val_losses_df = self.val_losses_df.append(temp_df, ignore_index=True)\n",
      " 40%|████      | 48/120 [1:57:03<2:54:57, 145.80s/it]"
     ]
    },
    {
     "name": "stdout",
     "output_type": "stream",
     "text": [
      "Epoch:  48 | Train Loss:    0.21607 | Val Loss:    0.24031 | Time Taken: 117m 3s\n",
      "Train Recon Loss:    0.16473 | Val Recon Loss:    0.20516\n",
      "Train KLD:    0.00755 | Val KLD:    0.00646\n",
      "Train Reg Loss:    0.04379 | Val Reg Loss:    0.02869\n",
      "\n"
     ]
    },
    {
     "name": "stderr",
     "output_type": "stream",
     "text": [
      " 41%|████      | 49/120 [1:59:28<2:52:28, 145.76s/it]"
     ]
    },
    {
     "name": "stdout",
     "output_type": "stream",
     "text": [
      "Epoch:  49 | Train Loss:    0.21578 | Val Loss:    0.25568 | Time Taken: 119m 29s\n",
      "Train Recon Loss:    0.16446 | Val Recon Loss:    0.20590\n",
      "Train KLD:    0.00762 | Val KLD:    0.01457\n",
      "Train Reg Loss:    0.04370 | Val Reg Loss:    0.03521\n",
      "\n"
     ]
    },
    {
     "name": "stderr",
     "output_type": "stream",
     "text": [
      "/scr/14083913.1.all.q/ipykernel_34881/150529367.py:115: FutureWarning: The frame.append method is deprecated and will be removed from pandas in a future version. Use pandas.concat instead.\n",
      "  self.train_losses_df = self.train_losses_df.append(temp_df, ignore_index=True)\n",
      "/scr/14083913.1.all.q/ipykernel_34881/150529367.py:120: FutureWarning: The frame.append method is deprecated and will be removed from pandas in a future version. Use pandas.concat instead.\n",
      "  self.val_losses_df = self.val_losses_df.append(temp_df, ignore_index=True)\n",
      " 42%|████▏     | 50/120 [2:01:54<2:50:08, 145.83s/it]"
     ]
    },
    {
     "name": "stdout",
     "output_type": "stream",
     "text": [
      "Epoch:  50 | Train Loss:    0.21444 | Val Loss:    0.24287 | Time Taken: 121m 55s\n",
      "Train Recon Loss:    0.16422 | Val Recon Loss:    0.20593\n",
      "Train KLD:    0.00722 | Val KLD:    0.00696\n",
      "Train Reg Loss:    0.04300 | Val Reg Loss:    0.02998\n",
      "\n"
     ]
    },
    {
     "name": "stderr",
     "output_type": "stream",
     "text": [
      " 42%|████▎     | 51/120 [2:04:20<2:47:42, 145.83s/it]"
     ]
    },
    {
     "name": "stdout",
     "output_type": "stream",
     "text": [
      "Epoch:  51 | Train Loss:    0.21596 | Val Loss:    0.26025 | Time Taken: 124m 21s\n",
      "Train Recon Loss:    0.16381 | Val Recon Loss:    0.20610\n",
      "Train KLD:    0.00756 | Val KLD:    0.00584\n",
      "Train Reg Loss:    0.04460 | Val Reg Loss:    0.04830\n",
      "\n"
     ]
    },
    {
     "name": "stderr",
     "output_type": "stream",
     "text": [
      "/scr/14083913.1.all.q/ipykernel_34881/150529367.py:115: FutureWarning: The frame.append method is deprecated and will be removed from pandas in a future version. Use pandas.concat instead.\n",
      "  self.train_losses_df = self.train_losses_df.append(temp_df, ignore_index=True)\n",
      "/scr/14083913.1.all.q/ipykernel_34881/150529367.py:120: FutureWarning: The frame.append method is deprecated and will be removed from pandas in a future version. Use pandas.concat instead.\n",
      "  self.val_losses_df = self.val_losses_df.append(temp_df, ignore_index=True)\n",
      " 43%|████▎     | 52/120 [2:06:46<2:45:16, 145.83s/it]"
     ]
    },
    {
     "name": "stdout",
     "output_type": "stream",
     "text": [
      "Epoch:  52 | Train Loss:    0.21423 | Val Loss:    0.24126 | Time Taken: 126m 46s\n",
      "Train Recon Loss:    0.16351 | Val Recon Loss:    0.20626\n",
      "Train KLD:    0.00718 | Val KLD:    0.00707\n",
      "Train Reg Loss:    0.04354 | Val Reg Loss:    0.02793\n",
      "\n"
     ]
    },
    {
     "name": "stderr",
     "output_type": "stream",
     "text": [
      " 44%|████▍     | 53/120 [2:09:13<2:43:06, 146.07s/it]"
     ]
    },
    {
     "name": "stdout",
     "output_type": "stream",
     "text": [
      "Epoch:  53 | Train Loss:    0.21324 | Val Loss:    0.31117 | Time Taken: 129m 13s\n",
      "Train Recon Loss:    0.16342 | Val Recon Loss:    0.20637\n",
      "Train KLD:    0.00740 | Val KLD:    0.00838\n",
      "Train Reg Loss:    0.04242 | Val Reg Loss:    0.09642\n",
      "\n"
     ]
    },
    {
     "name": "stderr",
     "output_type": "stream",
     "text": [
      "/scr/14083913.1.all.q/ipykernel_34881/150529367.py:115: FutureWarning: The frame.append method is deprecated and will be removed from pandas in a future version. Use pandas.concat instead.\n",
      "  self.train_losses_df = self.train_losses_df.append(temp_df, ignore_index=True)\n",
      "/scr/14083913.1.all.q/ipykernel_34881/150529367.py:120: FutureWarning: The frame.append method is deprecated and will be removed from pandas in a future version. Use pandas.concat instead.\n",
      "  self.val_losses_df = self.val_losses_df.append(temp_df, ignore_index=True)\n",
      " 45%|████▌     | 54/120 [2:11:39<2:40:40, 146.06s/it]"
     ]
    },
    {
     "name": "stdout",
     "output_type": "stream",
     "text": [
      "Epoch:  54 | Train Loss:    0.21185 | Val Loss:    0.38065 | Time Taken: 131m 39s\n",
      "Train Recon Loss:    0.16311 | Val Recon Loss:    0.20622\n",
      "Train KLD:    0.00670 | Val KLD:    0.00760\n",
      "Train Reg Loss:    0.04204 | Val Reg Loss:    0.16684\n",
      "\n"
     ]
    },
    {
     "name": "stderr",
     "output_type": "stream",
     "text": [
      " 46%|████▌     | 55/120 [2:14:05<2:38:14, 146.07s/it]"
     ]
    },
    {
     "name": "stdout",
     "output_type": "stream",
     "text": [
      "Epoch:  55 | Train Loss:    0.21254 | Val Loss:    0.25589 | Time Taken: 134m 5s\n",
      "Train Recon Loss:    0.16272 | Val Recon Loss:    0.20731\n",
      "Train KLD:    0.00714 | Val KLD:    0.00642\n",
      "Train Reg Loss:    0.04268 | Val Reg Loss:    0.04216\n",
      "\n"
     ]
    },
    {
     "name": "stderr",
     "output_type": "stream",
     "text": [
      "/scr/14083913.1.all.q/ipykernel_34881/150529367.py:115: FutureWarning: The frame.append method is deprecated and will be removed from pandas in a future version. Use pandas.concat instead.\n",
      "  self.train_losses_df = self.train_losses_df.append(temp_df, ignore_index=True)\n",
      "/scr/14083913.1.all.q/ipykernel_34881/150529367.py:120: FutureWarning: The frame.append method is deprecated and will be removed from pandas in a future version. Use pandas.concat instead.\n",
      "  self.val_losses_df = self.val_losses_df.append(temp_df, ignore_index=True)\n",
      " 47%|████▋     | 56/120 [2:16:32<2:36:08, 146.39s/it]"
     ]
    },
    {
     "name": "stdout",
     "output_type": "stream",
     "text": [
      "Epoch:  56 | Train Loss:    0.21207 | Val Loss:    0.28280 | Time Taken: 136m 32s\n",
      "Train Recon Loss:    0.16259 | Val Recon Loss:    0.20761\n",
      "Train KLD:    0.00722 | Val KLD:    0.00783\n",
      "Train Reg Loss:    0.04226 | Val Reg Loss:    0.06736\n",
      "\n"
     ]
    },
    {
     "name": "stderr",
     "output_type": "stream",
     "text": [
      " 48%|████▊     | 57/120 [2:18:58<2:33:42, 146.39s/it]"
     ]
    },
    {
     "name": "stdout",
     "output_type": "stream",
     "text": [
      "Epoch:  57 | Train Loss:    0.21104 | Val Loss:    0.25260 | Time Taken: 138m 59s\n",
      "Train Recon Loss:    0.16245 | Val Recon Loss:    0.20740\n",
      "Train KLD:    0.00678 | Val KLD:    0.00613\n",
      "Train Reg Loss:    0.04182 | Val Reg Loss:    0.03908\n",
      "\n"
     ]
    },
    {
     "name": "stderr",
     "output_type": "stream",
     "text": [
      "/scr/14083913.1.all.q/ipykernel_34881/150529367.py:115: FutureWarning: The frame.append method is deprecated and will be removed from pandas in a future version. Use pandas.concat instead.\n",
      "  self.train_losses_df = self.train_losses_df.append(temp_df, ignore_index=True)\n",
      "/scr/14083913.1.all.q/ipykernel_34881/150529367.py:120: FutureWarning: The frame.append method is deprecated and will be removed from pandas in a future version. Use pandas.concat instead.\n",
      "  self.val_losses_df = self.val_losses_df.append(temp_df, ignore_index=True)\n",
      " 48%|████▊     | 58/120 [2:21:25<2:31:23, 146.50s/it]"
     ]
    },
    {
     "name": "stdout",
     "output_type": "stream",
     "text": [
      "Epoch:  58 | Train Loss:    0.21078 | Val Loss:    0.24640 | Time Taken: 141m 25s\n",
      "Train Recon Loss:    0.16209 | Val Recon Loss:    0.20823\n",
      "Train KLD:    0.00685 | Val KLD:    0.00791\n",
      "Train Reg Loss:    0.04184 | Val Reg Loss:    0.03026\n",
      "\n"
     ]
    },
    {
     "name": "stderr",
     "output_type": "stream",
     "text": [
      " 49%|████▉     | 59/120 [2:23:51<2:28:56, 146.50s/it]"
     ]
    },
    {
     "name": "stdout",
     "output_type": "stream",
     "text": [
      "Epoch:  59 | Train Loss:    0.21016 | Val Loss:    0.24526 | Time Taken: 143m 52s\n",
      "Train Recon Loss:    0.16187 | Val Recon Loss:    0.20777\n",
      "Train KLD:    0.00697 | Val KLD:    0.00839\n",
      "Train Reg Loss:    0.04131 | Val Reg Loss:    0.02910\n",
      "\n"
     ]
    },
    {
     "name": "stderr",
     "output_type": "stream",
     "text": [
      "/scr/14083913.1.all.q/ipykernel_34881/150529367.py:115: FutureWarning: The frame.append method is deprecated and will be removed from pandas in a future version. Use pandas.concat instead.\n",
      "  self.train_losses_df = self.train_losses_df.append(temp_df, ignore_index=True)\n",
      "/scr/14083913.1.all.q/ipykernel_34881/150529367.py:120: FutureWarning: The frame.append method is deprecated and will be removed from pandas in a future version. Use pandas.concat instead.\n",
      "  self.val_losses_df = self.val_losses_df.append(temp_df, ignore_index=True)\n",
      " 50%|█████     | 60/120 [2:26:20<2:27:10, 147.18s/it]"
     ]
    },
    {
     "name": "stdout",
     "output_type": "stream",
     "text": [
      "Epoch:  60 | Train Loss:    0.21009 | Val Loss:    0.24500 | Time Taken: 146m 21s\n",
      "Train Recon Loss:    0.16171 | Val Recon Loss:    0.20823\n",
      "Train KLD:    0.00695 | Val KLD:    0.00662\n",
      "Train Reg Loss:    0.04143 | Val Reg Loss:    0.03015\n",
      "\n"
     ]
    },
    {
     "name": "stderr",
     "output_type": "stream",
     "text": [
      " 51%|█████     | 61/120 [2:28:47<2:24:32, 147.00s/it]"
     ]
    },
    {
     "name": "stdout",
     "output_type": "stream",
     "text": [
      "Epoch:  61 | Train Loss:    0.21064 | Val Loss:    0.25395 | Time Taken: 148m 47s\n",
      "Train Recon Loss:    0.16144 | Val Recon Loss:    0.20886\n",
      "Train KLD:    0.00699 | Val KLD:    0.00649\n",
      "Train Reg Loss:    0.04221 | Val Reg Loss:    0.03860\n",
      "\n"
     ]
    },
    {
     "name": "stderr",
     "output_type": "stream",
     "text": [
      "/scr/14083913.1.all.q/ipykernel_34881/150529367.py:115: FutureWarning: The frame.append method is deprecated and will be removed from pandas in a future version. Use pandas.concat instead.\n",
      "  self.train_losses_df = self.train_losses_df.append(temp_df, ignore_index=True)\n",
      "/scr/14083913.1.all.q/ipykernel_34881/150529367.py:120: FutureWarning: The frame.append method is deprecated and will be removed from pandas in a future version. Use pandas.concat instead.\n",
      "  self.val_losses_df = self.val_losses_df.append(temp_df, ignore_index=True)\n",
      " 52%|█████▏    | 62/120 [2:31:14<2:22:02, 146.94s/it]"
     ]
    },
    {
     "name": "stdout",
     "output_type": "stream",
     "text": [
      "Epoch:  62 | Train Loss:    0.20933 | Val Loss:    0.24775 | Time Taken: 151m 14s\n",
      "Train Recon Loss:    0.16126 | Val Recon Loss:    0.20875\n",
      "Train KLD:    0.00656 | Val KLD:    0.01030\n",
      "Train Reg Loss:    0.04151 | Val Reg Loss:    0.02870\n",
      "\n"
     ]
    },
    {
     "name": "stderr",
     "output_type": "stream",
     "text": [
      " 52%|█████▎    | 63/120 [2:33:40<2:19:28, 146.82s/it]"
     ]
    },
    {
     "name": "stdout",
     "output_type": "stream",
     "text": [
      "Epoch:  63 | Train Loss:    0.20813 | Val Loss:    0.24375 | Time Taken: 153m 41s\n",
      "Train Recon Loss:    0.16111 | Val Recon Loss:    0.20867\n",
      "Train KLD:    0.00676 | Val KLD:    0.00774\n",
      "Train Reg Loss:    0.04026 | Val Reg Loss:    0.02734\n",
      "\n"
     ]
    },
    {
     "name": "stderr",
     "output_type": "stream",
     "text": [
      "/scr/14083913.1.all.q/ipykernel_34881/150529367.py:115: FutureWarning: The frame.append method is deprecated and will be removed from pandas in a future version. Use pandas.concat instead.\n",
      "  self.train_losses_df = self.train_losses_df.append(temp_df, ignore_index=True)\n",
      "/scr/14083913.1.all.q/ipykernel_34881/150529367.py:120: FutureWarning: The frame.append method is deprecated and will be removed from pandas in a future version. Use pandas.concat instead.\n",
      "  self.val_losses_df = self.val_losses_df.append(temp_df, ignore_index=True)\n",
      " 53%|█████▎    | 64/120 [2:36:07<2:16:58, 146.76s/it]"
     ]
    },
    {
     "name": "stdout",
     "output_type": "stream",
     "text": [
      "Epoch:  64 | Train Loss:    0.22186 | Val Loss:    0.24927 | Time Taken: 156m 7s\n",
      "Train Recon Loss:    0.16085 | Val Recon Loss:    0.20943\n",
      "Train KLD:    0.01408 | Val KLD:    0.00759\n",
      "Train Reg Loss:    0.04692 | Val Reg Loss:    0.03225\n",
      "\n"
     ]
    },
    {
     "name": "stderr",
     "output_type": "stream",
     "text": [
      " 54%|█████▍    | 65/120 [2:38:33<2:14:27, 146.67s/it]"
     ]
    },
    {
     "name": "stdout",
     "output_type": "stream",
     "text": [
      "Epoch:  65 | Train Loss:    0.20875 | Val Loss:    0.24920 | Time Taken: 158m 34s\n",
      "Train Recon Loss:    0.16069 | Val Recon Loss:    0.20993\n",
      "Train KLD:    0.00743 | Val KLD:    0.00665\n",
      "Train Reg Loss:    0.04064 | Val Reg Loss:    0.03262\n",
      "\n"
     ]
    },
    {
     "name": "stderr",
     "output_type": "stream",
     "text": [
      "/scr/14083913.1.all.q/ipykernel_34881/150529367.py:115: FutureWarning: The frame.append method is deprecated and will be removed from pandas in a future version. Use pandas.concat instead.\n",
      "  self.train_losses_df = self.train_losses_df.append(temp_df, ignore_index=True)\n",
      "/scr/14083913.1.all.q/ipykernel_34881/150529367.py:120: FutureWarning: The frame.append method is deprecated and will be removed from pandas in a future version. Use pandas.concat instead.\n",
      "  self.val_losses_df = self.val_losses_df.append(temp_df, ignore_index=True)\n",
      " 55%|█████▌    | 66/120 [2:41:00<2:12:02, 146.71s/it]"
     ]
    },
    {
     "name": "stdout",
     "output_type": "stream",
     "text": [
      "Epoch:  66 | Train Loss:    0.20617 | Val Loss:    0.24391 | Time Taken: 161m 0s\n",
      "Train Recon Loss:    0.16048 | Val Recon Loss:    0.20920\n",
      "Train KLD:    0.00588 | Val KLD:    0.00567\n",
      "Train Reg Loss:    0.03981 | Val Reg Loss:    0.02904\n",
      "\n"
     ]
    },
    {
     "name": "stderr",
     "output_type": "stream",
     "text": [
      " 56%|█████▌    | 67/120 [2:43:27<2:09:39, 146.78s/it]"
     ]
    },
    {
     "name": "stdout",
     "output_type": "stream",
     "text": [
      "Epoch:  67 | Train Loss:    0.20675 | Val Loss:    0.24100 | Time Taken: 163m 28s\n",
      "Train Recon Loss:    0.16027 | Val Recon Loss:    0.20962\n",
      "Train KLD:    0.00617 | Val KLD:    0.00511\n",
      "Train Reg Loss:    0.04031 | Val Reg Loss:    0.02627\n",
      "\n",
      "Epoch:  68 | Train Loss:    0.20585 | Val Loss:    0.26244 | Time Taken: 165m 53s\n",
      "Train Recon Loss:    0.16023 | Val Recon Loss:    0.21016\n",
      "Train KLD:    0.00636 | Val KLD:    0.00615\n",
      "Train Reg Loss:    0.03926 | Val Reg Loss:    0.04613\n",
      "\n"
     ]
    },
    {
     "name": "stderr",
     "output_type": "stream",
     "text": [
      "/scr/14083913.1.all.q/ipykernel_34881/150529367.py:115: FutureWarning: The frame.append method is deprecated and will be removed from pandas in a future version. Use pandas.concat instead.\n",
      "  self.train_losses_df = self.train_losses_df.append(temp_df, ignore_index=True)\n",
      "/scr/14083913.1.all.q/ipykernel_34881/150529367.py:120: FutureWarning: The frame.append method is deprecated and will be removed from pandas in a future version. Use pandas.concat instead.\n",
      "  self.val_losses_df = self.val_losses_df.append(temp_df, ignore_index=True)\n",
      " 57%|█████▊    | 69/120 [2:48:19<2:04:25, 146.39s/it]"
     ]
    },
    {
     "name": "stdout",
     "output_type": "stream",
     "text": [
      "Epoch:  69 | Train Loss:    0.20658 | Val Loss:    0.24458 | Time Taken: 168m 20s\n",
      "Train Recon Loss:    0.16009 | Val Recon Loss:    0.21023\n",
      "Train KLD:    0.00642 | Val KLD:    0.00658\n",
      "Train Reg Loss:    0.04006 | Val Reg Loss:    0.02777\n",
      "\n"
     ]
    },
    {
     "name": "stderr",
     "output_type": "stream",
     "text": [
      "/scr/14083913.1.all.q/ipykernel_34881/150529367.py:115: FutureWarning: The frame.append method is deprecated and will be removed from pandas in a future version. Use pandas.concat instead.\n",
      "  self.train_losses_df = self.train_losses_df.append(temp_df, ignore_index=True)\n",
      "/scr/14083913.1.all.q/ipykernel_34881/150529367.py:120: FutureWarning: The frame.append method is deprecated and will be removed from pandas in a future version. Use pandas.concat instead.\n",
      "  self.val_losses_df = self.val_losses_df.append(temp_df, ignore_index=True)\n",
      " 58%|█████▊    | 70/120 [2:50:45<2:01:59, 146.39s/it]"
     ]
    },
    {
     "name": "stdout",
     "output_type": "stream",
     "text": [
      "Epoch:  70 | Train Loss:    0.20594 | Val Loss:    0.29921 | Time Taken: 170m 46s\n",
      "Train Recon Loss:    0.15989 | Val Recon Loss:    0.21021\n",
      "Train KLD:    0.00639 | Val KLD:    0.01395\n",
      "Train Reg Loss:    0.03966 | Val Reg Loss:    0.07506\n",
      "\n"
     ]
    },
    {
     "name": "stderr",
     "output_type": "stream",
     "text": [
      " 59%|█████▉    | 71/120 [2:53:12<1:59:30, 146.34s/it]"
     ]
    },
    {
     "name": "stdout",
     "output_type": "stream",
     "text": [
      "Epoch:  71 | Train Loss:    0.20569 | Val Loss:    0.24513 | Time Taken: 173m 12s\n",
      "Train Recon Loss:    0.15970 | Val Recon Loss:    0.21095\n",
      "Train KLD:    0.00637 | Val KLD:    0.00747\n",
      "Train Reg Loss:    0.03962 | Val Reg Loss:    0.02671\n",
      "\n"
     ]
    },
    {
     "name": "stderr",
     "output_type": "stream",
     "text": [
      "/scr/14083913.1.all.q/ipykernel_34881/150529367.py:115: FutureWarning: The frame.append method is deprecated and will be removed from pandas in a future version. Use pandas.concat instead.\n",
      "  self.train_losses_df = self.train_losses_df.append(temp_df, ignore_index=True)\n",
      "/scr/14083913.1.all.q/ipykernel_34881/150529367.py:120: FutureWarning: The frame.append method is deprecated and will be removed from pandas in a future version. Use pandas.concat instead.\n",
      "  self.val_losses_df = self.val_losses_df.append(temp_df, ignore_index=True)\n",
      " 60%|██████    | 72/120 [2:55:38<1:56:59, 146.23s/it]"
     ]
    },
    {
     "name": "stdout",
     "output_type": "stream",
     "text": [
      "Epoch:  72 | Train Loss:    0.20762 | Val Loss:    0.25856 | Time Taken: 175m 38s\n",
      "Train Recon Loss:    0.15953 | Val Recon Loss:    0.21133\n",
      "Train KLD:    0.00683 | Val KLD:    0.01320\n",
      "Train Reg Loss:    0.04125 | Val Reg Loss:    0.03404\n",
      "\n"
     ]
    },
    {
     "name": "stderr",
     "output_type": "stream",
     "text": [
      " 61%|██████    | 73/120 [2:58:04<1:54:31, 146.20s/it]"
     ]
    },
    {
     "name": "stdout",
     "output_type": "stream",
     "text": [
      "Epoch:  73 | Train Loss:    0.20426 | Val Loss:    0.26484 | Time Taken: 178m 4s\n",
      "Train Recon Loss:    0.15937 | Val Recon Loss:    0.21062\n",
      "Train KLD:    0.00617 | Val KLD:    0.00532\n",
      "Train Reg Loss:    0.03872 | Val Reg Loss:    0.04890\n",
      "\n"
     ]
    },
    {
     "name": "stderr",
     "output_type": "stream",
     "text": [
      "/scr/14083913.1.all.q/ipykernel_34881/150529367.py:115: FutureWarning: The frame.append method is deprecated and will be removed from pandas in a future version. Use pandas.concat instead.\n",
      "  self.train_losses_df = self.train_losses_df.append(temp_df, ignore_index=True)\n",
      "/scr/14083913.1.all.q/ipykernel_34881/150529367.py:120: FutureWarning: The frame.append method is deprecated and will be removed from pandas in a future version. Use pandas.concat instead.\n",
      "  self.val_losses_df = self.val_losses_df.append(temp_df, ignore_index=True)\n",
      " 62%|██████▏   | 74/120 [3:00:30<1:52:09, 146.30s/it]"
     ]
    },
    {
     "name": "stdout",
     "output_type": "stream",
     "text": [
      "Epoch:  74 | Train Loss:    0.20364 | Val Loss:    0.24168 | Time Taken: 180m 31s\n",
      "Train Recon Loss:    0.15935 | Val Recon Loss:    0.21039\n",
      "Train KLD:    0.00578 | Val KLD:    0.00473\n",
      "Train Reg Loss:    0.03851 | Val Reg Loss:    0.02655\n",
      "\n"
     ]
    },
    {
     "name": "stderr",
     "output_type": "stream",
     "text": [
      " 62%|██████▎   | 75/120 [3:02:56<1:49:39, 146.22s/it]"
     ]
    },
    {
     "name": "stdout",
     "output_type": "stream",
     "text": [
      "Epoch:  75 | Train Loss:    0.20539 | Val Loss:    0.47572 | Time Taken: 182m 57s\n",
      "Train Recon Loss:    0.15917 | Val Recon Loss:    0.21110\n",
      "Train KLD:    0.00650 | Val KLD:    0.00657\n",
      "Train Reg Loss:    0.03972 | Val Reg Loss:    0.25804\n",
      "\n"
     ]
    },
    {
     "name": "stderr",
     "output_type": "stream",
     "text": [
      "/scr/14083913.1.all.q/ipykernel_34881/150529367.py:115: FutureWarning: The frame.append method is deprecated and will be removed from pandas in a future version. Use pandas.concat instead.\n",
      "  self.train_losses_df = self.train_losses_df.append(temp_df, ignore_index=True)\n",
      "/scr/14083913.1.all.q/ipykernel_34881/150529367.py:120: FutureWarning: The frame.append method is deprecated and will be removed from pandas in a future version. Use pandas.concat instead.\n",
      "  self.val_losses_df = self.val_losses_df.append(temp_df, ignore_index=True)\n",
      " 63%|██████▎   | 76/120 [3:05:22<1:47:10, 146.14s/it]"
     ]
    },
    {
     "name": "stdout",
     "output_type": "stream",
     "text": [
      "Epoch:  76 | Train Loss:    0.20474 | Val Loss:    0.28999 | Time Taken: 185m 23s\n",
      "Train Recon Loss:    0.15902 | Val Recon Loss:    0.21135\n",
      "Train KLD:    0.00634 | Val KLD:    0.00598\n",
      "Train Reg Loss:    0.03938 | Val Reg Loss:    0.07266\n",
      "\n"
     ]
    },
    {
     "name": "stderr",
     "output_type": "stream",
     "text": [
      " 64%|██████▍   | 77/120 [3:07:49<1:44:48, 146.25s/it]"
     ]
    },
    {
     "name": "stdout",
     "output_type": "stream",
     "text": [
      "Epoch:  77 | Train Loss:    0.20417 | Val Loss:    0.27326 | Time Taken: 187m 49s\n",
      "Train Recon Loss:    0.15882 | Val Recon Loss:    0.21178\n",
      "Train KLD:    0.00630 | Val KLD:    0.00570\n",
      "Train Reg Loss:    0.03905 | Val Reg Loss:    0.05578\n",
      "\n"
     ]
    },
    {
     "name": "stderr",
     "output_type": "stream",
     "text": [
      "/scr/14083913.1.all.q/ipykernel_34881/150529367.py:115: FutureWarning: The frame.append method is deprecated and will be removed from pandas in a future version. Use pandas.concat instead.\n",
      "  self.train_losses_df = self.train_losses_df.append(temp_df, ignore_index=True)\n",
      "/scr/14083913.1.all.q/ipykernel_34881/150529367.py:120: FutureWarning: The frame.append method is deprecated and will be removed from pandas in a future version. Use pandas.concat instead.\n",
      "  self.val_losses_df = self.val_losses_df.append(temp_df, ignore_index=True)\n",
      " 65%|██████▌   | 78/120 [3:10:15<1:42:19, 146.17s/it]"
     ]
    },
    {
     "name": "stdout",
     "output_type": "stream",
     "text": [
      "Epoch:  78 | Train Loss:    0.20388 | Val Loss:    0.24975 | Time Taken: 190m 15s\n",
      "Train Recon Loss:    0.15888 | Val Recon Loss:    0.21194\n",
      "Train KLD:    0.00648 | Val KLD:    0.00638\n",
      "Train Reg Loss:    0.03852 | Val Reg Loss:    0.03143\n",
      "\n"
     ]
    },
    {
     "name": "stderr",
     "output_type": "stream",
     "text": [
      " 66%|██████▌   | 79/120 [3:12:41<1:39:53, 146.18s/it]"
     ]
    },
    {
     "name": "stdout",
     "output_type": "stream",
     "text": [
      "Epoch:  79 | Train Loss:    0.20218 | Val Loss:    0.34308 | Time Taken: 192m 42s\n",
      "Train Recon Loss:    0.15865 | Val Recon Loss:    0.21205\n",
      "Train KLD:    0.00562 | Val KLD:    0.01639\n",
      "Train Reg Loss:    0.03791 | Val Reg Loss:    0.11465\n",
      "\n"
     ]
    },
    {
     "name": "stderr",
     "output_type": "stream",
     "text": [
      "/scr/14083913.1.all.q/ipykernel_34881/150529367.py:115: FutureWarning: The frame.append method is deprecated and will be removed from pandas in a future version. Use pandas.concat instead.\n",
      "  self.train_losses_df = self.train_losses_df.append(temp_df, ignore_index=True)\n",
      "/scr/14083913.1.all.q/ipykernel_34881/150529367.py:120: FutureWarning: The frame.append method is deprecated and will be removed from pandas in a future version. Use pandas.concat instead.\n",
      "  self.val_losses_df = self.val_losses_df.append(temp_df, ignore_index=True)\n",
      " 67%|██████▋   | 80/120 [3:15:07<1:37:26, 146.17s/it]"
     ]
    },
    {
     "name": "stdout",
     "output_type": "stream",
     "text": [
      "Epoch:  80 | Train Loss:    0.20262 | Val Loss:    0.27112 | Time Taken: 195m 8s\n",
      "Train Recon Loss:    0.15845 | Val Recon Loss:    0.21193\n",
      "Train KLD:    0.00603 | Val KLD:    0.00501\n",
      "Train Reg Loss:    0.03815 | Val Reg Loss:    0.05419\n",
      "\n"
     ]
    },
    {
     "name": "stderr",
     "output_type": "stream",
     "text": [
      " 68%|██████▊   | 81/120 [3:17:34<1:35:02, 146.23s/it]"
     ]
    },
    {
     "name": "stdout",
     "output_type": "stream",
     "text": [
      "Epoch:  81 | Train Loss:    0.20310 | Val Loss:    0.30248 | Time Taken: 197m 34s\n",
      "Train Recon Loss:    0.15821 | Val Recon Loss:    0.21168\n",
      "Train KLD:    0.00623 | Val KLD:    0.00559\n",
      "Train Reg Loss:    0.03866 | Val Reg Loss:    0.08521\n",
      "\n"
     ]
    },
    {
     "name": "stderr",
     "output_type": "stream",
     "text": [
      "/scr/14083913.1.all.q/ipykernel_34881/150529367.py:115: FutureWarning: The frame.append method is deprecated and will be removed from pandas in a future version. Use pandas.concat instead.\n",
      "  self.train_losses_df = self.train_losses_df.append(temp_df, ignore_index=True)\n",
      "/scr/14083913.1.all.q/ipykernel_34881/150529367.py:120: FutureWarning: The frame.append method is deprecated and will be removed from pandas in a future version. Use pandas.concat instead.\n",
      "  self.val_losses_df = self.val_losses_df.append(temp_df, ignore_index=True)\n",
      " 68%|██████▊   | 82/120 [3:19:59<1:32:33, 146.15s/it]"
     ]
    },
    {
     "name": "stdout",
     "output_type": "stream",
     "text": [
      "Epoch:  82 | Train Loss:    0.20136 | Val Loss:    0.24647 | Time Taken: 199m 60s\n",
      "Train Recon Loss:    0.15823 | Val Recon Loss:    0.21220\n",
      "Train KLD:    0.00585 | Val KLD:    0.00573\n",
      "Train Reg Loss:    0.03728 | Val Reg Loss:    0.02853\n",
      "\n"
     ]
    },
    {
     "name": "stderr",
     "output_type": "stream",
     "text": [
      " 69%|██████▉   | 83/120 [3:22:26<1:30:08, 146.19s/it]"
     ]
    },
    {
     "name": "stdout",
     "output_type": "stream",
     "text": [
      "Epoch:  83 | Train Loss:    0.20297 | Val Loss:    0.24626 | Time Taken: 202m 26s\n",
      "Train Recon Loss:    0.15812 | Val Recon Loss:    0.21269\n",
      "Train KLD:    0.00613 | Val KLD:    0.00643\n",
      "Train Reg Loss:    0.03873 | Val Reg Loss:    0.02715\n",
      "\n"
     ]
    },
    {
     "name": "stderr",
     "output_type": "stream",
     "text": [
      "/scr/14083913.1.all.q/ipykernel_34881/150529367.py:115: FutureWarning: The frame.append method is deprecated and will be removed from pandas in a future version. Use pandas.concat instead.\n",
      "  self.train_losses_df = self.train_losses_df.append(temp_df, ignore_index=True)\n",
      "/scr/14083913.1.all.q/ipykernel_34881/150529367.py:120: FutureWarning: The frame.append method is deprecated and will be removed from pandas in a future version. Use pandas.concat instead.\n",
      "  self.val_losses_df = self.val_losses_df.append(temp_df, ignore_index=True)\n",
      " 70%|███████   | 84/120 [3:24:52<1:27:48, 146.35s/it]"
     ]
    },
    {
     "name": "stdout",
     "output_type": "stream",
     "text": [
      "Epoch:  84 | Train Loss:    0.20028 | Val Loss:    0.25284 | Time Taken: 204m 53s\n",
      "Train Recon Loss:    0.15810 | Val Recon Loss:    0.21260\n",
      "Train KLD:    0.00562 | Val KLD:    0.00610\n",
      "Train Reg Loss:    0.03656 | Val Reg Loss:    0.03414\n",
      "\n"
     ]
    },
    {
     "name": "stderr",
     "output_type": "stream",
     "text": [
      " 71%|███████   | 85/120 [3:27:19<1:25:19, 146.28s/it]"
     ]
    },
    {
     "name": "stdout",
     "output_type": "stream",
     "text": [
      "Epoch:  85 | Train Loss:    0.20290 | Val Loss:    0.24429 | Time Taken: 207m 19s\n",
      "Train Recon Loss:    0.15788 | Val Recon Loss:    0.21267\n",
      "Train KLD:    0.00617 | Val KLD:    0.00647\n",
      "Train Reg Loss:    0.03885 | Val Reg Loss:    0.02515\n",
      "\n"
     ]
    },
    {
     "name": "stderr",
     "output_type": "stream",
     "text": [
      "/scr/14083913.1.all.q/ipykernel_34881/150529367.py:115: FutureWarning: The frame.append method is deprecated and will be removed from pandas in a future version. Use pandas.concat instead.\n",
      "  self.train_losses_df = self.train_losses_df.append(temp_df, ignore_index=True)\n",
      "/scr/14083913.1.all.q/ipykernel_34881/150529367.py:120: FutureWarning: The frame.append method is deprecated and will be removed from pandas in a future version. Use pandas.concat instead.\n",
      "  self.val_losses_df = self.val_losses_df.append(temp_df, ignore_index=True)\n",
      " 72%|███████▏  | 86/120 [3:29:45<1:22:52, 146.25s/it]"
     ]
    },
    {
     "name": "stdout",
     "output_type": "stream",
     "text": [
      "Epoch:  86 | Train Loss:    0.20154 | Val Loss:    0.24663 | Time Taken: 209m 45s\n",
      "Train Recon Loss:    0.15770 | Val Recon Loss:    0.21296\n",
      "Train KLD:    0.00581 | Val KLD:    0.00540\n",
      "Train Reg Loss:    0.03803 | Val Reg Loss:    0.02827\n",
      "\n"
     ]
    },
    {
     "name": "stderr",
     "output_type": "stream",
     "text": [
      " 72%|███████▎  | 87/120 [3:32:11<1:20:29, 146.34s/it]"
     ]
    },
    {
     "name": "stdout",
     "output_type": "stream",
     "text": [
      "Epoch:  87 | Train Loss:    0.20184 | Val Loss:    0.25311 | Time Taken: 212m 12s\n",
      "Train Recon Loss:    0.15762 | Val Recon Loss:    0.21307\n",
      "Train KLD:    0.00585 | Val KLD:    0.00498\n",
      "Train Reg Loss:    0.03837 | Val Reg Loss:    0.03505\n",
      "\n"
     ]
    },
    {
     "name": "stderr",
     "output_type": "stream",
     "text": [
      "/scr/14083913.1.all.q/ipykernel_34881/150529367.py:115: FutureWarning: The frame.append method is deprecated and will be removed from pandas in a future version. Use pandas.concat instead.\n",
      "  self.train_losses_df = self.train_losses_df.append(temp_df, ignore_index=True)\n",
      "/scr/14083913.1.all.q/ipykernel_34881/150529367.py:120: FutureWarning: The frame.append method is deprecated and will be removed from pandas in a future version. Use pandas.concat instead.\n",
      "  self.val_losses_df = self.val_losses_df.append(temp_df, ignore_index=True)\n",
      " 73%|███████▎  | 88/120 [3:34:38<1:18:01, 146.30s/it]"
     ]
    },
    {
     "name": "stdout",
     "output_type": "stream",
     "text": [
      "Epoch:  88 | Train Loss:    0.20218 | Val Loss:    0.25605 | Time Taken: 214m 38s\n",
      "Train Recon Loss:    0.15753 | Val Recon Loss:    0.21355\n",
      "Train KLD:    0.00608 | Val KLD:    0.00522\n",
      "Train Reg Loss:    0.03857 | Val Reg Loss:    0.03729\n",
      "\n"
     ]
    },
    {
     "name": "stderr",
     "output_type": "stream",
     "text": [
      " 74%|███████▍  | 89/120 [3:37:04<1:15:32, 146.22s/it]"
     ]
    },
    {
     "name": "stdout",
     "output_type": "stream",
     "text": [
      "Epoch:  89 | Train Loss:    0.20204 | Val Loss:    0.24978 | Time Taken: 217m 4s\n",
      "Train Recon Loss:    0.15743 | Val Recon Loss:    0.21336\n",
      "Train KLD:    0.00607 | Val KLD:    0.00570\n",
      "Train Reg Loss:    0.03855 | Val Reg Loss:    0.03072\n",
      "\n"
     ]
    },
    {
     "name": "stderr",
     "output_type": "stream",
     "text": [
      "/scr/14083913.1.all.q/ipykernel_34881/150529367.py:115: FutureWarning: The frame.append method is deprecated and will be removed from pandas in a future version. Use pandas.concat instead.\n",
      "  self.train_losses_df = self.train_losses_df.append(temp_df, ignore_index=True)\n",
      "/scr/14083913.1.all.q/ipykernel_34881/150529367.py:120: FutureWarning: The frame.append method is deprecated and will be removed from pandas in a future version. Use pandas.concat instead.\n",
      "  self.val_losses_df = self.val_losses_df.append(temp_df, ignore_index=True)\n",
      " 75%|███████▌  | 90/120 [3:39:30<1:13:04, 146.15s/it]"
     ]
    },
    {
     "name": "stdout",
     "output_type": "stream",
     "text": [
      "Epoch:  90 | Train Loss:    0.20086 | Val Loss:    0.27280 | Time Taken: 219m 30s\n",
      "Train Recon Loss:    0.15741 | Val Recon Loss:    0.21393\n",
      "Train KLD:    0.00590 | Val KLD:    0.00518\n",
      "Train Reg Loss:    0.03756 | Val Reg Loss:    0.05369\n",
      "\n"
     ]
    },
    {
     "name": "stderr",
     "output_type": "stream",
     "text": [
      " 76%|███████▌  | 91/120 [3:41:58<1:11:01, 146.96s/it]"
     ]
    },
    {
     "name": "stdout",
     "output_type": "stream",
     "text": [
      "Epoch:  91 | Train Loss:    0.21718 | Val Loss:    0.25332 | Time Taken: 221m 59s\n",
      "Train Recon Loss:    0.15713 | Val Recon Loss:    0.21389\n",
      "Train KLD:    0.01454 | Val KLD:    0.00590\n",
      "Train Reg Loss:    0.04551 | Val Reg Loss:    0.03353\n",
      "\n",
      "Epoch:  92 | Train Loss:    0.20084 | Val Loss:    0.26341 | Time Taken: 224m 26s\n",
      "Train Recon Loss:    0.15707 | Val Recon Loss:    0.21386\n",
      "Train KLD:    0.00563 | Val KLD:    0.00875\n",
      "Train Reg Loss:    0.03813 | Val Reg Loss:    0.04081\n",
      "\n"
     ]
    },
    {
     "name": "stderr",
     "output_type": "stream",
     "text": [
      "/scr/14083913.1.all.q/ipykernel_34881/150529367.py:115: FutureWarning: The frame.append method is deprecated and will be removed from pandas in a future version. Use pandas.concat instead.\n",
      "  self.train_losses_df = self.train_losses_df.append(temp_df, ignore_index=True)\n",
      "/scr/14083913.1.all.q/ipykernel_34881/150529367.py:120: FutureWarning: The frame.append method is deprecated and will be removed from pandas in a future version. Use pandas.concat instead.\n",
      "  self.val_losses_df = self.val_losses_df.append(temp_df, ignore_index=True)\n",
      " 77%|███████▋  | 92/120 [3:44:26<1:08:41, 147.19s/it]"
     ]
    }
   ],
   "source": [
    "trainer.fit(epochs, save_every, anneal_start, lr, train_dl, valid_dl, device, load_previous=False)"
   ]
  },
  {
   "cell_type": "code",
   "execution_count": null,
   "metadata": {},
   "outputs": [],
   "source": [
    "trainer.plot_losses()"
   ]
  },
  {
   "cell_type": "code",
   "execution_count": null,
   "metadata": {},
   "outputs": [],
   "source": [
    "reg_mean_train = df.iloc[train_idx].reg_col.mean()\n",
    "mean_mae_test = np.mean(np.abs(df.iloc[test_idx].reg_col - reg_mean_train))\n",
    "vae_mae_test = get_pred_mae(reg_col, df, test_idx, bs).item()\n",
    "errors[reg_col] = {'mean_mae_test':mean_mae_test, 'vae_me_test':vae_mae_test}\n",
    "errors"
   ]
  },
  {
   "cell_type": "markdown",
   "metadata": {},
   "source": [
    "## Train and Test the Network for QED"
   ]
  },
  {
   "cell_type": "code",
   "execution_count": null,
   "metadata": {},
   "outputs": [],
   "source": [
    "reg_col = 'qed'\n",
    "df, train_idx, test_idx = vae_utils.get_train_valid_test_splits(reg_col, valid_pct)\n",
    "trainer = Trainer(reg_col)"
   ]
  },
  {
   "cell_type": "code",
   "execution_count": null,
   "metadata": {},
   "outputs": [],
   "source": [
    "train_dl, valid_dl = get_dataloaders(df, train_idx, valid_idx, max_samples, bs)"
   ]
  },
  {
   "cell_type": "code",
   "execution_count": null,
   "metadata": {},
   "outputs": [],
   "source": [
    "trainer.fit(epochs, save_every, anneal_start, lr, train_dl, valid_dl, device, load_previous)"
   ]
  },
  {
   "cell_type": "code",
   "execution_count": null,
   "metadata": {},
   "outputs": [],
   "source": [
    "trainer.plot_losses()"
   ]
  },
  {
   "cell_type": "code",
   "execution_count": null,
   "metadata": {},
   "outputs": [],
   "source": [
    "reg_mean_train = df.iloc[train_idx].reg_col.mean()\n",
    "mean_mae_test = np.mean(np.abs(df.iloc[test_idx].reg_col - reg_mean_train))\n",
    "vae_mae_test = get_pred_mae(reg_col, df, test_idx, bs).item()\n",
    "errors[reg_col] = {'mean_mae_test':mean_mae_test, 'vae_mae_test':vae_mae_test}\n",
    "errors"
   ]
  },
  {
   "cell_type": "markdown",
   "metadata": {},
   "source": [
    "## Report the results"
   ]
  },
  {
   "cell_type": "code",
   "execution_count": null,
   "metadata": {},
   "outputs": [],
   "source": [
    "pd.DataFrame(errors).transpose()"
   ]
  }
 ],
 "metadata": {
  "kernelspec": {
   "display_name": "molvae",
   "language": "python",
   "name": "molvae"
  },
  "language_info": {
   "codemirror_mode": {
    "name": "ipython",
    "version": 3
   },
   "file_extension": ".py",
   "mimetype": "text/x-python",
   "name": "python",
   "nbconvert_exporter": "python",
   "pygments_lexer": "ipython3",
   "version": "3.9.18"
  }
 },
 "nbformat": 4,
 "nbformat_minor": 4
}
