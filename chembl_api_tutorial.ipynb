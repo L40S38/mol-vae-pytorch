{
 "cells": [
  {
   "cell_type": "markdown",
   "metadata": {},
   "source": [
    "# ChEMBL api tutorial\n",
    "\n",
    "```dataset_download.ipynb```にて、データセット処理にあまりにも時間がかかるので、chemblのpython apiを用いたデータ取得にチャレンジ。\n",
    "\n",
    "[```chembl_webresource_client```パッケージのチュートリアル](https://github.com/chembl/chembl_webresource_client/blob/master/demo_wrc.ipynb)を写経しながら和訳していく。"
   ]
  },
  {
   "cell_type": "markdown",
   "metadata": {},
   "source": [
    "## Available data entities\n",
    "\n",
    "以下のコードでapiによって取得できる属性を列挙できる。"
   ]
  },
  {
   "cell_type": "code",
   "execution_count": 1,
   "metadata": {},
   "outputs": [
    {
     "name": "stdout",
     "output_type": "stream",
     "text": [
      "['activity', 'activity_supplementary_data_by_activity', 'assay', 'assay_class', 'atc_class', 'binding_site', 'biotherapeutic', 'cell_line', 'chembl_id_lookup', 'compound_record', 'compound_structural_alert', 'description', 'document', 'document_similarity', 'drug', 'drug_indication', 'drug_warning', 'go_slim', 'image', 'mechanism', 'metabolism', 'molecule', 'molecule_form', 'official', 'organism', 'protein_classification', 'similarity', 'source', 'substructure', 'target', 'target_component', 'target_relation', 'tissue', 'xref_source']\n"
     ]
    }
   ],
   "source": [
    "from chembl_webresource_client.new_client import new_client\n",
    "\n",
    "available_resources = [resource for resource in dir(new_client) if not resource.startswith('_')]\n",
    "print(available_resources)"
   ]
  },
  {
   "cell_type": "markdown",
   "metadata": {},
   "source": [
    "(Available filtersとOnly operatorは一旦略)"
   ]
  },
  {
   "cell_type": "markdown",
   "metadata": {},
   "source": [
    "## Molecules\n",
    "\n",
    "以下では、分子情報をどのように取得できるか例を挙げていく。"
   ]
  },
  {
   "cell_type": "markdown",
   "metadata": {},
   "source": [
    "### 1. Find a molecule by pref_name"
   ]
  },
  {
   "cell_type": "code",
   "execution_count": 2,
   "metadata": {},
   "outputs": [
    {
     "data": {
      "text/plain": [
       "([{'atc_classifications': ['B01AC06', 'N02BA01', 'N02BA51', 'A01AD05', 'N02BA71'], 'availability_type': 2, 'biotherapeutic': None, 'black_box_warning': 0, 'chebi_par_id': 15365, 'chemical_probe': 0, 'chirality': 2, 'cross_references': [{'xref_id': 'aspirin', 'xref_name': 'aspirin', 'xref_src': 'DailyMed'}, {'xref_id': '144203627', 'xref_name': 'SID: 144203627', 'xref_src': 'PubChem'}, {'xref_id': '144209315', 'xref_name': 'SID: 144209315', 'xref_src': 'PubChem'}, {'xref_id': '144210466', 'xref_name': 'SID: 144210466', 'xref_src': 'PubChem'}, {'xref_id': '170465039', 'xref_name': 'SID: 170465039', 'xref_src': 'PubChem'}, {'xref_id': '17389202', 'xref_name': 'SID: 17389202', 'xref_src': 'PubChem'}, {'xref_id': '17390036', 'xref_name': 'SID: 17390036', 'xref_src': 'PubChem'}, {'xref_id': '174007205', 'xref_name': 'SID: 174007205', 'xref_src': 'PubChem'}, {'xref_id': '26747283', 'xref_name': 'SID: 26747283', 'xref_src': 'PubChem'}, {'xref_id': '26752858', 'xref_name': 'SID: 26752858', 'xref_src': 'PubChem'}, {'xref_id': '47193676', 'xref_name': 'SID: 47193676', 'xref_src': 'PubChem'}, {'xref_id': '50105490', 'xref_name': 'SID: 50105490', 'xref_src': 'PubChem'}, {'xref_id': '85230910', 'xref_name': 'SID: 85230910', 'xref_src': 'PubChem'}, {'xref_id': '87798', 'xref_name': 'SID: 87798', 'xref_src': 'PubChem'}, {'xref_id': '90340586', 'xref_name': 'SID: 90340586', 'xref_src': 'PubChem'}, {'xref_id': '14', 'xref_name': 'aspirin', 'xref_src': 'TG-GATEs'}, {'xref_id': 'Aspirin', 'xref_name': None, 'xref_src': 'Wikipedia'}], 'dosed_ingredient': True, 'first_approval': 1950, 'first_in_class': 0, 'helm_notation': None, 'indication_class': 'Analgesic; Antirheumatic; Antipyretic', 'inorganic_flag': 0, 'max_phase': '4.0', 'molecule_chembl_id': 'CHEMBL25', 'molecule_hierarchy': {'active_chembl_id': 'CHEMBL25', 'molecule_chembl_id': 'CHEMBL25', 'parent_chembl_id': 'CHEMBL25'}, 'molecule_properties': {'alogp': '1.31', 'aromatic_rings': 1, 'cx_logd': '-2.16', 'cx_logp': '1.24', 'cx_most_apka': '3.41', 'cx_most_bpka': None, 'full_molformula': 'C9H8O4', 'full_mwt': '180.16', 'hba': 3, 'hba_lipinski': 4, 'hbd': 1, 'hbd_lipinski': 1, 'heavy_atoms': 13, 'molecular_species': 'ACID', 'mw_freebase': '180.16', 'mw_monoisotopic': '180.0423', 'np_likeness_score': '0.12', 'num_lipinski_ro5_violations': 0, 'num_ro5_violations': 0, 'psa': '63.60', 'qed_weighted': '0.55', 'ro3_pass': 'N', 'rtb': 2}, 'molecule_structures': {'canonical_smiles': 'CC(=O)Oc1ccccc1C(=O)O', 'molfile': '\\n     RDKit          2D\\n\\n 13 13  0  0  0  0  0  0  0  0999 V2000\\n   19.8052   -4.2758    0.0000 C   0  0  0  0  0  0  0  0  0  0  0  0\\n   19.8040   -5.0953    0.0000 C   0  0  0  0  0  0  0  0  0  0  0  0\\n   20.5121   -5.5043    0.0000 C   0  0  0  0  0  0  0  0  0  0  0  0\\n   21.2217   -5.0948    0.0000 C   0  0  0  0  0  0  0  0  0  0  0  0\\n   21.2189   -4.2722    0.0000 C   0  0  0  0  0  0  0  0  0  0  0  0\\n   20.5103   -3.8669    0.0000 C   0  0  0  0  0  0  0  0  0  0  0  0\\n   20.5078   -3.0497    0.0000 C   0  0  0  0  0  0  0  0  0  0  0  0\\n   21.2143   -2.6390    0.0000 O   0  0  0  0  0  0  0  0  0  0  0  0\\n   19.7989   -2.6432    0.0000 O   0  0  0  0  0  0  0  0  0  0  0  0\\n   21.9250   -3.8609    0.0000 O   0  0  0  0  0  0  0  0  0  0  0  0\\n   22.6343   -4.2668    0.0000 C   0  0  0  0  0  0  0  0  0  0  0  0\\n   23.3405   -3.8556    0.0000 C   0  0  0  0  0  0  0  0  0  0  0  0\\n   22.6374   -5.0840    0.0000 O   0  0  0  0  0  0  0  0  0  0  0  0\\n  1  2  2  0\\n  2  3  1  0\\n  3  4  2  0\\n  4  5  1  0\\n  5  6  2  0\\n  6  1  1  0\\n  6  7  1  0\\n  7  8  1  0\\n  7  9  2  0\\n  5 10  1  0\\n 10 11  1  0\\n 11 12  1  0\\n 11 13  2  0\\nM  END\\n> <chembl_id>\\nCHEMBL25\\n\\n> <chembl_pref_name>\\nASPIRIN', 'standard_inchi': 'InChI=1S/C9H8O4/c1-6(10)13-8-5-3-2-4-7(8)9(11)12/h2-5H,1H3,(H,11,12)', 'standard_inchi_key': 'BSYNRYMUTXBXSQ-UHFFFAOYSA-N'}, 'molecule_synonyms': [{'molecule_synonym': '8-hour bayer', 'syn_type': 'TRADE_NAME', 'synonyms': '8-HOUR BAYER'}, {'molecule_synonym': 'Acetosalic Acid', 'syn_type': 'TRADE_NAME', 'synonyms': 'Acetosalic Acid'}, {'molecule_synonym': 'Acetylsalic acid', 'syn_type': 'TRADE_NAME', 'synonyms': 'ACETYLSALIC ACID'}, {'molecule_synonym': 'Acetyl salicylate', 'syn_type': 'OTHER', 'synonyms': 'ACETYL SALICYLATE'}, {'molecule_synonym': 'Acetylsalicylic Acid', 'syn_type': 'INN', 'synonyms': 'Acetylsalicylic Acid'}, {'molecule_synonym': 'Acetylsalicylic Acid', 'syn_type': 'TRADE_NAME', 'synonyms': 'Acetylsalicylic Acid'}, {'molecule_synonym': 'Acetylsalicylic acid', 'syn_type': 'ATC', 'synonyms': 'ACETYLSALICYLIC ACID'}, {'molecule_synonym': 'Acetylsalicylic acid', 'syn_type': 'OTHER', 'synonyms': 'ACETYLSALICYLIC ACID'}, {'molecule_synonym': 'Acetylsalicylic acid (who-ip)', 'syn_type': 'OTHER', 'synonyms': 'ACETYLSALICYLIC ACID (WHO-IP)'}, {'molecule_synonym': 'Acetylsalicylicum acidum', 'syn_type': 'OTHER', 'synonyms': 'ACETYLSALICYLICUM ACIDUM'}, {'molecule_synonym': 'Acidum acetylsalicylicum', 'syn_type': 'OTHER', 'synonyms': 'ACIDUM ACETYLSALICYLICUM'}, {'molecule_synonym': 'Acidum acetylsalicylicum (who-ip)', 'syn_type': 'OTHER', 'synonyms': 'ACIDUM ACETYLSALICYLICUM (WHO-IP)'}, {'molecule_synonym': 'Alka rapid', 'syn_type': 'TRADE_NAME', 'synonyms': 'ALKA RAPID'}, {'molecule_synonym': 'Anadin all night', 'syn_type': 'TRADE_NAME', 'synonyms': 'ANADIN ALL NIGHT'}, {'molecule_synonym': 'Angettes 75', 'syn_type': 'TRADE_NAME', 'synonyms': 'ANGETTES 75'}, {'molecule_synonym': 'Aspirin', 'syn_type': 'USAN', 'synonyms': 'Aspirin'}, {'molecule_synonym': 'Aspirin', 'syn_type': 'BAN', 'synonyms': 'ASPIRIN'}, {'molecule_synonym': 'Aspirin', 'syn_type': 'BNF', 'synonyms': 'ASPIRIN'}, {'molecule_synonym': 'Aspirin', 'syn_type': 'FDA', 'synonyms': 'ASPIRIN'}, {'molecule_synonym': 'Aspirin', 'syn_type': 'JAN', 'synonyms': 'ASPIRIN'}, {'molecule_synonym': 'Aspirin', 'syn_type': 'MERCK_INDEX', 'synonyms': 'ASPIRIN'}, {'molecule_synonym': 'Aspirin', 'syn_type': 'OTHER', 'synonyms': 'ASPIRIN'}, {'molecule_synonym': 'Aspirin', 'syn_type': 'TRADE_NAME', 'synonyms': 'ASPIRIN'}, {'molecule_synonym': 'Aspirin', 'syn_type': 'USP', 'synonyms': 'ASPIRIN'}, {'molecule_synonym': 'Aspro clr', 'syn_type': 'TRADE_NAME', 'synonyms': 'ASPRO CLR'}, {'molecule_synonym': 'BAY1019036', 'syn_type': 'RESEARCH_CODE', 'synonyms': 'BAY1019036'}, {'molecule_synonym': 'Bayer extra strength aspirin for migraine pain', 'syn_type': 'TRADE_NAME', 'synonyms': 'BAYER EXTRA STRENGTH ASPIRIN FOR MIGRAINE PAIN'}, {'molecule_synonym': 'Benzoic acid, 2-(acetyloxy)-', 'syn_type': 'OTHER', 'synonyms': 'BENZOIC ACID, 2-(ACETYLOXY)-'}, {'molecule_synonym': 'Danamep', 'syn_type': 'TRADE_NAME', 'synonyms': 'DANAMEP'}, {'molecule_synonym': 'Disprin cv', 'syn_type': 'TRADE_NAME', 'synonyms': 'DISPRIN CV'}, {'molecule_synonym': 'Disprin direct', 'syn_type': 'TRADE_NAME', 'synonyms': 'DISPRIN DIRECT'}, {'molecule_synonym': 'Durlaza', 'syn_type': 'TRADE_NAME', 'synonyms': 'DURLAZA'}, {'molecule_synonym': 'Ecotrin', 'syn_type': 'TRADE_NAME', 'synonyms': 'Ecotrin'}, {'molecule_synonym': 'Enprin', 'syn_type': 'TRADE_NAME', 'synonyms': 'ENPRIN'}, {'molecule_synonym': 'Equi-Prin', 'syn_type': 'TRADE_NAME', 'synonyms': 'Equi-Prin'}, {'molecule_synonym': 'Gencardia', 'syn_type': 'TRADE_NAME', 'synonyms': 'GENCARDIA'}, {'molecule_synonym': 'Levius', 'syn_type': 'TRADE_NAME', 'synonyms': 'LEVIUS'}, {'molecule_synonym': 'Max strgh aspro clr', 'syn_type': 'TRADE_NAME', 'synonyms': 'MAX STRGH ASPRO CLR'}, {'molecule_synonym': 'Measurin', 'syn_type': 'TRADE_NAME', 'synonyms': 'MEASURIN'}, {'molecule_synonym': 'Micropirin ec', 'syn_type': 'TRADE_NAME', 'synonyms': 'MICROPIRIN EC'}, {'molecule_synonym': 'NSC-27223', 'syn_type': 'RESEARCH_CODE', 'synonyms': 'NSC-27223'}, {'molecule_synonym': 'NSC-406186', 'syn_type': 'RESEARCH_CODE', 'synonyms': 'NSC-406186'}, {'molecule_synonym': 'Nu-seals 300', 'syn_type': 'TRADE_NAME', 'synonyms': 'NU-SEALS 300'}, {'molecule_synonym': 'Nu-seals 600', 'syn_type': 'TRADE_NAME', 'synonyms': 'NU-SEALS 600'}, {'molecule_synonym': 'Nu-seals 75', 'syn_type': 'TRADE_NAME', 'synonyms': 'NU-SEALS 75'}, {'molecule_synonym': 'Nu-seals cardio 75', 'syn_type': 'TRADE_NAME', 'synonyms': 'NU-SEALS CARDIO 75'}, {'molecule_synonym': 'Paynocil', 'syn_type': 'TRADE_NAME', 'synonyms': 'PAYNOCIL'}, {'molecule_synonym': 'Platet', 'syn_type': 'TRADE_NAME', 'synonyms': 'PLATET'}, {'molecule_synonym': 'Platet 300', 'syn_type': 'TRADE_NAME', 'synonyms': 'PLATET 300'}, {'molecule_synonym': 'Postmi 300', 'syn_type': 'TRADE_NAME', 'synonyms': 'POSTMI 300'}, {'molecule_synonym': 'Postmi 75', 'syn_type': 'TRADE_NAME', 'synonyms': 'POSTMI 75'}, {'molecule_synonym': 'Salicylic Acid Acetate', 'syn_type': 'TRADE_NAME', 'synonyms': 'Salicylic Acid Acetate'}, {'molecule_synonym': 'Vazalore', 'syn_type': 'TRADE_NAME', 'synonyms': 'VAZALORE'}], 'molecule_type': 'Small molecule', 'natural_product': 1, 'oral': True, 'parenteral': False, 'polymer_flag': 0, 'pref_name': 'ASPIRIN', 'prodrug': 0, 'structure_type': 'MOL', 'therapeutic_flag': True, 'topical': False, 'usan_stem': None, 'usan_stem_definition': None, 'usan_substem': None, 'usan_year': None, 'withdrawn_flag': False}],\n",
       " 1)"
      ]
     },
     "execution_count": 2,
     "metadata": {},
     "output_type": "execute_result"
    }
   ],
   "source": [
    "from chembl_webresource_client.new_client import new_client\n",
    "\n",
    "molecule = new_client.molecule\n",
    "mols = molecule.filter(pref_name__iexact='aspirin')\n",
    "mols,len(mols)"
   ]
  },
  {
   "cell_type": "code",
   "execution_count": 3,
   "metadata": {},
   "outputs": [
    {
     "data": {
      "text/plain": [
       "'ASPIRIN'"
      ]
     },
     "execution_count": 3,
     "metadata": {},
     "output_type": "execute_result"
    }
   ],
   "source": [
    "mol = mols[0]\n",
    "#for k,v in mol.items():\n",
    "#    print(k,v)\n",
    "mol['pref_name'] #pref_nameという属性がaspirinである分子の情報を取得した。"
   ]
  },
  {
   "cell_type": "markdown",
   "metadata": {},
   "source": [
    "### 2. Find a molecule by its synonyms\n",
    "\n",
    "- ```pref_name```が見つからない場合\n",
    "- レスポンスに含めたいフィールドを指定できるメソッド```only```を使用する。"
   ]
  },
  {
   "cell_type": "code",
   "execution_count": 4,
   "metadata": {},
   "outputs": [
    {
     "data": {
      "text/plain": [
       "[{'molecule_chembl_id': 'CHEMBL192'}, {'molecule_chembl_id': 'CHEMBL1737'}]"
      ]
     },
     "execution_count": 4,
     "metadata": {},
     "output_type": "execute_result"
    }
   ],
   "source": [
    "from chembl_webresource_client.new_client import new_client\n",
    "molecule = new_client.molecule\n",
    "mols = molecule.filter(molecule_synonyms__molecule_synonym__iexact='viagra').only('molecule_chembl_id')\n",
    "mols"
   ]
  },
  {
   "cell_type": "markdown",
   "metadata": {},
   "source": [
    "### 3. Get a single molecule by ChEMBL id\n",
    "\n",
    "ChEMBL上にすべての属性があるものにはChEMBL IDがついている。"
   ]
  },
  {
   "cell_type": "code",
   "execution_count": 5,
   "metadata": {},
   "outputs": [
    {
     "data": {
      "text/plain": [
       "[{'molecule_chembl_id': 'CHEMBL192', 'molecule_structures': {'canonical_smiles': 'CCCc1nn(C)c2c(=O)[nH]c(-c3cc(S(=O)(=O)N4CCN(C)CC4)ccc3OCC)nc12', 'molfile': '\\n     RDKit          2D\\n\\n 33 36  0  0  0  0  0  0  0  0999 V2000\\n    2.1000   -0.0042    0.0000 C   0  0  0  0  0  0  0  0  0  0  0  0\\n    2.1000    0.7000    0.0000 C   0  0  0  0  0  0  0  0  0  0  0  0\\n   -1.5375   -0.0042    0.0000 S   0  0  0  0  0  0  0  0  0  0  0  0\\n    1.4917   -0.3667    0.0000 N   0  0  0  0  0  0  0  0  0  0  0  0\\n    0.8792   -0.0042    0.0000 C   0  0  0  0  0  0  0  0  0  0  0  0\\n    2.8042    0.9083    0.0000 N   0  0  0  0  0  0  0  0  0  0  0  0\\n    1.4917    1.0625    0.0000 C   0  0  0  0  0  0  0  0  0  0  0  0\\n    0.8792    0.6833    0.0000 N   0  0  0  0  0  0  0  0  0  0  0  0\\n    3.2042    0.3458    0.0000 N   0  0  0  0  0  0  0  0  0  0  0  0\\n    2.8042   -0.2417    0.0000 C   0  0  0  0  0  0  0  0  0  0  0  0\\n    0.2875   -0.3750    0.0000 C   0  0  0  0  0  0  0  0  0  0  0  0\\n   -2.1583   -0.3750    0.0000 N   0  0  0  0  0  0  0  0  0  0  0  0\\n   -0.9333   -0.3750    0.0000 C   0  0  0  0  0  0  0  0  0  0  0  0\\n   -0.3208   -0.0333    0.0000 C   0  0  0  0  0  0  0  0  0  0  0  0\\n   -1.1875    0.6083    0.0000 O   0  0  0  0  0  0  0  0  0  0  0  0\\n   -1.8958    0.6083    0.0000 O   0  0  0  0  0  0  0  0  0  0  0  0\\n   -3.3958   -1.0917    0.0000 N   0  0  0  0  0  0  0  0  0  0  0  0\\n   -2.7833   -0.0042    0.0000 C   0  0  0  0  0  0  0  0  0  0  0  0\\n   -2.1583   -1.0917    0.0000 C   0  0  0  0  0  0  0  0  0  0  0  0\\n    0.2875   -1.1125    0.0000 C   0  0  0  0  0  0  0  0  0  0  0  0\\n    1.4917    1.7708    0.0000 O   0  0  0  0  0  0  0  0  0  0  0  0\\n   -0.9333   -1.1125    0.0000 C   0  0  0  0  0  0  0  0  0  0  0  0\\n   -0.3208   -1.4542    0.0000 C   0  0  0  0  0  0  0  0  0  0  0  0\\n   -3.3958   -0.3750    0.0000 C   0  0  0  0  0  0  0  0  0  0  0  0\\n   -2.7833   -1.4417    0.0000 C   0  0  0  0  0  0  0  0  0  0  0  0\\n    3.0750    1.5750    0.0000 C   0  0  0  0  0  0  0  0  0  0  0  0\\n    2.8042   -0.9500    0.0000 C   0  0  0  0  0  0  0  0  0  0  0  0\\n    0.8792   -1.4542    0.0000 O   0  0  0  0  0  0  0  0  0  0  0  0\\n   -3.9958   -1.4292    0.0000 C   0  0  0  0  0  0  0  0  0  0  0  0\\n    1.4958   -1.1000    0.0000 C   0  0  0  0  0  0  0  0  0  0  0  0\\n    3.4167   -1.3125    0.0000 C   0  0  0  0  0  0  0  0  0  0  0  0\\n    2.1125   -1.4500    0.0000 C   0  0  0  0  0  0  0  0  0  0  0  0\\n    4.0375   -0.9542    0.0000 C   0  0  0  0  0  0  0  0  0  0  0  0\\n  2  1  2  0\\n  3 13  1  0\\n  4  1  1  0\\n  5  4  2  0\\n  6  2  1  0\\n  7  2  1  0\\n  8  5  1  0\\n  9 10  2  0\\n 10  1  1  0\\n 11  5  1  0\\n 12  3  1  0\\n 13 14  2  0\\n 14 11  1  0\\n 15  3  2  0\\n 16  3  2  0\\n 17 25  1  0\\n 18 12  1  0\\n 19 12  1  0\\n 20 11  2  0\\n 21  7  2  0\\n 22 23  2  0\\n 23 20  1  0\\n 24 18  1  0\\n 25 19  1  0\\n 26  6  1  0\\n 27 10  1  0\\n 28 20  1  0\\n 29 17  1  0\\n 30 28  1  0\\n 31 27  1  0\\n 32 30  1  0\\n 33 31  1  0\\n  9  6  1  0\\n  8  7  1  0\\n 22 13  1  0\\n 17 24  1  0\\nM  END\\n> <chembl_id>\\nCHEMBL192\\n\\n> <chembl_pref_name>\\nSILDENAFIL', 'standard_inchi': 'InChI=1S/C22H30N6O4S/c1-5-7-17-19-20(27(4)25-17)22(29)24-21(23-19)16-14-15(8-9-18(16)32-6-2)33(30,31)28-12-10-26(3)11-13-28/h8-9,14H,5-7,10-13H2,1-4H3,(H,23,24,29)', 'standard_inchi_key': 'BNRNXUUZRGQAQC-UHFFFAOYSA-N'}, 'pref_name': 'SILDENAFIL'}]"
      ]
     },
     "execution_count": 5,
     "metadata": {},
     "output_type": "execute_result"
    }
   ],
   "source": [
    "from chembl_webresource_client.new_client import new_client\n",
    "molecule = new_client.molecule\n",
    "m1 = molecule.filter(chembl_id='CHEMBL192').only(['molecule_chembl_id','pref_name','molecule_structures'])\n",
    "m1"
   ]
  },
  {
   "cell_type": "markdown",
   "metadata": {},
   "source": [
    "### 4. Get many molecules by id\n",
    "\n",
    "複数のidを指定することで複数の分子を取得することができる。"
   ]
  },
  {
   "cell_type": "code",
   "execution_count": 6,
   "metadata": {},
   "outputs": [
    {
     "data": {
      "text/plain": [
       "[{'molecule_chembl_id': 'CHEMBL25', 'pref_name': 'ASPIRIN'}, {'molecule_chembl_id': 'CHEMBL27', 'pref_name': 'PROPRANOLOL'}, {'molecule_chembl_id': 'CHEMBL192', 'pref_name': 'SILDENAFIL'}]"
      ]
     },
     "execution_count": 6,
     "metadata": {},
     "output_type": "execute_result"
    }
   ],
   "source": [
    "from chembl_webresource_client.new_client import new_client\n",
    "molecule = new_client.molecule\n",
    "mols = molecule.filter(molecule_chembl_id__in=['CHEMBL25','CHEMBL192','CHEMBL27']).only(['molecule_chembl_id','pref_name'])\n",
    "mols"
   ]
  },
  {
   "cell_type": "markdown",
   "metadata": {},
   "source": [
    "### 5. Display a molecule image"
   ]
  },
  {
   "cell_type": "code",
   "execution_count": 7,
   "metadata": {},
   "outputs": [
    {
     "data": {
      "image/svg+xml": [
       "<svg xmlns=\"http://www.w3.org/2000/svg\" xmlns:rdkit=\"http://www.rdkit.org/xml\" xmlns:xlink=\"http://www.w3.org/1999/xlink\" version=\"1.1\" baseProfile=\"full\" xml:space=\"preserve\" width=\"500px\" height=\"500px\" viewBox=\"0 0 500 500\">\n",
       "<!-- END OF HEADER -->\n",
       "<path class=\"bond-0 atom-0 atom-1\" d=\"M 41.9,282.0 L 41.7,381.7\" style=\"fill:none;fill-rule:evenodd;stroke:#000000;stroke-width:2.0px;stroke-linecap:butt;stroke-linejoin:miter;stroke-opacity:1\"/>\n",
       "<path class=\"bond-0 atom-0 atom-1\" d=\"M 56.8,290.6 L 56.6,373.1\" style=\"fill:none;fill-rule:evenodd;stroke:#000000;stroke-width:2.0px;stroke-linecap:butt;stroke-linejoin:miter;stroke-opacity:1\"/>\n",
       "<path class=\"bond-1 atom-1 atom-2\" d=\"M 41.7,381.7 L 127.8,431.4\" style=\"fill:none;fill-rule:evenodd;stroke:#000000;stroke-width:2.0px;stroke-linecap:butt;stroke-linejoin:miter;stroke-opacity:1\"/>\n",
       "<path class=\"bond-2 atom-2 atom-3\" d=\"M 127.8,431.4 L 214.2,381.6\" style=\"fill:none;fill-rule:evenodd;stroke:#000000;stroke-width:2.0px;stroke-linecap:butt;stroke-linejoin:miter;stroke-opacity:1\"/>\n",
       "<path class=\"bond-2 atom-2 atom-3\" d=\"M 127.8,414.2 L 199.2,373.0\" style=\"fill:none;fill-rule:evenodd;stroke:#000000;stroke-width:2.0px;stroke-linecap:butt;stroke-linejoin:miter;stroke-opacity:1\"/>\n",
       "<path class=\"bond-3 atom-3 atom-4\" d=\"M 214.2,381.6 L 213.8,281.6\" style=\"fill:none;fill-rule:evenodd;stroke:#000000;stroke-width:2.0px;stroke-linecap:butt;stroke-linejoin:miter;stroke-opacity:1\"/>\n",
       "<path class=\"bond-4 atom-4 atom-5\" d=\"M 213.8,281.6 L 127.6,232.3\" style=\"fill:none;fill-rule:evenodd;stroke:#000000;stroke-width:2.0px;stroke-linecap:butt;stroke-linejoin:miter;stroke-opacity:1\"/>\n",
       "<path class=\"bond-4 atom-4 atom-5\" d=\"M 198.9,290.2 L 127.7,249.5\" style=\"fill:none;fill-rule:evenodd;stroke:#000000;stroke-width:2.0px;stroke-linecap:butt;stroke-linejoin:miter;stroke-opacity:1\"/>\n",
       "<path class=\"bond-5 atom-5 atom-0\" d=\"M 127.6,232.3 L 41.9,282.0\" style=\"fill:none;fill-rule:evenodd;stroke:#000000;stroke-width:2.0px;stroke-linecap:butt;stroke-linejoin:miter;stroke-opacity:1\"/>\n",
       "<path class=\"bond-6 atom-5 atom-6\" d=\"M 127.6,232.3 L 127.3,132.8\" style=\"fill:none;fill-rule:evenodd;stroke:#000000;stroke-width:2.0px;stroke-linecap:butt;stroke-linejoin:miter;stroke-opacity:1\"/>\n",
       "<path class=\"bond-7 atom-6 atom-7\" d=\"M 127.3,132.8 L 162.2,112.6\" style=\"fill:none;fill-rule:evenodd;stroke:#000000;stroke-width:2.0px;stroke-linecap:butt;stroke-linejoin:miter;stroke-opacity:1\"/>\n",
       "<path class=\"bond-7 atom-6 atom-7\" d=\"M 162.2,112.6 L 197.0,92.3\" style=\"fill:none;fill-rule:evenodd;stroke:#FF0000;stroke-width:2.0px;stroke-linecap:butt;stroke-linejoin:miter;stroke-opacity:1\"/>\n",
       "<path class=\"bond-8 atom-6 atom-8\" d=\"M 134.8,128.5 L 97.9,107.4\" style=\"fill:none;fill-rule:evenodd;stroke:#000000;stroke-width:2.0px;stroke-linecap:butt;stroke-linejoin:miter;stroke-opacity:1\"/>\n",
       "<path class=\"bond-8 atom-6 atom-8\" d=\"M 97.9,107.4 L 61.1,86.3\" style=\"fill:none;fill-rule:evenodd;stroke:#FF0000;stroke-width:2.0px;stroke-linecap:butt;stroke-linejoin:miter;stroke-opacity:1\"/>\n",
       "<path class=\"bond-8 atom-6 atom-8\" d=\"M 127.3,141.5 L 90.5,120.3\" style=\"fill:none;fill-rule:evenodd;stroke:#000000;stroke-width:2.0px;stroke-linecap:butt;stroke-linejoin:miter;stroke-opacity:1\"/>\n",
       "<path class=\"bond-8 atom-6 atom-8\" d=\"M 90.5,120.3 L 53.7,99.2\" style=\"fill:none;fill-rule:evenodd;stroke:#FF0000;stroke-width:2.0px;stroke-linecap:butt;stroke-linejoin:miter;stroke-opacity:1\"/>\n",
       "<path class=\"bond-9 atom-4 atom-9\" d=\"M 213.8,281.6 L 248.6,261.3\" style=\"fill:none;fill-rule:evenodd;stroke:#000000;stroke-width:2.0px;stroke-linecap:butt;stroke-linejoin:miter;stroke-opacity:1\"/>\n",
       "<path class=\"bond-9 atom-4 atom-9\" d=\"M 248.6,261.3 L 283.4,241.0\" style=\"fill:none;fill-rule:evenodd;stroke:#FF0000;stroke-width:2.0px;stroke-linecap:butt;stroke-linejoin:miter;stroke-opacity:1\"/>\n",
       "<path class=\"bond-10 atom-9 atom-10\" d=\"M 316.0,240.8 L 351.0,260.9\" style=\"fill:none;fill-rule:evenodd;stroke:#FF0000;stroke-width:2.0px;stroke-linecap:butt;stroke-linejoin:miter;stroke-opacity:1\"/>\n",
       "<path class=\"bond-10 atom-9 atom-10\" d=\"M 351.0,260.9 L 386.0,280.9\" style=\"fill:none;fill-rule:evenodd;stroke:#000000;stroke-width:2.0px;stroke-linecap:butt;stroke-linejoin:miter;stroke-opacity:1\"/>\n",
       "<path class=\"bond-11 atom-10 atom-11\" d=\"M 386.0,280.9 L 471.9,230.9\" style=\"fill:none;fill-rule:evenodd;stroke:#000000;stroke-width:2.0px;stroke-linecap:butt;stroke-linejoin:miter;stroke-opacity:1\"/>\n",
       "<path class=\"bond-12 atom-10 atom-12\" d=\"M 378.5,276.6 L 378.7,319.7\" style=\"fill:none;fill-rule:evenodd;stroke:#000000;stroke-width:2.0px;stroke-linecap:butt;stroke-linejoin:miter;stroke-opacity:1\"/>\n",
       "<path class=\"bond-12 atom-10 atom-12\" d=\"M 378.7,319.7 L 378.9,362.7\" style=\"fill:none;fill-rule:evenodd;stroke:#FF0000;stroke-width:2.0px;stroke-linecap:butt;stroke-linejoin:miter;stroke-opacity:1\"/>\n",
       "<path class=\"bond-12 atom-10 atom-12\" d=\"M 393.4,276.6 L 393.6,319.6\" style=\"fill:none;fill-rule:evenodd;stroke:#000000;stroke-width:2.0px;stroke-linecap:butt;stroke-linejoin:miter;stroke-opacity:1\"/>\n",
       "<path class=\"bond-12 atom-10 atom-12\" d=\"M 393.6,319.6 L 393.8,362.7\" style=\"fill:none;fill-rule:evenodd;stroke:#FF0000;stroke-width:2.0px;stroke-linecap:butt;stroke-linejoin:miter;stroke-opacity:1\"/>\n",
       "<path d=\"M 41.8,287.0 L 41.9,282.0 L 46.1,279.5\" style=\"fill:none;stroke:#000000;stroke-width:2.0px;stroke-linecap:butt;stroke-linejoin:miter;stroke-opacity:1;\"/>\n",
       "<path d=\"M 41.7,376.7 L 41.7,381.7 L 46.0,384.2\" style=\"fill:none;stroke:#000000;stroke-width:2.0px;stroke-linecap:butt;stroke-linejoin:miter;stroke-opacity:1;\"/>\n",
       "<path d=\"M 123.5,428.9 L 127.8,431.4 L 132.2,428.9\" style=\"fill:none;stroke:#000000;stroke-width:2.0px;stroke-linecap:butt;stroke-linejoin:miter;stroke-opacity:1;\"/>\n",
       "<path d=\"M 209.9,384.1 L 214.2,381.6 L 214.1,376.6\" style=\"fill:none;stroke:#000000;stroke-width:2.0px;stroke-linecap:butt;stroke-linejoin:miter;stroke-opacity:1;\"/>\n",
       "<path d=\"M 127.3,137.8 L 127.3,132.8 L 129.1,131.8\" style=\"fill:none;stroke:#000000;stroke-width:2.0px;stroke-linecap:butt;stroke-linejoin:miter;stroke-opacity:1;\"/>\n",
       "<path d=\"M 384.3,279.9 L 386.0,280.9 L 390.3,278.4\" style=\"fill:none;stroke:#000000;stroke-width:2.0px;stroke-linecap:butt;stroke-linejoin:miter;stroke-opacity:1;\"/>\n",
       "<path class=\"atom-7\" d=\"M 200.3 83.0 Q 200.3 76.2, 203.6 72.4 Q 207.0 68.6, 213.3 68.6 Q 219.5 68.6, 222.9 72.4 Q 226.3 76.2, 226.3 83.0 Q 226.3 89.8, 222.9 93.8 Q 219.5 97.6, 213.3 97.6 Q 207.0 97.6, 203.6 93.8 Q 200.3 89.9, 200.3 83.0 M 213.3 94.4 Q 217.6 94.4, 219.9 91.6 Q 222.3 88.6, 222.3 83.0 Q 222.3 77.4, 219.9 74.6 Q 217.6 71.8, 213.3 71.8 Q 208.9 71.8, 206.6 74.6 Q 204.3 77.4, 204.3 83.0 Q 204.3 88.7, 206.6 91.6 Q 208.9 94.4, 213.3 94.4 \" fill=\"#FF0000\"/>\n",
       "<path class=\"atom-7\" d=\"M 230.7 68.9 L 234.5 68.9 L 234.5 80.9 L 249.0 80.9 L 249.0 68.9 L 252.8 68.9 L 252.8 97.2 L 249.0 97.2 L 249.0 84.1 L 234.5 84.1 L 234.5 97.2 L 230.7 97.2 L 230.7 68.9 \" fill=\"#FF0000\"/>\n",
       "<path class=\"atom-8\" d=\"M 28.1 83.5 Q 28.1 76.7, 31.4 72.9 Q 34.8 69.1, 41.1 69.1 Q 47.4 69.1, 50.7 72.9 Q 54.1 76.7, 54.1 83.5 Q 54.1 90.4, 50.7 94.3 Q 47.3 98.2, 41.1 98.2 Q 34.8 98.2, 31.4 94.3 Q 28.1 90.4, 28.1 83.5 M 41.1 95.0 Q 45.4 95.0, 47.7 92.1 Q 50.1 89.2, 50.1 83.5 Q 50.1 77.9, 47.7 75.1 Q 45.4 72.3, 41.1 72.3 Q 36.8 72.3, 34.4 75.1 Q 32.1 77.9, 32.1 83.5 Q 32.1 89.2, 34.4 92.1 Q 36.8 95.0, 41.1 95.0 \" fill=\"#FF0000\"/>\n",
       "<path class=\"atom-9\" d=\"M 286.7 231.6 Q 286.7 224.8, 290.1 221.0 Q 293.4 217.2, 299.7 217.2 Q 306.0 217.2, 309.4 221.0 Q 312.7 224.8, 312.7 231.6 Q 312.7 238.5, 309.3 242.4 Q 305.9 246.3, 299.7 246.3 Q 293.5 246.3, 290.1 242.4 Q 286.7 238.5, 286.7 231.6 M 299.7 243.1 Q 304.0 243.1, 306.4 240.2 Q 308.7 237.3, 308.7 231.6 Q 308.7 226.0, 306.4 223.2 Q 304.0 220.4, 299.7 220.4 Q 295.4 220.4, 293.0 223.2 Q 290.7 226.0, 290.7 231.6 Q 290.7 237.3, 293.0 240.2 Q 295.4 243.1, 299.7 243.1 \" fill=\"#FF0000\"/>\n",
       "<path class=\"atom-12\" d=\"M 373.4 380.4 Q 373.4 373.6, 376.7 369.8 Q 380.1 366.0, 386.4 366.0 Q 392.7 366.0, 396.0 369.8 Q 399.4 373.6, 399.4 380.4 Q 399.4 387.3, 396.0 391.2 Q 392.6 395.1, 386.4 395.1 Q 380.1 395.1, 376.7 391.2 Q 373.4 387.3, 373.4 380.4 M 386.4 391.9 Q 390.7 391.9, 393.0 389.0 Q 395.4 386.1, 395.4 380.4 Q 395.4 374.8, 393.0 372.0 Q 390.7 369.2, 386.4 369.2 Q 382.1 369.2, 379.7 372.0 Q 377.4 374.8, 377.4 380.4 Q 377.4 386.1, 379.7 389.0 Q 382.1 391.9, 386.4 391.9 \" fill=\"#FF0000\"/>\n",
       "</svg>"
      ],
      "text/plain": [
       "<IPython.core.display.SVG object>"
      ]
     },
     "execution_count": 7,
     "metadata": {},
     "output_type": "execute_result"
    }
   ],
   "source": [
    "from chembl_webresource_client.new_client import new_client\n",
    "from IPython.display import SVG\n",
    "\n",
    "image = new_client.image\n",
    "image.set_format('svg')\n",
    "SVG(image.get('CHEMBL25'))"
   ]
  },
  {
   "cell_type": "markdown",
   "metadata": {},
   "source": [
    "### 6. Get a single molecule by standard inchi key"
   ]
  },
  {
   "cell_type": "code",
   "execution_count": 8,
   "metadata": {},
   "outputs": [
    {
     "data": {
      "text/plain": [
       "[{'molecule_chembl_id': 'CHEMBL25', 'molecule_structures': {'canonical_smiles': 'CC(=O)Oc1ccccc1C(=O)O', 'molfile': '\\n     RDKit          2D\\n\\n 13 13  0  0  0  0  0  0  0  0999 V2000\\n   19.8052   -4.2758    0.0000 C   0  0  0  0  0  0  0  0  0  0  0  0\\n   19.8040   -5.0953    0.0000 C   0  0  0  0  0  0  0  0  0  0  0  0\\n   20.5121   -5.5043    0.0000 C   0  0  0  0  0  0  0  0  0  0  0  0\\n   21.2217   -5.0948    0.0000 C   0  0  0  0  0  0  0  0  0  0  0  0\\n   21.2189   -4.2722    0.0000 C   0  0  0  0  0  0  0  0  0  0  0  0\\n   20.5103   -3.8669    0.0000 C   0  0  0  0  0  0  0  0  0  0  0  0\\n   20.5078   -3.0497    0.0000 C   0  0  0  0  0  0  0  0  0  0  0  0\\n   21.2143   -2.6390    0.0000 O   0  0  0  0  0  0  0  0  0  0  0  0\\n   19.7989   -2.6432    0.0000 O   0  0  0  0  0  0  0  0  0  0  0  0\\n   21.9250   -3.8609    0.0000 O   0  0  0  0  0  0  0  0  0  0  0  0\\n   22.6343   -4.2668    0.0000 C   0  0  0  0  0  0  0  0  0  0  0  0\\n   23.3405   -3.8556    0.0000 C   0  0  0  0  0  0  0  0  0  0  0  0\\n   22.6374   -5.0840    0.0000 O   0  0  0  0  0  0  0  0  0  0  0  0\\n  1  2  2  0\\n  2  3  1  0\\n  3  4  2  0\\n  4  5  1  0\\n  5  6  2  0\\n  6  1  1  0\\n  6  7  1  0\\n  7  8  1  0\\n  7  9  2  0\\n  5 10  1  0\\n 10 11  1  0\\n 11 12  1  0\\n 11 13  2  0\\nM  END\\n> <chembl_id>\\nCHEMBL25\\n\\n> <chembl_pref_name>\\nASPIRIN', 'standard_inchi': 'InChI=1S/C9H8O4/c1-6(10)13-8-5-3-2-4-7(8)9(11)12/h2-5H,1H3,(H,11,12)', 'standard_inchi_key': 'BSYNRYMUTXBXSQ-UHFFFAOYSA-N'}, 'pref_name': 'ASPIRIN'}]"
      ]
     },
     "execution_count": 8,
     "metadata": {},
     "output_type": "execute_result"
    }
   ],
   "source": [
    "from chembl_webresource_client.new_client import new_client\n",
    "\n",
    "molecule = new_client.molecule\n",
    "mol = molecule.filter(molecule_structures__standard_inchi_key='BSYNRYMUTXBXSQ-UHFFFAOYSA-N').only(['molecule_chembl_id', 'pref_name', 'molecule_structures'])\n",
    "mol"
   ]
  },
  {
   "cell_type": "markdown",
   "metadata": {},
   "source": [
    "### 7. Find compounds similar to given SMILES query with similarity threshold of 70%"
   ]
  },
  {
   "cell_type": "code",
   "execution_count": 9,
   "metadata": {},
   "outputs": [
    {
     "name": "stdout",
     "output_type": "stream",
     "text": [
      "{'molecule_chembl_id': 'CHEMBL478779', 'molecule_structures': {'canonical_smiles': 'C=CCCCCC(C)CCC/C=C/C#CCC[C@H](OC)C(=O)O', 'molfile': '\\n     RDKit          2D\\n\\n 23 22  0  0  0  0  0  0  0  0999 V2000\\n    7.8000   -6.7125    0.0000 C   0  0  0  0  0  0  0  0  0  0  0  0\\n    7.7958   -5.8875    0.0000 O   0  0  0  0  0  0  0  0  0  0  0  0\\n    8.5082   -5.4714    0.0000 C   0  0  0  0  0  0  0  0  0  0  0  0\\n    8.5165   -7.1214    0.0000 C   0  0  0  0  0  0  0  0  0  0  0  0\\n    7.0876   -7.1286    0.0000 C   0  0  0  0  0  0  0  0  0  0  0  0\\n    6.3711   -6.7197    0.0000 O   0  0  0  0  0  0  0  0  0  0  0  0\\n    7.0918   -7.9536    0.0000 O   0  0  0  0  0  0  0  0  0  0  0  0\\n    9.2289   -6.7053    0.0000 C   0  0  0  0  0  0  0  0  0  0  0  0\\n    9.9455   -7.1142    0.0000 C   0  0  0  0  0  0  0  0  0  0  0  0\\n   10.6542   -7.5250    0.0000 C   0  0  0  0  0  0  0  0  0  0  0  0\\n   11.3679   -7.9388    0.0000 C   0  0  0  0  0  0  0  0  0  0  0  0\\n   12.0831   -7.5275    0.0000 C   0  0  0  0  0  0  0  0  0  0  0  0\\n   12.7969   -7.9413    0.0000 C   0  0  0  0  0  0  0  0  0  0  0  0\\n   13.5120   -7.5300    0.0000 C   0  0  0  0  0  0  0  0  0  0  0  0\\n   14.2258   -7.9438    0.0000 C   0  0  0  0  0  0  0  0  0  0  0  0\\n   14.9410   -7.5325    0.0000 C   0  0  0  0  0  0  0  0  0  0  0  0\\n   15.6547   -7.9463    0.0000 C   0  0  0  0  0  0  0  0  0  0  0  0\\n   14.9424   -6.7075    0.0000 C   0  0  0  0  0  0  0  0  0  0  0  0\\n   16.3699   -7.5351    0.0000 C   0  0  0  0  0  0  0  0  0  0  0  0\\n   17.0837   -7.9488    0.0000 C   0  0  0  0  0  0  0  0  0  0  0  0\\n   17.7989   -7.5376    0.0000 C   0  0  0  0  0  0  0  0  0  0  0  0\\n   18.5126   -7.9513    0.0000 C   0  0  0  0  0  0  0  0  0  0  0  0\\n   19.2278   -7.5401    0.0000 C   0  0  0  0  0  0  0  0  0  0  0  0\\n 11 12  2  0\\n  1  2  1  1\\n 12 13  1  0\\n  5  7  2  0\\n 13 14  1  0\\n  1  4  1  0\\n 14 15  1  0\\n  4  8  1  0\\n 15 16  1  0\\n 16 17  1  0\\n  8  9  1  0\\n 16 18  1  0\\n  1  5  1  0\\n 17 19  1  0\\n  9 10  3  0\\n 19 20  1  0\\n  2  3  1  0\\n 20 21  1  0\\n 10 11  1  0\\n 21 22  1  0\\n  5  6  1  0\\n 22 23  2  0\\nM  END\\n> <chembl_id>\\nCHEMBL478779\\n\\n> <chembl_pref_name>\\nundefined', 'standard_inchi': 'InChI=1S/C20H32O3/c1-4-5-6-12-15-18(2)16-13-10-8-7-9-11-14-17-19(23-3)20(21)22/h4,7-8,18-19H,1,5-6,10,12-17H2,2-3H3,(H,21,22)/b8-7+/t18?,19-/m0/s1', 'standard_inchi_key': 'KHBWVVURFCWYNT-QZEVDHHRSA-N'}, 'similarity': '100'}\n",
      "{'molecule_chembl_id': 'CHEMBL477889', 'molecule_structures': {'canonical_smiles': 'C=CCCCCC(C)CCC/C=C\\\\C#CCC[C@H](OC)C(=O)[O-].[Na+]', 'molfile': '\\n     RDKit          2D\\n\\n 24 22  0  0  0  0  0  0  0  0999 V2000\\n   -4.4083   -6.8417    0.0000 Na  0  0  0  0  0 15  0  0  0  0  0  0\\n   -1.9125   -6.9083    0.0000 C   0  0  0  0  0  0  0  0  0  0  0  0\\n   -1.9167   -6.0833    0.0000 O   0  0  0  0  0  0  0  0  0  0  0  0\\n   -1.2043   -5.6672    0.0000 C   0  0  0  0  0  0  0  0  0  0  0  0\\n   -1.1960   -7.3172    0.0000 C   0  0  0  0  0  0  0  0  0  0  0  0\\n   -2.6249   -7.3244    0.0000 C   0  0  0  0  0  0  0  0  0  0  0  0\\n   -3.3414   -6.9156    0.0000 O   0  0  0  0  0  0  0  0  0  0  0  0\\n   -2.6207   -8.1494    0.0000 O   0  0  0  0  0  0  0  0  0  0  0  0\\n   -0.4836   -6.9011    0.0000 C   0  0  0  0  0  0  0  0  0  0  0  0\\n    0.2330   -7.3100    0.0000 C   0  0  0  0  0  0  0  0  0  0  0  0\\n    0.9417   -7.7208    0.0000 C   0  0  0  0  0  0  0  0  0  0  0  0\\n    1.6554   -8.1346    0.0000 C   0  0  0  0  0  0  0  0  0  0  0  0\\n    2.3669   -7.7162    0.0000 C   0  0  0  0  0  0  0  0  0  0  0  0\\n    2.3673   -6.8912    0.0000 C   0  0  0  0  0  0  0  0  0  0  0  0\\n    1.6530   -6.4783    0.0000 C   0  0  0  0  0  0  0  0  0  0  0  0\\n    1.6535   -5.6533    0.0000 C   0  0  0  0  0  0  0  0  0  0  0  0\\n    0.9392   -5.2404    0.0000 C   0  0  0  0  0  0  0  0  0  0  0  0\\n    0.9396   -4.4154    0.0000 C   0  0  0  0  0  0  0  0  0  0  0  0\\n    0.2245   -5.6525    0.0000 C   0  0  0  0  0  0  0  0  0  0  0  0\\n    0.2254   -4.0025    0.0000 C   0  0  0  0  0  0  0  0  0  0  0  0\\n    0.2258   -3.1775    0.0000 C   0  0  0  0  0  0  0  0  0  0  0  0\\n   -0.4884   -2.7647    0.0000 C   0  0  0  0  0  0  0  0  0  0  0  0\\n   -0.4880   -1.9397    0.0000 C   0  0  0  0  0  0  0  0  0  0  0  0\\n   -1.2023   -1.5268    0.0000 C   0  0  0  0  0  0  0  0  0  0  0  0\\n 12 13  2  0\\n  6  7  1  0\\n 13 14  1  0\\n  3  4  1  0\\n 14 15  1  0\\n  6  8  2  0\\n 15 16  1  0\\n 16 17  1  0\\n  5  9  1  0\\n 17 18  1  0\\n  2  5  1  0\\n 17 19  1  0\\n  9 10  1  0\\n 18 20  1  0\\n  2  3  1  1\\n 20 21  1  0\\n 10 11  3  0\\n 21 22  1  0\\n  2  6  1  0\\n 22 23  1  0\\n 11 12  1  0\\n 23 24  2  0\\nM  CHG  2   1   1   7  -1\\nM  END\\n> <chembl_id>\\nCHEMBL477889\\n\\n> <chembl_pref_name>\\nundefined', 'standard_inchi': 'InChI=1S/C20H32O3.Na/c1-4-5-6-12-15-18(2)16-13-10-8-7-9-11-14-17-19(23-3)20(21)22;/h4,7-8,18-19H,1,5-6,10,12-17H2,2-3H3,(H,21,22);/q;+1/p-1/b8-7-;/t18?,19-;/m0./s1', 'standard_inchi_key': 'RLSXKIUQYFNFBI-PJZMSVRGSA-M'}, 'similarity': '100'}\n",
      "{'molecule_chembl_id': 'CHEMBL477888', 'molecule_structures': {'canonical_smiles': 'C=CCCCCC(C)CCC/C=C\\\\C#CCC[C@H](OC)C(=O)O', 'molfile': '\\n     RDKit          2D\\n\\n 23 22  0  0  0  0  0  0  0  0999 V2000\\n   -1.9125   -6.9083    0.0000 C   0  0  0  0  0  0  0  0  0  0  0  0\\n   -1.9167   -6.0833    0.0000 O   0  0  0  0  0  0  0  0  0  0  0  0\\n   -1.2043   -5.6672    0.0000 C   0  0  0  0  0  0  0  0  0  0  0  0\\n   -1.1960   -7.3172    0.0000 C   0  0  0  0  0  0  0  0  0  0  0  0\\n   -2.6249   -7.3244    0.0000 C   0  0  0  0  0  0  0  0  0  0  0  0\\n   -3.3414   -6.9156    0.0000 O   0  0  0  0  0  0  0  0  0  0  0  0\\n   -2.6207   -8.1494    0.0000 O   0  0  0  0  0  0  0  0  0  0  0  0\\n   -0.4836   -6.9011    0.0000 C   0  0  0  0  0  0  0  0  0  0  0  0\\n    0.2330   -7.3100    0.0000 C   0  0  0  0  0  0  0  0  0  0  0  0\\n    0.9417   -7.7208    0.0000 C   0  0  0  0  0  0  0  0  0  0  0  0\\n    1.6554   -8.1346    0.0000 C   0  0  0  0  0  0  0  0  0  0  0  0\\n    2.3669   -7.7162    0.0000 C   0  0  0  0  0  0  0  0  0  0  0  0\\n    2.3673   -6.8912    0.0000 C   0  0  0  0  0  0  0  0  0  0  0  0\\n    1.6530   -6.4783    0.0000 C   0  0  0  0  0  0  0  0  0  0  0  0\\n    1.6535   -5.6533    0.0000 C   0  0  0  0  0  0  0  0  0  0  0  0\\n    0.9392   -5.2404    0.0000 C   0  0  0  0  0  0  0  0  0  0  0  0\\n    0.9396   -4.4154    0.0000 C   0  0  0  0  0  0  0  0  0  0  0  0\\n    0.2245   -5.6525    0.0000 C   0  0  0  0  0  0  0  0  0  0  0  0\\n    0.2254   -4.0025    0.0000 C   0  0  0  0  0  0  0  0  0  0  0  0\\n    0.2258   -3.1775    0.0000 C   0  0  0  0  0  0  0  0  0  0  0  0\\n   -0.4884   -2.7647    0.0000 C   0  0  0  0  0  0  0  0  0  0  0  0\\n   -0.4880   -1.9397    0.0000 C   0  0  0  0  0  0  0  0  0  0  0  0\\n   -1.2023   -1.5268    0.0000 C   0  0  0  0  0  0  0  0  0  0  0  0\\n 11 12  2  0\\n  5  6  1  0\\n 12 13  1  0\\n  2  3  1  0\\n 13 14  1  0\\n  5  7  2  0\\n 14 15  1  0\\n 15 16  1  0\\n  4  8  1  0\\n 16 17  1  0\\n  1  4  1  0\\n 16 18  1  0\\n  8  9  1  0\\n 17 19  1  0\\n  1  2  1  1\\n 19 20  1  0\\n  9 10  3  0\\n 20 21  1  0\\n  1  5  1  0\\n 21 22  1  0\\n 10 11  1  0\\n 22 23  2  0\\nM  END\\n> <chembl_id>\\nCHEMBL477888\\n\\n> <chembl_pref_name>\\nundefined', 'standard_inchi': 'InChI=1S/C20H32O3/c1-4-5-6-12-15-18(2)16-13-10-8-7-9-11-14-17-19(23-3)20(21)22/h4,7-8,18-19H,1,5-6,10,12-17H2,2-3H3,(H,21,22)/b8-7-/t18?,19-/m0/s1', 'standard_inchi_key': 'KHBWVVURFCWYNT-YAALGORWSA-N'}, 'similarity': '100'}\n",
      "{'molecule_chembl_id': 'CHEMBL449975', 'molecule_structures': {'canonical_smiles': 'C=CCCCCC(C)CCCCCC#CCC[C@H](OC)C(=O)O', 'molfile': '\\n     RDKit          2D\\n\\n 23 22  0  0  0  0  0  0  0  0999 V2000\\n   -2.2208    1.5292    0.0000 C   0  0  0  0  0  0  0  0  0  0  0  0\\n   -2.2250    2.3542    0.0000 O   0  0  0  0  0  0  0  0  0  0  0  0\\n   -1.5126    2.7703    0.0000 C   0  0  0  0  0  0  0  0  0  0  0  0\\n   -1.5043    1.1203    0.0000 C   0  0  0  0  0  0  0  0  0  0  0  0\\n   -2.9332    1.1131    0.0000 C   0  0  0  0  0  0  0  0  0  0  0  0\\n   -3.6498    1.5219    0.0000 O   0  0  0  0  0  0  0  0  0  0  0  0\\n   -2.9290    0.2881    0.0000 O   0  0  0  0  0  0  0  0  0  0  0  0\\n   -0.7919    1.5364    0.0000 C   0  0  0  0  0  0  0  0  0  0  0  0\\n   -0.0754    1.1275    0.0000 C   0  0  0  0  0  0  0  0  0  0  0  0\\n    0.6333    0.7167    0.0000 C   0  0  0  0  0  0  0  0  0  0  0  0\\n    1.3471    0.3029    0.0000 C   0  0  0  0  0  0  0  0  0  0  0  0\\n    2.0623    0.7142    0.0000 C   0  0  0  0  0  0  0  0  0  0  0  0\\n    2.7760    0.3004    0.0000 C   0  0  0  0  0  0  0  0  0  0  0  0\\n    3.4912    0.7116    0.0000 C   0  0  0  0  0  0  0  0  0  0  0  0\\n    4.2050    0.2979    0.0000 C   0  0  0  0  0  0  0  0  0  0  0  0\\n    4.9202    0.7091    0.0000 C   0  0  0  0  0  0  0  0  0  0  0  0\\n    5.6339    0.2954    0.0000 C   0  0  0  0  0  0  0  0  0  0  0  0\\n    4.9216    1.5341    0.0000 C   0  0  0  0  0  0  0  0  0  0  0  0\\n    6.3491    0.7066    0.0000 C   0  0  0  0  0  0  0  0  0  0  0  0\\n    7.0628    0.2929    0.0000 C   0  0  0  0  0  0  0  0  0  0  0  0\\n    7.7780    0.7041    0.0000 C   0  0  0  0  0  0  0  0  0  0  0  0\\n    8.4918    0.2903    0.0000 C   0  0  0  0  0  0  0  0  0  0  0  0\\n    9.2070    0.7016    0.0000 C   0  0  0  0  0  0  0  0  0  0  0  0\\n 11 12  1  0\\n  1  2  1  1\\n 12 13  1  0\\n  5  7  2  0\\n 13 14  1  0\\n  1  4  1  0\\n 14 15  1  0\\n  4  8  1  0\\n 15 16  1  0\\n 16 17  1  0\\n  8  9  1  0\\n 16 18  1  0\\n  1  5  1  0\\n 17 19  1  0\\n  9 10  3  0\\n 19 20  1  0\\n  2  3  1  0\\n 20 21  1  0\\n 10 11  1  0\\n 21 22  1  0\\n  5  6  1  0\\n 22 23  2  0\\nM  END\\n> <chembl_id>\\nCHEMBL449975\\n\\n> <chembl_pref_name>\\nundefined', 'standard_inchi': 'InChI=1S/C20H34O3/c1-4-5-6-12-15-18(2)16-13-10-8-7-9-11-14-17-19(23-3)20(21)22/h4,18-19H,1,5-8,10,12-17H2,2-3H3,(H,21,22)/t18?,19-/m0/s1', 'standard_inchi_key': 'QVPPXGQQEKCQFT-GGYWPGCISA-N'}, 'similarity': '72.9166686534881591796875'}\n",
      "{'molecule_chembl_id': 'CHEMBL499009', 'molecule_structures': {'canonical_smiles': 'C=CCCCCC(C)CCCCCC#CCCC(OC)C(=O)O', 'molfile': '\\n     RDKit          2D\\n\\n 23 22  0  0  0  0  0  0  0  0999 V2000\\n    8.0683   -6.1474    0.0000 O   0  0  0  0  0  0  0  0  0  0  0  0\\n   -4.7939   -5.2272    0.0000 C   0  0  0  0  0  0  0  0  0  0  0  0\\n   -4.0777   -4.8178    0.0000 C   0  0  0  0  0  0  0  0  0  0  0  0\\n   -3.3673   -5.2370    0.0000 C   0  0  0  0  0  0  0  0  0  0  0  0\\n   -2.6511   -4.8276    0.0000 C   0  0  0  0  0  0  0  0  0  0  0  0\\n   -1.9405   -5.2468    0.0000 C   0  0  0  0  0  0  0  0  0  0  0  0\\n   -1.2243   -4.8375    0.0000 C   0  0  0  0  0  0  0  0  0  0  0  0\\n   -0.5138   -5.2566    0.0000 C   0  0  0  0  0  0  0  0  0  0  0  0\\n    0.2024   -4.8473    0.0000 C   0  0  0  0  0  0  0  0  0  0  0  0\\n    0.9128   -5.2665    0.0000 C   0  0  0  0  0  0  0  0  0  0  0  0\\n    1.6290   -4.8571    0.0000 C   0  0  0  0  0  0  0  0  0  0  0  0\\n   -0.5196   -6.0851    0.0000 C   0  0  0  0  0  0  0  0  0  0  0  0\\n    2.3447   -5.2745    0.0000 C   0  0  0  0  0  0  0  0  0  0  0  0\\n    3.0640   -4.8635    0.0000 C   0  0  0  0  0  0  0  0  0  0  0  0\\n    3.7795   -5.2808    0.0000 C   0  0  0  0  0  0  0  0  0  0  0  0\\n    4.4860   -5.6960    0.0000 C   0  0  0  0  0  0  0  0  0  0  0  0\\n    5.1966   -6.1152    0.0000 C   0  0  0  0  0  0  0  0  0  0  0  0\\n    5.9178   -5.7078    0.0000 C   0  0  0  0  0  0  0  0  0  0  0  0\\n    6.6314   -6.1286    0.0000 C   0  0  0  0  0  0  0  0  0  0  0  0\\n    7.3527   -5.7211    0.0000 C   0  0  0  0  0  0  0  0  0  0  0  0\\n    7.3604   -4.8927    0.0000 O   0  0  0  0  0  0  0  0  0  0  0  0\\n    6.6236   -6.9570    0.0000 O   0  0  0  0  0  0  0  0  0  0  0  0\\n    5.9023   -7.3645    0.0000 C   0  0  0  0  0  0  0  0  0  0  0  0\\n  6  7  1  0\\n 11 13  1  0\\n  2  3  2  0\\n 13 14  1  0\\n  7  8  1  0\\n 14 15  1  0\\n  4  5  1  0\\n 15 16  3  0\\n  8  9  1  0\\n 16 17  1  0\\n 17 18  1  0\\n  9 10  1  0\\n 18 19  1  0\\n  5  6  1  0\\n 19 20  1  0\\n 20  1  1  0\\n 10 11  1  0\\n 20 21  2  0\\n  3  4  1  0\\n 19 22  1  0\\n  8 12  1  0\\n 22 23  1  0\\nM  END\\n> <chembl_id>\\nCHEMBL499009\\n\\n> <chembl_pref_name>\\nundefined', 'standard_inchi': 'InChI=1S/C20H34O3/c1-4-5-6-12-15-18(2)16-13-10-8-7-9-11-14-17-19(23-3)20(21)22/h4,18-19H,1,5-8,10,12-17H2,2-3H3,(H,21,22)', 'standard_inchi_key': 'QVPPXGQQEKCQFT-UHFFFAOYSA-N'}, 'similarity': '72.9166686534881591796875'}\n",
      "{'molecule_chembl_id': 'CHEMBL2304268', 'molecule_structures': {'canonical_smiles': 'C=CCCCCC(C)CCC/C=C\\\\C#CCC[C@H](OC)C(=O)OC[C@@H](O)CO', 'molfile': '\\n     RDKit          2D\\n\\n 28 27  0  0  0  0  0  0  0  0999 V2000\\n   -0.3700  -17.4751    0.0000 C   0  0  0  0  0  0  0  0  0  0  0  0\\n    0.4550  -17.4756    0.0000 C   0  0  0  0  0  0  0  0  0  0  0  0\\n   -0.7809  -18.1899    0.0000 O   0  0  0  0  0  0  0  0  0  0  0  0\\n   -0.7800  -16.7597    0.0000 O   0  0  0  0  0  0  0  0  0  0  0  0\\n    0.8701  -16.7607    0.0000 C   0  0  0  0  0  0  0  0  0  0  0  0\\n    0.8693  -18.1909    0.0000 O   0  0  0  0  0  0  0  0  0  0  0  0\\n    1.6943  -18.1913    0.0000 C   0  0  0  0  0  0  0  0  0  0  0  0\\n    1.6952  -16.7612    0.0000 C   0  0  0  0  0  0  0  0  0  0  0  0\\n    2.1060  -16.0464    0.0000 C   0  0  0  0  0  0  0  0  0  0  0  0\\n    2.5182  -15.3379    0.0000 C   0  0  0  0  0  0  0  0  0  0  0  0\\n    2.9297  -14.6234    0.0000 C   0  0  0  0  0  0  0  0  0  0  0  0\\n    3.6448  -14.2176    0.0000 C   0  0  0  0  0  0  0  0  0  0  0  0\\n    4.3578  -14.6315    0.0000 C   0  0  0  0  0  0  0  0  0  0  0  0\\n    5.0749  -14.2244    0.0000 C   0  0  0  0  0  0  0  0  0  0  0  0\\n    5.7880  -14.6384    0.0000 C   0  0  0  0  0  0  0  0  0  0  0  0\\n    6.5051  -14.2313    0.0000 C   0  0  0  0  0  0  0  0  0  0  0  0\\n    7.2181  -14.6494    0.0000 C   0  0  0  0  0  0  0  0  0  0  0  0\\n    6.5091  -13.4063    0.0000 C   0  0  0  0  0  0  0  0  0  0  0  0\\n    7.9353  -14.2381    0.0000 C   0  0  0  0  0  0  0  0  0  0  0  0\\n    8.6441  -14.6563    0.0000 C   0  0  0  0  0  0  0  0  0  0  0  0\\n    9.3613  -14.2450    0.0000 C   0  0  0  0  0  0  0  0  0  0  0  0\\n   10.0743  -14.6631    0.0000 C   0  0  0  0  0  0  0  0  0  0  0  0\\n   10.7914  -14.2520    0.0000 C   0  0  0  0  0  0  0  0  0  0  0  0\\n   -1.6038  -18.1877    0.0000 C   0  0  0  0  0  0  0  0  0  0  0  0\\n   -2.0182  -18.9011    0.0000 C   0  0  0  0  0  0  0  0  0  0  0  0\\n   -2.8432  -18.8989    0.0000 C   0  0  0  0  0  0  0  0  0  0  0  0\\n   -1.6076  -19.6166    0.0000 O   0  0  0  0  0  0  0  0  0  0  0  0\\n   -3.2576  -19.6122    0.0000 O   0  0  0  0  0  0  0  0  0  0  0  0\\n  1  4  2  0\\n 14 15  1  0\\n  5  8  1  0\\n 15 16  1  0\\n 16 17  1  0\\n  8  9  1  0\\n 16 18  1  0\\n  2  5  1  0\\n 17 19  1  0\\n  9 10  3  0\\n 19 20  1  0\\n  1  3  1  0\\n 20 21  1  0\\n 10 11  1  0\\n 21 22  1  0\\n  2  6  1  6\\n 22 23  2  0\\n 11 12  2  0\\n  1  2  1  0\\n 12 13  1  0\\n  6  7  1  0\\n 24  3  1  0\\n 13 14  1  0\\n 24 25  1  0\\n 25 26  1  0\\n 25 27  1  1\\n 26 28  1  0\\nM  END\\n> <chembl_id>\\nCHEMBL2304268\\n\\n> <chembl_pref_name>\\nundefined', 'standard_inchi': 'InChI=1S/C23H38O5/c1-4-5-6-12-15-20(2)16-13-10-8-7-9-11-14-17-22(27-3)23(26)28-19-21(25)18-24/h4,7-8,20-22,24-25H,1,5-6,10,12-19H2,2-3H3/b8-7-/t20?,21-,22-/m0/s1', 'standard_inchi_key': 'ZOURGFUMJSSZCY-OSUNMIFHSA-N'}, 'similarity': '71.428573131561279296875'}\n"
     ]
    }
   ],
   "source": [
    "from chembl_webresource_client.new_client import new_client\n",
    "\n",
    "similarity = new_client.similarity\n",
    "res = similarity.filter(smiles=\"CO[C@@H](CCC#C\\C=C/CCCC(C)CCCCC=C)C(=O)[O-]\", similarity=70).only(['molecule_chembl_id', 'similarity','molecule_structures'])\n",
    "for i in res:\n",
    "    print(i)"
   ]
  },
  {
   "cell_type": "markdown",
   "metadata": {},
   "source": [
    "### 8. Find compounds similar to aspirin (CHEMBL25) with similarity threshold of 70%"
   ]
  },
  {
   "cell_type": "code",
   "execution_count": 10,
   "metadata": {},
   "outputs": [
    {
     "data": {
      "text/plain": [
       "[{'molecule_chembl_id': 'CHEMBL2296002', 'pref_name': None, 'similarity': '100'}, {'molecule_chembl_id': 'CHEMBL1697753', 'pref_name': 'ASPIRIN DL-LYSINE', 'similarity': '100'}, {'molecule_chembl_id': 'CHEMBL3833404', 'pref_name': 'CARBASPIRIN', 'similarity': '88.8888895511627197265625'}, {'molecule_chembl_id': 'CHEMBL3833325', 'pref_name': 'CARBASPIRIN CALCIUM', 'similarity': '88.8888895511627197265625'}, '...(remaining elements truncated)...']"
      ]
     },
     "execution_count": 10,
     "metadata": {},
     "output_type": "execute_result"
    }
   ],
   "source": [
    "from chembl_webresource_client.new_client import new_client\n",
    "\n",
    "similarity = new_client.similarity\n",
    "res = similarity.filter(chembl_id='CHEMBL25', similarity=70).only(['molecule_chembl_id', 'pref_name', 'similarity'])\n",
    "res"
   ]
  },
  {
   "cell_type": "markdown",
   "metadata": {},
   "source": [
    "### 9. Find compounds with the same connectivity"
   ]
  },
  {
   "cell_type": "code",
   "execution_count": 11,
   "metadata": {},
   "outputs": [
    {
     "name": "stdout",
     "output_type": "stream",
     "text": [
      "{'molecule_chembl_id': 'CHEMBL1431', 'pref_name': 'METFORMIN'}\n",
      "{'molecule_chembl_id': 'CHEMBL1703', 'pref_name': 'METFORMIN HYDROCHLORIDE'}\n",
      "{'molecule_chembl_id': 'CHEMBL3094198', 'pref_name': None}\n"
     ]
    }
   ],
   "source": [
    "from chembl_webresource_client.new_client import new_client\n",
    "\n",
    "molecule = new_client.molecule\n",
    "res = molecule.filter(molecule_structures__canonical_smiles__connectivity='CN(C)C(=N)N=C(N)N').only(['molecule_chembl_id', 'pref_name'])\n",
    "for i in res:\n",
    "    print(i)"
   ]
  },
  {
   "cell_type": "markdown",
   "metadata": {},
   "source": [
    "### 10. Get all apprved drugs\n",
    "\n",
    "```order_by```メソッドを用いて分子量でソートする"
   ]
  },
  {
   "cell_type": "code",
   "execution_count": 12,
   "metadata": {},
   "outputs": [
    {
     "data": {
      "text/plain": [
       "[{'atc_classifications': ['V03AN03'], 'availability_type': 1, 'biotherapeutic': None, 'black_box_warning': 0, 'chebi_par_id': 30217, 'chemical_probe': 0, 'chirality': 2, 'cross_references': [], 'dosed_ingredient': True, 'first_approval': 2015, 'first_in_class': 0, 'helm_notation': None, 'indication_class': 'Gases, Diluent for', 'inorganic_flag': 1, 'max_phase': '4.0', 'molecule_chembl_id': 'CHEMBL1796997', 'molecule_hierarchy': {'active_chembl_id': 'CHEMBL1796997', 'molecule_chembl_id': 'CHEMBL1796997', 'parent_chembl_id': 'CHEMBL1796997'}, 'molecule_properties': {'alogp': None, 'aromatic_rings': None, 'cx_logd': None, 'cx_logp': None, 'cx_most_apka': None, 'cx_most_bpka': None, 'full_molformula': 'He', 'full_mwt': '4.00', 'hba': None, 'hba_lipinski': None, 'hbd': None, 'hbd_lipinski': None, 'heavy_atoms': None, 'molecular_species': None, 'mw_freebase': '4.00', 'mw_monoisotopic': '4.0026', 'np_likeness_score': None, 'num_lipinski_ro5_violations': None, 'num_ro5_violations': None, 'psa': None, 'qed_weighted': None, 'ro3_pass': None, 'rtb': None}, 'molecule_structures': {'canonical_smiles': '[He]', 'molfile': '\\n     RDKit          2D\\n\\n  1  0  0  0  0  0  0  0  0  0999 V2000\\n   -0.1083    0.0500    0.0000 He  0  0  0  0  0 15  0  0  0  0  0  0\\nM  END\\n> <chembl_id>\\nCHEMBL1796997\\n\\n> <chembl_pref_name>\\nHELIUM', 'standard_inchi': 'InChI=1S/He', 'standard_inchi_key': 'SWQJXJOGLNCZEY-UHFFFAOYSA-N'}, 'molecule_synonyms': [{'molecule_synonym': 'E939', 'syn_type': 'E_NUMBER', 'synonyms': 'E939'}, {'molecule_synonym': 'E-939', 'syn_type': 'RESEARCH_CODE', 'synonyms': 'E-939'}, {'molecule_synonym': 'Helium', 'syn_type': 'ATC', 'synonyms': 'HELIUM'}, {'molecule_synonym': 'Helium', 'syn_type': 'FDA', 'synonyms': 'HELIUM'}, {'molecule_synonym': 'Helium', 'syn_type': 'MERCK_INDEX', 'synonyms': 'HELIUM'}, {'molecule_synonym': 'Helium', 'syn_type': 'OTHER', 'synonyms': 'HELIUM'}, {'molecule_synonym': 'Helium', 'syn_type': 'USP', 'synonyms': 'HELIUM'}, {'molecule_synonym': 'Helium-4', 'syn_type': 'OTHER', 'synonyms': 'HELIUM-4'}, {'molecule_synonym': 'INS-939', 'syn_type': 'RESEARCH_CODE', 'synonyms': 'INS-939'}, {'molecule_synonym': 'INS NO.939', 'syn_type': 'RESEARCH_CODE', 'synonyms': 'INS NO.939'}], 'molecule_type': 'Small molecule', 'natural_product': 0, 'oral': False, 'parenteral': False, 'polymer_flag': 0, 'pref_name': 'HELIUM', 'prodrug': 0, 'structure_type': 'MOL', 'therapeutic_flag': False, 'topical': True, 'usan_stem': '-ium', 'usan_stem_definition': 'quaternary ammonium derivatives', 'usan_substem': '-ium', 'usan_year': None, 'withdrawn_flag': False}, {'atc_classifications': ['V09GX05'], 'availability_type': 1, 'biotherapeutic': None, 'black_box_warning': 0, 'chebi_par_id': None, 'chemical_probe': 0, 'chirality': 2, 'cross_references': [{'xref_id': 'ammonia%20n-13', 'xref_name': 'ammonia n-13', 'xref_src': 'DailyMed'}], 'dosed_ingredient': True, 'first_approval': 2007, 'first_in_class': 0, 'helm_notation': None, 'indication_class': 'Radioactive Agent; Diagnostic Aid (cardiac imaging); Diagnostic Aid (liver imaging)', 'inorganic_flag': 0, 'max_phase': '4.0', 'molecule_chembl_id': 'CHEMBL1201189', 'molecule_hierarchy': {'active_chembl_id': 'CHEMBL1160819', 'molecule_chembl_id': 'CHEMBL1201189', 'parent_chembl_id': 'CHEMBL1160819'}, 'molecule_properties': {'alogp': '0.16', 'aromatic_rings': 0, 'cx_logd': '-2.44', 'cx_logp': '-0.98', 'cx_most_apka': None, 'cx_most_bpka': '8.86', 'full_molformula': 'H3N', 'full_mwt': '16.03', 'hba': 1, 'hba_lipinski': 1, 'hbd': 1, 'hbd_lipinski': 3, 'heavy_atoms': 1, 'molecular_species': 'BASE', 'mw_freebase': '17.03', 'mw_monoisotopic': '17.0265', 'np_likeness_score': '0.00', 'num_lipinski_ro5_violations': 0, 'num_ro5_violations': 0, 'psa': '35.00', 'qed_weighted': '0.40', 'ro3_pass': 'Y', 'rtb': 0}, 'molecule_structures': {'canonical_smiles': '[13NH3]', 'molfile': '\\n     RDKit          2D\\n\\n  1  0  0  0  0  0  0  0  0  0999 V2000\\n    3.2125   -1.7500    0.0000 N   0  0  0  0  0  0  0  0  0  0  0  0\\nM  ISO  1   1  13\\nM  END\\n> <chembl_id>\\nCHEMBL1201189\\n\\n> <chembl_pref_name>\\nAMMONIA N 13', 'standard_inchi': 'InChI=1S/H3N/h1H3/i1-1', 'standard_inchi_key': 'QGZKDVFQNNGYKY-BJUDXGSMSA-N'}, 'molecule_synonyms': [{'molecule_synonym': '13n', 'syn_type': 'OTHER', 'synonyms': '13N'}, {'molecule_synonym': 'Ammonia (13n)', 'syn_type': 'ATC', 'synonyms': 'AMMONIA (13N)'}, {'molecule_synonym': 'Ammonia (13n)', 'syn_type': 'OTHER', 'synonyms': 'AMMONIA (13N)'}, {'molecule_synonym': 'Ammonia n 13', 'syn_type': 'OTHER', 'synonyms': 'AMMONIA N 13'}, {'molecule_synonym': 'Ammonia n 13', 'syn_type': 'TRADE_NAME', 'synonyms': 'AMMONIA N 13'}, {'molecule_synonym': 'Ammonia n 13', 'syn_type': 'USAN', 'synonyms': 'AMMONIA N 13'}, {'molecule_synonym': 'Ammonia n 13', 'syn_type': 'USP', 'synonyms': 'AMMONIA N 13'}, {'molecule_synonym': 'Ammonia n-13', 'syn_type': 'FDA', 'synonyms': 'AMMONIA N-13'}, {'molecule_synonym': 'Ammonia, n-13', 'syn_type': 'OTHER', 'synonyms': 'AMMONIA, N-13'}, {'molecule_synonym': 'Ammonia-(sup 13)n', 'syn_type': 'OTHER', 'synonyms': 'AMMONIA-(SUP 13)N'}, {'molecule_synonym': '((sup 13)n)ammonia', 'syn_type': 'OTHER', 'synonyms': '((SUP 13)N)AMMONIA'}], 'molecule_type': 'Small molecule', 'natural_product': 0, 'oral': False, 'parenteral': True, 'polymer_flag': 0, 'pref_name': 'AMMONIA N 13', 'prodrug': 0, 'structure_type': 'MOL', 'therapeutic_flag': False, 'topical': False, 'usan_stem': None, 'usan_stem_definition': None, 'usan_substem': None, 'usan_year': 1990, 'withdrawn_flag': False}, {'atc_classifications': [], 'availability_type': 1, 'biotherapeutic': None, 'black_box_warning': 0, 'chebi_par_id': 16134, 'chemical_probe': 0, 'chirality': 2, 'cross_references': [{'xref_id': 'ammonia%20n-13', 'xref_name': 'ammonia n-13', 'xref_src': 'DailyMed'}, {'xref_id': 'Ammonia', 'xref_name': None, 'xref_src': 'Wikipedia'}], 'dosed_ingredient': False, 'first_approval': 2007, 'first_in_class': 0, 'helm_notation': None, 'indication_class': 'Pharmaceutic Aid (solvent and source of ammonia),Radioactive Agent; Diagnostic Aid (cardiac imaging); Diagnostic Aid (liver imaging)', 'inorganic_flag': 0, 'max_phase': '4.0', 'molecule_chembl_id': 'CHEMBL1160819', 'molecule_hierarchy': {'active_chembl_id': 'CHEMBL1160819', 'molecule_chembl_id': 'CHEMBL1160819', 'parent_chembl_id': 'CHEMBL1160819'}, 'molecule_properties': {'alogp': '0.16', 'aromatic_rings': 0, 'cx_logd': '-2.44', 'cx_logp': '-0.98', 'cx_most_apka': None, 'cx_most_bpka': '8.86', 'full_molformula': 'H3N', 'full_mwt': '17.03', 'hba': 1, 'hba_lipinski': 1, 'hbd': 1, 'hbd_lipinski': 3, 'heavy_atoms': 1, 'molecular_species': 'BASE', 'mw_freebase': '17.03', 'mw_monoisotopic': '17.0265', 'np_likeness_score': '0.00', 'num_lipinski_ro5_violations': 0, 'num_ro5_violations': 0, 'psa': '35.00', 'qed_weighted': '0.40', 'ro3_pass': 'Y', 'rtb': 0}, 'molecule_structures': {'canonical_smiles': 'N', 'molfile': '\\n     RDKit          2D\\n\\n  1  0  0  0  0  0  0  0  0  0999 V2000\\n    0.0375    0.0500    0.0000 N   0  0  0  0  0  0  0  0  0  0  0  0\\nM  END\\n> <chembl_id>\\nCHEMBL1160819\\n\\n> <chembl_pref_name>\\nAMMONIA SOLUTION, STRONG', 'standard_inchi': 'InChI=1S/H3N/h1H3', 'standard_inchi_key': 'QGZKDVFQNNGYKY-UHFFFAOYSA-N'}, 'molecule_synonyms': [{'molecule_synonym': 'Ammonia', 'syn_type': 'INN', 'synonyms': 'Ammonia'}, {'molecule_synonym': 'Ammonia', 'syn_type': 'MERCK_INDEX', 'synonyms': 'AMMONIA'}, {'molecule_synonym': 'Ammonia', 'syn_type': 'OTHER', 'synonyms': 'AMMONIA'}, {'molecule_synonym': 'Ammonia,aromatic', 'syn_type': 'OTHER', 'synonyms': 'AMMONIA,AROMATIC'}, {'molecule_synonym': 'Ammonia gas', 'syn_type': 'OTHER', 'synonyms': 'AMMONIA GAS'}, {'molecule_synonym': 'Ammonia solution', 'syn_type': 'OTHER', 'synonyms': 'AMMONIA SOLUTION'}, {'molecule_synonym': 'Ammonia-solution', 'syn_type': 'OTHER', 'synonyms': 'AMMONIA-SOLUTION'}, {'molecule_synonym': 'Ammonia solution, strong', 'syn_type': 'NATIONAL_FORMULARY', 'synonyms': 'AMMONIA SOLUTION, STRONG'}, {'molecule_synonym': 'Ammonia solution, strong', 'syn_type': 'OTHER', 'synonyms': 'AMMONIA SOLUTION, STRONG'}, {'molecule_synonym': 'Ammonia spirit, aromatic', 'syn_type': 'OTHER', 'synonyms': 'AMMONIA SPIRIT, AROMATIC'}, {'molecule_synonym': 'Ammonia water', 'syn_type': 'JAN', 'synonyms': 'AMMONIA WATER'}, {'molecule_synonym': 'Ammonia water', 'syn_type': 'MERCK_INDEX', 'synonyms': 'AMMONIA WATER'}, {'molecule_synonym': 'Ammonia water', 'syn_type': 'OTHER', 'synonyms': 'AMMONIA WATER'}, {'molecule_synonym': 'Ammonium causticum', 'syn_type': 'OTHER', 'synonyms': 'AMMONIUM CAUSTICUM'}, {'molecule_synonym': 'Ammonium hydroxide', 'syn_type': 'OTHER', 'synonyms': 'AMMONIUM HYDROXIDE'}, {'molecule_synonym': 'Ammonium water', 'syn_type': 'OTHER', 'synonyms': 'AMMONIUM WATER'}, {'molecule_synonym': 'Aqua ammonia', 'syn_type': 'OTHER', 'synonyms': 'AQUA AMMONIA'}, {'molecule_synonym': 'Aqueous ammonia', 'syn_type': 'OTHER', 'synonyms': 'AQUEOUS AMMONIA'}, {'molecule_synonym': 'E-527', 'syn_type': 'RESEARCH_CODE', 'synonyms': 'E-527'}, {'molecule_synonym': 'INS-527', 'syn_type': 'RESEARCH_CODE', 'synonyms': 'INS-527'}, {'molecule_synonym': 'INS NO.527', 'syn_type': 'RESEARCH_CODE', 'synonyms': 'INS NO.527'}, {'molecule_synonym': 'Nitro-sil', 'syn_type': 'OTHER', 'synonyms': 'NITRO-SIL'}, {'molecule_synonym': 'R 717 (ammonia)', 'syn_type': 'OTHER', 'synonyms': 'R 717 (AMMONIA)'}, {'molecule_synonym': 'Refrigerent r717', 'syn_type': 'OTHER', 'synonyms': 'REFRIGERENT R717'}, {'molecule_synonym': 'Spirit of hartshorn', 'syn_type': 'OTHER', 'synonyms': 'SPIRIT OF HARTSHORN'}, {'molecule_synonym': 'Strong ammonia solution', 'syn_type': 'OTHER', 'synonyms': 'STRONG AMMONIA SOLUTION'}, {'molecule_synonym': 'Strong-ammonia solution', 'syn_type': 'OTHER', 'synonyms': 'STRONG-AMMONIA SOLUTION'}], 'molecule_type': 'Small molecule', 'natural_product': 0, 'oral': False, 'parenteral': True, 'polymer_flag': 0, 'pref_name': 'AMMONIA SOLUTION, STRONG', 'prodrug': 0, 'structure_type': 'MOL', 'therapeutic_flag': False, 'topical': False, 'usan_stem': None, 'usan_stem_definition': None, 'usan_substem': None, 'usan_year': 1990, 'withdrawn_flag': False}, {'atc_classifications': [], 'availability_type': 2, 'biotherapeutic': None, 'black_box_warning': 0, 'chebi_par_id': 15377, 'chemical_probe': 0, 'chirality': 2, 'cross_references': [{'xref_id': 'purified%20water', 'xref_name': 'purified water', 'xref_src': 'DailyMed'}, {'xref_id': 'sterile%20water%20for%20irrigation', 'xref_name': 'sterile water for irrigation', 'xref_src': 'DailyMed'}, {'xref_id': 'Properties_of_water', 'xref_name': None, 'xref_src': 'Wikipedia'}], 'dosed_ingredient': True, 'first_approval': 2011, 'first_in_class': 0, 'helm_notation': None, 'indication_class': 'Diagnostic Aid (radioactive, vascular disorders); Radioactive Agent,Radioactive Agent', 'inorganic_flag': 0, 'max_phase': '4.0', 'molecule_chembl_id': 'CHEMBL1098659', 'molecule_hierarchy': {'active_chembl_id': 'CHEMBL1098659', 'molecule_chembl_id': 'CHEMBL1098659', 'parent_chembl_id': 'CHEMBL1098659'}, 'molecule_properties': {'alogp': '-0.82', 'aromatic_rings': 0, 'cx_logd': '-0.65', 'cx_logp': '-0.65', 'cx_most_apka': None, 'cx_most_bpka': None, 'full_molformula': 'H2O', 'full_mwt': '18.02', 'hba': 0, 'hba_lipinski': 1, 'hbd': 0, 'hbd_lipinski': 2, 'heavy_atoms': 1, 'molecular_species': 'NEUTRAL', 'mw_freebase': '18.02', 'mw_monoisotopic': '18.0106', 'np_likeness_score': '0.00', 'num_lipinski_ro5_violations': 0, 'num_ro5_violations': 0, 'psa': '31.50', 'qed_weighted': '0.33', 'ro3_pass': 'Y', 'rtb': 0}, 'molecule_structures': {'canonical_smiles': 'O', 'molfile': '\\n     RDKit          2D\\n\\n  1  0  0  0  0  0  0  0  0  0999 V2000\\n   -2.3458    2.0333    0.0000 O   0  0  0  0  0  0  0  0  0  0  0  0\\nM  END\\n> <chembl_id>\\nCHEMBL1098659\\n\\n> <chembl_pref_name>\\nWATER', 'standard_inchi': 'InChI=1S/H2O/h1H2', 'standard_inchi_key': 'XLYOFNOQVPJJNP-UHFFFAOYSA-N'}, 'molecule_synonyms': [{'molecule_synonym': 'Adelheid aqua', 'syn_type': 'OTHER', 'synonyms': 'ADELHEID AQUA'}, {'molecule_synonym': 'Adelheidsquelle', 'syn_type': 'OTHER', 'synonyms': 'ADELHEIDSQUELLE'}, {'molecule_synonym': 'Aqua adelheid', 'syn_type': 'OTHER', 'synonyms': 'AQUA ADELHEID'}, {'molecule_synonym': 'Aqua pro injectione', 'syn_type': 'OTHER', 'synonyms': 'AQUA PRO INJECTIONE'}, {'molecule_synonym': 'Aqua purificata', 'syn_type': 'OTHER', 'synonyms': 'AQUA PURIFICATA'}, {'molecule_synonym': 'Aqua sterilisata pro injectione', 'syn_type': 'OTHER', 'synonyms': 'AQUA STERILISATA PRO INJECTIONE'}, {'molecule_synonym': 'Aqua wiesbaden', 'syn_type': 'OTHER', 'synonyms': 'AQUA WIESBADEN'}, {'molecule_synonym': 'Aqua wildbad', 'syn_type': 'OTHER', 'synonyms': 'AQUA WILDBAD'}, {'molecule_synonym': 'B1217', 'syn_type': 'RESEARCH_CODE', 'synonyms': 'B1217'}, {'molecule_synonym': 'NSC-147337', 'syn_type': 'RESEARCH_CODE', 'synonyms': 'NSC-147337'}, {'molecule_synonym': 'Purified water', 'syn_type': 'FDA', 'synonyms': 'PURIFIED WATER'}, {'molecule_synonym': 'Purified water', 'syn_type': 'USP', 'synonyms': 'PURIFIED WATER'}, {'molecule_synonym': 'Pur-wash', 'syn_type': 'TRADE_NAME', 'synonyms': 'PUR-WASH'}, {'molecule_synonym': 'R-718', 'syn_type': 'RESEARCH_CODE', 'synonyms': 'R-718'}, {'molecule_synonym': 'Sterile purified water', 'syn_type': 'USP', 'synonyms': 'STERILE PURIFIED WATER'}, {'molecule_synonym': 'Sterile water', 'syn_type': 'TRADE_NAME', 'synonyms': 'STERILE WATER'}, {'molecule_synonym': 'Sterile water for inhalation', 'syn_type': 'OTHER', 'synonyms': 'STERILE WATER FOR INHALATION'}, {'molecule_synonym': 'Sterile water for injection', 'syn_type': 'FDA', 'synonyms': 'STERILE WATER FOR INJECTION'}, {'molecule_synonym': 'Sterile water for injection', 'syn_type': 'TRADE_NAME', 'synonyms': 'STERILE WATER FOR INJECTION'}, {'molecule_synonym': 'Sterile water for injections', 'syn_type': 'OTHER', 'synonyms': 'STERILE WATER FOR INJECTIONS'}, {'molecule_synonym': 'Sterile water for irrigation', 'syn_type': 'FDA', 'synonyms': 'STERILE WATER FOR IRRIGATION'}, {'molecule_synonym': 'Ultrex ii ultrapure', 'syn_type': 'OTHER', 'synonyms': 'ULTREX II ULTRAPURE'}, {'molecule_synonym': 'Water', 'syn_type': 'MERCK_INDEX', 'synonyms': 'WATER'}, {'molecule_synonym': 'Water', 'syn_type': 'OTHER', 'synonyms': 'WATER'}, {'molecule_synonym': 'Water', 'syn_type': 'USP', 'synonyms': 'WATER'}, {'molecule_synonym': 'Water,bacteriostatic', 'syn_type': 'OTHER', 'synonyms': 'WATER,BACTERIOSTATIC'}, {'molecule_synonym': 'Water,bacteriostatic injection', 'syn_type': 'OTHER', 'synonyms': 'WATER,BACTERIOSTATIC INJECTION'}, {'molecule_synonym': 'Water,deionized', 'syn_type': 'OTHER', 'synonyms': 'WATER,DEIONIZED'}, {'molecule_synonym': 'Water, deionized', 'syn_type': 'OTHER', 'synonyms': 'WATER, DEIONIZED'}, {'molecule_synonym': 'Water,distilled', 'syn_type': 'OTHER', 'synonyms': 'WATER,DISTILLED'}, {'molecule_synonym': 'Water for hemodialysis', 'syn_type': 'OTHER', 'synonyms': 'WATER FOR HEMODIALYSIS'}, {'molecule_synonym': 'Water for inhalation, sterile', 'syn_type': 'OTHER', 'synonyms': 'WATER FOR INHALATION, STERILE'}, {'molecule_synonym': 'Water for injection', 'syn_type': 'BNF', 'synonyms': 'WATER FOR INJECTION'}, {'molecule_synonym': 'Water for injection', 'syn_type': 'OTHER', 'synonyms': 'WATER FOR INJECTION'}, {'molecule_synonym': 'Water for injections', 'syn_type': 'OTHER', 'synonyms': 'WATER FOR INJECTIONS'}, {'molecule_synonym': 'Water for irrigation,sterile', 'syn_type': 'OTHER', 'synonyms': 'WATER FOR IRRIGATION,STERILE'}, {'molecule_synonym': 'Water purified', 'syn_type': 'OTHER', 'synonyms': 'WATER PURIFIED'}, {'molecule_synonym': 'Water,purified', 'syn_type': 'OTHER', 'synonyms': 'WATER,PURIFIED'}, {'molecule_synonym': 'Water, purified', 'syn_type': 'OTHER', 'synonyms': 'WATER, PURIFIED'}, {'molecule_synonym': 'Water, purified sterile', 'syn_type': 'OTHER', 'synonyms': 'WATER, PURIFIED STERILE'}, {'molecule_synonym': 'Water,sanitized', 'syn_type': 'OTHER', 'synonyms': 'WATER,SANITIZED'}, {'molecule_synonym': 'Water,sterile', 'syn_type': 'OTHER', 'synonyms': 'WATER,STERILE'}, {'molecule_synonym': 'Water, sterile purified', 'syn_type': 'OTHER', 'synonyms': 'WATER, STERILE PURIFIED'}, {'molecule_synonym': 'Wiesbaden', 'syn_type': 'OTHER', 'synonyms': 'WIESBADEN'}, {'molecule_synonym': 'Wiesbaden aqua', 'syn_type': 'OTHER', 'synonyms': 'WIESBADEN AQUA'}, {'molecule_synonym': 'Wildbad aqua', 'syn_type': 'OTHER', 'synonyms': 'WILDBAD AQUA'}], 'molecule_type': 'Small molecule', 'natural_product': 0, 'oral': False, 'parenteral': False, 'polymer_flag': 0, 'pref_name': 'WATER', 'prodrug': 0, 'structure_type': 'MOL', 'therapeutic_flag': False, 'topical': True, 'usan_stem': 'deu-', 'usan_stem_definition': 'deuterated compounds', 'usan_substem': 'deu-', 'usan_year': 1963, 'withdrawn_flag': False}, '...(remaining elements truncated)...']"
      ]
     },
     "execution_count": 12,
     "metadata": {},
     "output_type": "execute_result"
    }
   ],
   "source": [
    "from chembl_webresource_client.new_client import new_client\n",
    "\n",
    "molecule = new_client.molecule\n",
    "approved_drugs = molecule.filter(max_phase=4).order_by('molecule_properties__mw_freebase')\n",
    "approved_drugs"
   ]
  },
  {
   "cell_type": "markdown",
   "metadata": {},
   "source": [
    "### 11. Get approved drugs for lung cancer"
   ]
  },
  {
   "cell_type": "code",
   "execution_count": 13,
   "metadata": {},
   "outputs": [
    {
     "data": {
      "text/plain": [
       "716"
      ]
     },
     "execution_count": 13,
     "metadata": {},
     "output_type": "execute_result"
    }
   ],
   "source": [
    "from chembl_webresource_client.new_client import new_client\n",
    "\n",
    "drug_indication = new_client.drug_indication\n",
    "molecules = new_client.molecule\n",
    "\n",
    "lung_cancer_ind = drug_indication.filter(efo_term__icontains=\"LUNG CARCINOMA\")\n",
    "lung_cancer_mols = molecules.filter(\n",
    "    molecule_chembl_id__in=[x['molecule_chembl_id'] for x in lung_cancer_ind])\n",
    "\n",
    "len(lung_cancer_mols)"
   ]
  },
  {
   "cell_type": "markdown",
   "metadata": {},
   "source": [
    "### 12. Filter drugs by approval year and name"
   ]
  },
  {
   "cell_type": "code",
   "execution_count": 14,
   "metadata": {},
   "outputs": [
    {
     "data": {
      "text/plain": [
       "[{'applicants': ['Abbott Laboratories Pharmaceutical Products Div', 'Heritage Pharma Labs Inc Dba Avet Pharmaceuticals Labs Inc', 'Ivax Pharmaceuticals Inc Sub Teva Pharmaceuticals Usa', 'Beximco Pharmaceuticals Usa Inc', 'Mylan Technologies Inc', 'Teva Pharmaceuticals Usa Inc', 'Jubilant Cadista Pharmaceuticals Inc', 'Apnar Pharma Lp', 'Ranbaxy Laboratories Ltd', 'Sandoz Inc'], 'atc_classification': [{'code': 'G04CA03', 'description': 'GENITO URINARY SYSTEM AND SEX HORMONES: UROLOGICALS: DRUGS USED IN BENIGN PROSTATIC HYPERTROPHY: Alpha-adrenoreceptor antagonists'}], 'availability_type': 1, 'biotherapeutic': None, 'black_box': 0, 'black_box_warning': '0', 'chirality': 0, 'development_phase': '4.0', 'drug_type': 1, 'first_approval': 1987, 'first_in_class': 0, 'helm_notation': None, 'indication_class': 'Antihypertensive', 'molecule_chembl_id': 'CHEMBL611', 'molecule_properties': {'alogp': '1.06', 'aromatic_rings': 2, 'cx_logd': '0.95', 'cx_logp': '1.18', 'cx_most_apka': None, 'cx_most_bpka': '7.24', 'full_molformula': 'C19H25N5O4', 'full_mwt': '387.44', 'hba': 8, 'hba_lipinski': 9, 'hbd': 1, 'hbd_lipinski': 2, 'heavy_atoms': 28, 'molecular_species': 'NEUTRAL', 'mw_freebase': '387.44', 'mw_monoisotopic': '387.1907', 'np_likeness_score': '-0.89', 'num_lipinski_ro5_violations': 0, 'num_ro5_violations': 0, 'psa': '103.04', 'qed_weighted': '0.83', 'ro3_pass': 'N', 'rtb': 4}, 'molecule_structures': {'canonical_smiles': 'COc1cc2nc(N3CCN(C(=O)C4CCCO4)CC3)nc(N)c2cc1OC', 'molfile': '\\n     RDKit          2D\\n\\n 28 31  0  0  0  0  0  0  0  0999 V2000\\n   -0.4208    0.3583    0.0000 C   0  0  0  0  0  0  0  0  0  0  0  0\\n   -0.4208    1.0625    0.0000 N   0  0  0  0  0  0  0  0  0  0  0  0\\n   -1.6458    1.0625    0.0000 C   0  0  0  0  0  0  0  0  0  0  0  0\\n   -1.0333    1.4250    0.0000 C   0  0  0  0  0  0  0  0  0  0  0  0\\n   -1.0333    0.0083    0.0000 N   0  0  0  0  0  0  0  0  0  0  0  0\\n   -1.6458    0.3583    0.0000 C   0  0  0  0  0  0  0  0  0  0  0  0\\n    0.1917   -0.0125    0.0000 N   0  0  0  0  0  0  0  0  0  0  0  0\\n    2.0167   -1.1167    0.0000 C   0  0  0  0  0  0  0  0  0  0  0  0\\n    1.4250   -0.7292    0.0000 N   0  0  0  0  0  0  0  0  0  0  0  0\\n   -2.2708    1.4250    0.0000 C   0  0  0  0  0  0  0  0  0  0  0  0\\n   -2.2708    0.0083    0.0000 C   0  0  0  0  0  0  0  0  0  0  0  0\\n   -2.8833    1.0625    0.0000 C   0  0  0  0  0  0  0  0  0  0  0  0\\n   -2.8833    0.3583    0.0000 C   0  0  0  0  0  0  0  0  0  0  0  0\\n    2.6750   -0.7667    0.0000 C   0  0  0  0  0  0  0  0  0  0  0  0\\n    0.1917   -0.7125    0.0000 C   0  0  0  0  0  0  0  0  0  0  0  0\\n    0.8042    0.3458    0.0000 C   0  0  0  0  0  0  0  0  0  0  0  0\\n    0.8042   -1.0917    0.0000 C   0  0  0  0  0  0  0  0  0  0  0  0\\n    1.4250   -0.0125    0.0000 C   0  0  0  0  0  0  0  0  0  0  0  0\\n    2.0167   -1.8042    0.0000 O   0  0  0  0  0  0  0  0  0  0  0  0\\n    3.2625   -1.1917    0.0000 O   0  0  0  0  0  0  0  0  0  0  0  0\\n   -1.0333    2.1333    0.0000 N   0  0  0  0  0  0  0  0  0  0  0  0\\n   -3.4958    1.4125    0.0000 O   0  0  0  0  0  0  0  0  0  0  0  0\\n   -3.4958   -0.0042    0.0000 O   0  0  0  0  0  0  0  0  0  0  0  0\\n    3.8292   -0.7667    0.0000 C   0  0  0  0  0  0  0  0  0  0  0  0\\n    2.9167   -0.0917    0.0000 C   0  0  0  0  0  0  0  0  0  0  0  0\\n   -4.1083    1.0625    0.0000 C   0  0  0  0  0  0  0  0  0  0  0  0\\n   -4.1083    0.3458    0.0000 C   0  0  0  0  0  0  0  0  0  0  0  0\\n    3.5792   -0.0917    0.0000 C   0  0  0  0  0  0  0  0  0  0  0  0\\n  2  1  1  0\\n  3  6  2  0\\n  4  2  2  0\\n  5  1  2  0\\n  6  5  1  0\\n  7  1  1  0\\n  8  9  1  0\\n  9 18  1  0\\n 10  3  1  0\\n 11  6  1  0\\n 12 13  1  0\\n 13 11  2  0\\n 14  8  1  0\\n 15  7  1  0\\n 16  7  1  0\\n 17 15  1  0\\n 18 16  1  0\\n 19  8  2  0\\n 20 14  1  0\\n 21  4  1  0\\n 22 12  1  0\\n 23 13  1  0\\n 24 20  1  0\\n 25 14  1  0\\n 26 22  1  0\\n 27 23  1  0\\n 28 25  1  0\\n  4  3  1  0\\n 17  9  1  0\\n 12 10  2  0\\n 28 24  1  0\\nM  END\\n', 'standard_inchi': 'InChI=1S/C19H25N5O4/c1-26-15-10-12-13(11-16(15)27-2)21-19(22-17(12)20)24-7-5-23(6-8-24)18(25)14-4-3-9-28-14/h10-11,14H,3-9H2,1-2H3,(H2,20,21,22)', 'standard_inchi_key': 'VCKUSRYTPJJLNI-UHFFFAOYSA-N'}, 'molecule_synonyms': [{'molecule_synonym': 'Hytrin', 'syn_type': 'OTHER', 'synonyms': 'Hytrin'}, {'molecule_synonym': 'Terazosabb', 'syn_type': 'OTHER', 'synonyms': 'TERAZOSABB'}, {'molecule_synonym': 'Terazosin', 'syn_type': 'FDA', 'synonyms': 'Terazosin'}, {'molecule_synonym': 'Terazosin', 'syn_type': 'ATC', 'synonyms': 'TERAZOSIN'}, {'molecule_synonym': 'Terazosin', 'syn_type': 'BAN', 'synonyms': 'TERAZOSIN'}, {'molecule_synonym': 'Terazosin', 'syn_type': 'INN', 'synonyms': 'TERAZOSIN'}, {'molecule_synonym': 'Terazosin', 'syn_type': 'MERCK_INDEX', 'synonyms': 'TERAZOSIN'}, {'molecule_synonym': 'Terazosin', 'syn_type': 'OTHER', 'synonyms': 'TERAZOSIN'}], 'ob_patent': None, 'oral': 1, 'parenteral': 0, 'prodrug': 0, 'research_codes': ['ABBOTT-45975 ANHYDROUS', 'NSC-759168', 'ABBOTT-45975'], 'rule_of_five': 1, 'sc_patent': None, 'synonyms': ['Terazosin (BAN, INN, MI)', 'Terazosin hydrochloride (FDA, JAN, MI, USAN, USP)', 'Terazosin hydrochloride dihydrate (MI)', 'Terazosin hydrochloride hydrate (JAN)', ''], 'topical': 0, 'usan_stem': '-azosin', 'usan_stem_definition': 'antihypertensives (prazosin type)', 'usan_stem_substem': '-azosin(-azosin)', 'usan_year': 1980, 'withdrawn_class': None, 'withdrawn_country': None, 'withdrawn_flag': '0', 'withdrawn_reason': None, 'withdrawn_year': None}, {'applicants': ['Ani Pharmaceuticals Inc', 'Accord Healthcare Inc', 'Aurobindo Pharma Usa Inc', 'Ivax Pharmaceuticals Inc Sub Teva Pharmaceuticals Usa', 'Chartwell Rx Sciences Llc', 'Heritage Pharma Labs Inc', 'Zydus Pharmaceuticals Usa Inc', 'Viatris Specialty Llc', 'Pliva Inc', 'Teva Pharmaceuticals Usa Inc'], 'atc_classification': [{'code': 'C02CA04', 'description': 'CARDIOVASCULAR SYSTEM: ANTIHYPERTENSIVES: ANTIADRENERGIC AGENTS, PERIPHERALLY ACTING: Alpha-adrenoreceptor antagonists'}], 'availability_type': 1, 'biotherapeutic': None, 'black_box': 0, 'black_box_warning': '0', 'chirality': 0, 'development_phase': '4.0', 'drug_type': 1, 'first_approval': 1990, 'first_in_class': 0, 'helm_notation': None, 'indication_class': 'Antihypertensive', 'molecule_chembl_id': 'CHEMBL707', 'molecule_properties': {'alogp': '1.72', 'aromatic_rings': 3, 'cx_logd': '1.91', 'cx_logp': '2.14', 'cx_most_apka': '12.67', 'cx_most_bpka': '7.24', 'full_molformula': 'C23H25N5O5', 'full_mwt': '451.48', 'hba': 9, 'hba_lipinski': 10, 'hbd': 1, 'hbd_lipinski': 2, 'heavy_atoms': 33, 'molecular_species': 'NEUTRAL', 'mw_freebase': '451.48', 'mw_monoisotopic': '451.1856', 'np_likeness_score': '-0.79', 'num_lipinski_ro5_violations': 0, 'num_ro5_violations': 0, 'psa': '112.27', 'qed_weighted': '0.63', 'ro3_pass': 'N', 'rtb': 4}, 'molecule_structures': {'canonical_smiles': 'COc1cc2nc(N3CCN(C(=O)C4COc5ccccc5O4)CC3)nc(N)c2cc1OC', 'molfile': '\\n     RDKit          2D\\n\\n 33 37  0  0  0  0  0  0  0  0999 V2000\\n    0.0167  -14.8292    0.0000 C   0  0  0  0  0  0  0  0  0  0  0  0\\n    0.0167  -15.5500    0.0000 N   0  0  0  0  0  0  0  0  0  0  0  0\\n   -1.2208  -15.5500    0.0000 C   0  0  0  0  0  0  0  0  0  0  0  0\\n   -0.6083  -15.9125    0.0000 C   0  0  0  0  0  0  0  0  0  0  0  0\\n   -0.6083  -14.4667    0.0000 N   0  0  0  0  0  0  0  0  0  0  0  0\\n    3.0792  -13.7542    0.0000 C   0  0  0  0  0  0  0  0  0  0  0  0\\n   -1.2208  -14.8292    0.0000 C   0  0  0  0  0  0  0  0  0  0  0  0\\n    2.4792  -13.4042    0.0000 C   0  0  0  0  0  0  0  0  0  0  0  0\\n    3.7042  -13.4167    0.0000 O   0  0  0  0  0  0  0  0  0  0  0  0\\n    0.6417  -14.4667    0.0000 N   0  0  0  0  0  0  0  0  0  0  0  0\\n    1.8667  -13.7542    0.0000 N   0  0  0  0  0  0  0  0  0  0  0  0\\n   -1.8333  -15.9125    0.0000 C   0  0  0  0  0  0  0  0  0  0  0  0\\n   -1.8333  -14.4667    0.0000 C   0  0  0  0  0  0  0  0  0  0  0  0\\n    3.6792  -14.8167    0.0000 O   0  0  0  0  0  0  0  0  0  0  0  0\\n    4.3042  -13.7667    0.0000 C   0  0  0  0  0  0  0  0  0  0  0  0\\n   -2.4583  -15.5500    0.0000 C   0  0  0  0  0  0  0  0  0  0  0  0\\n   -2.4583  -14.8292    0.0000 C   0  0  0  0  0  0  0  0  0  0  0  0\\n    3.0667  -14.4667    0.0000 C   0  0  0  0  0  0  0  0  0  0  0  0\\n    4.2917  -14.4667    0.0000 C   0  0  0  0  0  0  0  0  0  0  0  0\\n    0.6417  -13.7667    0.0000 C   0  0  0  0  0  0  0  0  0  0  0  0\\n    1.2542  -14.8167    0.0000 C   0  0  0  0  0  0  0  0  0  0  0  0\\n    1.2417  -13.4167    0.0000 C   0  0  0  0  0  0  0  0  0  0  0  0\\n    1.8667  -14.4667    0.0000 C   0  0  0  0  0  0  0  0  0  0  0  0\\n    2.4792  -12.7042    0.0000 O   0  0  0  0  0  0  0  0  0  0  0  0\\n   -0.6083  -16.6125    0.0000 N   0  0  0  0  0  0  0  0  0  0  0  0\\n   -3.0833  -15.9125    0.0000 O   0  0  0  0  0  0  0  0  0  0  0  0\\n   -3.0833  -14.4667    0.0000 O   0  0  0  0  0  0  0  0  0  0  0  0\\n    4.9417  -13.4250    0.0000 C   0  0  0  0  0  0  0  0  0  0  0  0\\n    4.9167  -14.8292    0.0000 C   0  0  0  0  0  0  0  0  0  0  0  0\\n   -3.6875  -14.8125    0.0000 C   0  0  0  0  0  0  0  0  0  0  0  0\\n   -3.6833  -15.5500    0.0000 C   0  0  0  0  0  0  0  0  0  0  0  0\\n    5.5542  -13.7875    0.0000 C   0  0  0  0  0  0  0  0  0  0  0  0\\n    5.5417  -14.4875    0.0000 C   0  0  0  0  0  0  0  0  0  0  0  0\\n  2  1  1  0\\n  3  7  2  0\\n  4  2  2  0\\n  5  1  2  0\\n  6  8  1  0\\n  7  5  1  0\\n  8 11  1  0\\n  9  6  1  0\\n 10  1  1  0\\n 11 22  1  0\\n 12  3  1  0\\n 13  7  1  0\\n 14 18  1  0\\n 15  9  1  0\\n 16 12  2  0\\n 17 13  2  0\\n 18  6  1  0\\n 19 14  1  0\\n 20 10  1  0\\n 21 10  1  0\\n 22 20  1  0\\n 23 21  1  0\\n 24  8  2  0\\n 25  4  1  0\\n 26 16  1  0\\n 27 17  1  0\\n 28 15  1  0\\n 29 19  1  0\\n 30 27  1  0\\n 31 26  1  0\\n 32 28  2  0\\n 33 29  2  0\\n  4  3  1  0\\n 23 11  1  0\\n 17 16  1  0\\n 15 19  2  0\\n 32 33  1  0\\nM  END\\n', 'standard_inchi': 'InChI=1S/C23H25N5O5/c1-30-18-11-14-15(12-19(18)31-2)25-23(26-21(14)24)28-9-7-27(8-10-28)22(29)20-13-32-16-5-3-4-6-17(16)33-20/h3-6,11-12,20H,7-10,13H2,1-2H3,(H2,24,25,26)', 'standard_inchi_key': 'RUZYUOTYCVRMRZ-UHFFFAOYSA-N'}, 'molecule_synonyms': [{'molecule_synonym': 'C02CA04', 'syn_type': 'RESEARCH_CODE', 'synonyms': 'C02CA04'}, {'molecule_synonym': 'Cardura', 'syn_type': 'OTHER', 'synonyms': 'Cardura'}, {'molecule_synonym': 'Doxazosin', 'syn_type': 'FDA', 'synonyms': 'Doxazosin'}, {'molecule_synonym': 'Doxazosin', 'syn_type': 'ATC', 'synonyms': 'DOXAZOSIN'}, {'molecule_synonym': 'Doxazosin', 'syn_type': 'BAN', 'synonyms': 'DOXAZOSIN'}, {'molecule_synonym': 'Doxazosin', 'syn_type': 'INN', 'synonyms': 'DOXAZOSIN'}, {'molecule_synonym': 'Doxazosin', 'syn_type': 'MERCK_INDEX', 'synonyms': 'DOXAZOSIN'}, {'molecule_synonym': 'Doxazosin', 'syn_type': 'OTHER', 'synonyms': 'DOXAZOSIN'}, {'molecule_synonym': 'UK-33274', 'syn_type': 'RESEARCH_CODE', 'synonyms': 'UK-33274'}], 'ob_patent': None, 'oral': 1, 'parenteral': 0, 'prodrug': 0, 'research_codes': ['UK-33274', 'UK-33,274-27', 'C02CA04', 'UK-33274-27', 'NSC-759284'], 'rule_of_five': 1, 'sc_patent': None, 'synonyms': ['Doxazosin mesilate (JAN)', 'Doxazosin mesylate (FDA, USAN, USP)', 'Doxazosin methanesulfonate (MI)', 'Doxazosin (BAN, INN, MI)', ''], 'topical': 0, 'usan_stem': '-azosin', 'usan_stem_definition': 'antihypertensives (prazosin type)', 'usan_stem_substem': '-azosin(-azosin)', 'usan_year': 1981, 'withdrawn_class': None, 'withdrawn_country': None, 'withdrawn_flag': '0', 'withdrawn_reason': None, 'withdrawn_year': None}]"
      ]
     },
     "execution_count": 14,
     "metadata": {},
     "output_type": "execute_result"
    }
   ],
   "source": [
    "from chembl_webresource_client.new_client import new_client\n",
    "\n",
    "drug = new_client.drug\n",
    "res = drug.filter(first_approval__gte=1980).filter(usan_stem=\"-azosin\")\n",
    "res"
   ]
  },
  {
   "cell_type": "markdown",
   "metadata": {},
   "source": [
    "### 13. Get all biotherapeutic molecules"
   ]
  },
  {
   "cell_type": "code",
   "execution_count": 15,
   "metadata": {},
   "outputs": [
    {
     "data": {
      "text/plain": [
       "23047"
      ]
     },
     "execution_count": 15,
     "metadata": {},
     "output_type": "execute_result"
    }
   ],
   "source": [
    "from chembl_webresource_client.new_client import new_client\n",
    "\n",
    "molecule = new_client.molecule\n",
    "biotherapeutics = molecule.filter(biotherapeutic__isnull=False)\n",
    "len(biotherapeutics)"
   ]
  },
  {
   "cell_type": "markdown",
   "metadata": {},
   "source": [
    "### 14. Get molecules with molecular weight <= 300"
   ]
  },
  {
   "cell_type": "code",
   "execution_count": 16,
   "metadata": {},
   "outputs": [
    {
     "data": {
      "text/plain": [
       "423016"
      ]
     },
     "execution_count": 16,
     "metadata": {},
     "output_type": "execute_result"
    }
   ],
   "source": [
    "from chembl_webresource_client.new_client import new_client\n",
    "\n",
    "molecule = new_client.molecule\n",
    "light_molecules = molecule.filter(molecule_properties__mw_freebase__lte=300)\n",
    "\n",
    "len(light_molecules)"
   ]
  },
  {
   "cell_type": "markdown",
   "metadata": {},
   "source": [
    "### 15. Get molecules with molecular weight <= 300 AND pref_name ending with nib"
   ]
  },
  {
   "cell_type": "code",
   "execution_count": 17,
   "metadata": {},
   "outputs": [
    {
     "data": {
      "text/plain": [
       "[{'molecule_chembl_id': 'CHEMBL276711', 'pref_name': 'SEMAXANIB'}, {'molecule_chembl_id': 'CHEMBL4594348', 'pref_name': 'ELSUBRUTINIB'}]"
      ]
     },
     "execution_count": 17,
     "metadata": {},
     "output_type": "execute_result"
    }
   ],
   "source": [
    "from chembl_webresource_client.new_client import new_client\n",
    "\n",
    "molecule = new_client.molecule\n",
    "light_nib_molecules = molecule.filter(molecule_properties__mw_freebase__lte=300, pref_name__iendswith=\"nib\").only(['molecule_chembl_id', 'pref_name'])\n",
    "\n",
    "light_nib_molecules"
   ]
  },
  {
   "cell_type": "markdown",
   "metadata": {},
   "source": [
    "### 16. Get all molecules in ChEMBL with no Rule of Five violations"
   ]
  },
  {
   "cell_type": "code",
   "execution_count": 18,
   "metadata": {},
   "outputs": [
    {
     "data": {
      "text/plain": [
       "1655867"
      ]
     },
     "execution_count": 18,
     "metadata": {},
     "output_type": "execute_result"
    }
   ],
   "source": [
    "from chembl_webresource_client.new_client import new_client\n",
    "\n",
    "molecule = new_client.molecule\n",
    "no_violations = molecule.filter(molecule_properties__num_ro5_violations=0)\n",
    "len(no_violations)"
   ]
  },
  {
   "cell_type": "markdown",
   "metadata": {},
   "source": [
    "## Activities"
   ]
  },
  {
   "cell_type": "markdown",
   "metadata": {},
   "source": [
    "### 1. Get all IC50 activities related to the hERG target"
   ]
  },
  {
   "cell_type": "code",
   "execution_count": 19,
   "metadata": {},
   "outputs": [
    {
     "data": {
      "text/plain": [
       "15255"
      ]
     },
     "execution_count": 19,
     "metadata": {},
     "output_type": "execute_result"
    }
   ],
   "source": [
    "from chembl_webresource_client.new_client import new_client\n",
    "\n",
    "target = new_client.target\n",
    "activity = new_client.activity\n",
    "herg = target.filter(pref_name__iexact='hERG').only('target_chembl_id')[0]\n",
    "herg_activities = activity.filter(target_chembl_id=herg['target_chembl_id']).filter(standard_type=\"IC50\")\n",
    "\n",
    "len(herg_activities)"
   ]
  },
  {
   "cell_type": "code",
   "execution_count": 20,
   "metadata": {},
   "outputs": [
    {
     "data": {
      "text/plain": [
       "{'action_type': None,\n",
       " 'activity_comment': None,\n",
       " 'activity_id': 305156,\n",
       " 'activity_properties': [],\n",
       " 'assay_chembl_id': 'CHEMBL841079',\n",
       " 'assay_description': 'Inhibition of hERG currents Kv11.1',\n",
       " 'assay_type': 'T',\n",
       " 'assay_variant_accession': None,\n",
       " 'assay_variant_mutation': None,\n",
       " 'bao_endpoint': 'BAO_0000190',\n",
       " 'bao_format': 'BAO_0000019',\n",
       " 'bao_label': 'assay format',\n",
       " 'canonical_smiles': 'O=C1NCCN1CCN1CCC(c2cn(-c3ccc(F)cc3)c3ccc(Cl)cc23)CC1',\n",
       " 'data_validity_comment': None,\n",
       " 'data_validity_description': None,\n",
       " 'document_chembl_id': 'CHEMBL1134478',\n",
       " 'document_journal': 'J Med Chem',\n",
       " 'document_year': 2001,\n",
       " 'ligand_efficiency': None,\n",
       " 'molecule_chembl_id': 'CHEMBL12713',\n",
       " 'molecule_pref_name': 'SERTINDOLE',\n",
       " 'parent_molecule_chembl_id': 'CHEMBL12713',\n",
       " 'pchembl_value': '7.85',\n",
       " 'potential_duplicate': 1,\n",
       " 'qudt_units': 'http://www.openphacts.org/units/Nanomolar',\n",
       " 'record_id': 71623,\n",
       " 'relation': '=',\n",
       " 'src_id': 1,\n",
       " 'standard_flag': 1,\n",
       " 'standard_relation': '=',\n",
       " 'standard_text_value': None,\n",
       " 'standard_type': 'IC50',\n",
       " 'standard_units': 'nM',\n",
       " 'standard_upper_value': None,\n",
       " 'standard_value': '14.0',\n",
       " 'target_chembl_id': 'CHEMBL240',\n",
       " 'target_organism': 'Homo sapiens',\n",
       " 'target_pref_name': 'HERG',\n",
       " 'target_tax_id': '9606',\n",
       " 'text_value': None,\n",
       " 'toid': None,\n",
       " 'type': 'IC50',\n",
       " 'units': 'nM',\n",
       " 'uo_units': 'UO_0000065',\n",
       " 'upper_value': None,\n",
       " 'value': '14.0'}"
      ]
     },
     "execution_count": 20,
     "metadata": {},
     "output_type": "execute_result"
    }
   ],
   "source": [
    "herg_activities[0]"
   ]
  },
  {
   "cell_type": "markdown",
   "metadata": {},
   "source": [
    "### 2. Get all activities with a pChEMBL value for a molecule"
   ]
  },
  {
   "cell_type": "code",
   "execution_count": 21,
   "metadata": {},
   "outputs": [
    {
     "data": {
      "text/plain": [
       "146"
      ]
     },
     "execution_count": 21,
     "metadata": {},
     "output_type": "execute_result"
    }
   ],
   "source": [
    "from chembl_webresource_client.new_client import new_client\n",
    "\n",
    "activities = new_client.activity\n",
    "res = activities.filter(molecule_chembl_id=\"CHEMBL25\", pchembl_value__isnull=False)\n",
    "len(res)"
   ]
  },
  {
   "cell_type": "markdown",
   "metadata": {},
   "source": [
    "### 3. Search for ADMET-related inhibitor assays (type A)"
   ]
  },
  {
   "cell_type": "code",
   "execution_count": 22,
   "metadata": {},
   "outputs": [
    {
     "data": {
      "text/plain": [
       "[{'aidx': 'CLD0', 'assay_category': None, 'assay_cell_type': None, 'assay_chembl_id': 'CHEMBL884521', 'assay_classifications': [], 'assay_organism': 'Rattus norvegicus', 'assay_parameters': [], 'assay_strain': None, 'assay_subcellular_fraction': None, 'assay_tax_id': 10116, 'assay_test_type': None, 'assay_tissue': None, 'assay_type': 'A', 'assay_type_description': 'ADME', 'bao_format': 'BAO_0000357', 'bao_label': 'single protein format', 'cell_chembl_id': None, 'confidence_description': 'Direct single protein target assigned', 'confidence_score': 9, 'description': 'Inhibition of cytochrome P450 progesterone 15-alpha hydroxylase', 'document_chembl_id': 'CHEMBL1125500', 'relationship_description': 'Direct protein target assigned', 'relationship_type': 'D', 'src_assay_id': None, 'src_id': 1, 'target_chembl_id': 'CHEMBL3705', 'tissue_chembl_id': None, 'variant_sequence': None}, {'aidx': 'CLD0', 'assay_category': None, 'assay_cell_type': None, 'assay_chembl_id': 'CHEMBL615148', 'assay_classifications': [], 'assay_organism': 'Rattus norvegicus', 'assay_parameters': [], 'assay_strain': None, 'assay_subcellular_fraction': None, 'assay_tax_id': 10116, 'assay_test_type': None, 'assay_tissue': None, 'assay_type': 'A', 'assay_type_description': 'ADME', 'bao_format': 'BAO_0000019', 'bao_label': 'assay format', 'cell_chembl_id': None, 'confidence_description': 'Default value - Target unknown or has yet to be assigned', 'confidence_score': 0, 'description': 'Inhibition of cytochrome P450 progesterone 16-alpha hydroxylase', 'document_chembl_id': 'CHEMBL1125500', 'relationship_description': 'Default value - Target has yet to be curated', 'relationship_type': 'U', 'src_assay_id': None, 'src_id': 1, 'target_chembl_id': 'CHEMBL612558', 'tissue_chembl_id': None, 'variant_sequence': None}, {'aidx': 'CLD0', 'assay_category': None, 'assay_cell_type': None, 'assay_chembl_id': 'CHEMBL615199', 'assay_classifications': [], 'assay_organism': 'Rattus norvegicus', 'assay_parameters': [], 'assay_strain': None, 'assay_subcellular_fraction': None, 'assay_tax_id': 10116, 'assay_test_type': None, 'assay_tissue': None, 'assay_type': 'A', 'assay_type_description': 'ADME', 'bao_format': 'BAO_0000357', 'bao_label': 'single protein format', 'cell_chembl_id': None, 'confidence_description': 'Direct single protein target assigned', 'confidence_score': 9, 'description': 'Inhibition of cytochrome P450 progesterone 2-alpha-hydroxylase', 'document_chembl_id': 'CHEMBL1125500', 'relationship_description': 'Direct protein target assigned', 'relationship_type': 'D', 'src_assay_id': None, 'src_id': 1, 'target_chembl_id': 'CHEMBL4971', 'tissue_chembl_id': None, 'variant_sequence': None}, {'aidx': 'CLD0', 'assay_category': None, 'assay_cell_type': 'HepG2', 'assay_chembl_id': 'CHEMBL615328', 'assay_classifications': [], 'assay_organism': 'Homo sapiens', 'assay_parameters': [], 'assay_strain': None, 'assay_subcellular_fraction': None, 'assay_tax_id': 9606, 'assay_test_type': None, 'assay_tissue': None, 'assay_type': 'A', 'assay_type_description': 'ADME', 'bao_format': 'BAO_0000219', 'bao_label': 'cell-based format', 'cell_chembl_id': 'CHEMBL3307718', 'confidence_description': 'Target assigned is non-molecular', 'confidence_score': 1, 'description': 'Anti viral activity against 2.2.15 cells (concentration required to reduce the log phase cell growth by 50%).', 'document_chembl_id': 'CHEMBL1128451', 'relationship_description': 'Non-molecular target assigned', 'relationship_type': 'N', 'src_assay_id': None, 'src_id': 1, 'target_chembl_id': 'CHEMBL395', 'tissue_chembl_id': None, 'variant_sequence': None}, '...(remaining elements truncated)...']"
      ]
     },
     "execution_count": 22,
     "metadata": {},
     "output_type": "execute_result"
    }
   ],
   "source": [
    "from chembl_webresource_client.new_client import new_client\n",
    "assay = new_client.assay\n",
    "res = assay.filter(discription__icontains='inhibit', assay_type='A')\n",
    "res"
   ]
  },
  {
   "cell_type": "markdown",
   "metadata": {},
   "source": [
    "## Tissues"
   ]
  },
  {
   "cell_type": "markdown",
   "metadata": {},
   "source": [
    "### 1. Get tissue by BTO ID"
   ]
  },
  {
   "cell_type": "code",
   "execution_count": 23,
   "metadata": {},
   "outputs": [
    {
     "data": {
      "text/plain": [
       "[{'bto_id': 'BTO:0001073', 'caloha_id': 'TS-0798', 'efo_id': 'EFO:0000857', 'pref_name': 'Pituitary gland', 'tissue_chembl_id': 'CHEMBL3638173', 'uberon_id': 'UBERON:0000007'}]"
      ]
     },
     "execution_count": 23,
     "metadata": {},
     "output_type": "execute_result"
    }
   ],
   "source": [
    "from chembl_webresource_client.new_client import new_client\n",
    "\n",
    "tissue = new_client.tissue\n",
    "res = tissue.filter(bto_id=\"BTO:0001073\")\n",
    "res"
   ]
  },
  {
   "cell_type": "markdown",
   "metadata": {},
   "source": [
    "### 2. Get tissue by Caloha id"
   ]
  },
  {
   "cell_type": "code",
   "execution_count": 24,
   "metadata": {},
   "outputs": [
    {
     "data": {
      "text/plain": [
       "[{'bto_id': 'BTO:0000648', 'caloha_id': 'TS-0490', 'efo_id': 'EFO:0000834', 'pref_name': 'Intestine', 'tissue_chembl_id': 'CHEMBL3638176', 'uberon_id': 'UBERON:0000160'}]"
      ]
     },
     "execution_count": 24,
     "metadata": {},
     "output_type": "execute_result"
    }
   ],
   "source": [
    "from chembl_webresource_client.new_client import new_client\n",
    "\n",
    "tissue = new_client.tissue\n",
    "res = tissue.filter(caloha_id=\"TS-0490\")\n",
    "res"
   ]
  },
  {
   "cell_type": "markdown",
   "metadata": {},
   "source": [
    "### 3. Get tissue by Uberon id"
   ]
  },
  {
   "cell_type": "code",
   "execution_count": 25,
   "metadata": {},
   "outputs": [
    {
     "data": {
      "text/plain": [
       "[{'bto_id': 'BTO:0000068', 'caloha_id': 'TS-0034', 'efo_id': None, 'pref_name': 'Amniotic fluid', 'tissue_chembl_id': 'CHEMBL3638177', 'uberon_id': 'UBERON:0000173'}]"
      ]
     },
     "execution_count": 25,
     "metadata": {},
     "output_type": "execute_result"
    }
   ],
   "source": [
    "from chembl_webresource_client.new_client import new_client\n",
    "\n",
    "tissue = new_client.tissue\n",
    "res = tissue.filter(uberon_id=\"UBERON:0000173\")\n",
    "res"
   ]
  },
  {
   "cell_type": "markdown",
   "metadata": {},
   "source": [
    "### 4. Get tissue by name"
   ]
  },
  {
   "cell_type": "code",
   "execution_count": 26,
   "metadata": {},
   "outputs": [
    {
     "data": {
      "text/plain": [
       "[{'bto_id': None, 'caloha_id': None, 'efo_id': None, 'pref_name': 'Blood brain barrier', 'tissue_chembl_id': 'CHEMBL3987461', 'uberon_id': 'UBERON:0000120'}, {'bto_id': 'BTO:0000089', 'caloha_id': 'TS-0079', 'efo_id': 'EFO:0000296', 'pref_name': 'Blood', 'tissue_chembl_id': 'CHEMBL3638178', 'uberon_id': 'UBERON:0000178'}, {'bto_id': 'BTO:0001102', 'caloha_id': 'TS-0080', 'efo_id': 'EFO:0000817', 'pref_name': 'Blood vessel', 'tissue_chembl_id': 'CHEMBL3987656', 'uberon_id': 'UBERON:0001981'}, {'bto_id': 'BTO:0000102', 'caloha_id': None, 'efo_id': None, 'pref_name': 'Blood clot', 'tissue_chembl_id': 'CHEMBL3987655', 'uberon_id': 'UBERON:0010210'}, '...(remaining elements truncated)...']"
      ]
     },
     "execution_count": 26,
     "metadata": {},
     "output_type": "execute_result"
    }
   ],
   "source": [
    "from chembl_webresource_client.new_client import new_client\n",
    "\n",
    "tissue = new_client.tissue\n",
    "res = tissue.filter(pref_name__istartswith=\"blood\")\n",
    "res"
   ]
  },
  {
   "cell_type": "markdown",
   "metadata": {},
   "source": [
    "## Cells"
   ]
  },
  {
   "cell_type": "markdown",
   "metadata": {},
   "source": [
    "### Get cell line by cellosaurus id"
   ]
  },
  {
   "cell_type": "code",
   "execution_count": 27,
   "metadata": {},
   "outputs": [
    {
     "data": {
      "text/plain": [
       "[{'cell_chembl_id': 'CHEMBL3307686', 'cell_description': 'MDA-MB-435 (Breast metastasis of melanoma cells', 'cell_id': 687, 'cell_name': 'MDA-MB-435', 'cell_source_organism': 'Homo sapiens', 'cell_source_tax_id': 9606, 'cell_source_tissue': 'Breast metastasis of melanoma cells', 'cellosaurus_id': 'CVCL_0417', 'cl_lincs_id': None, 'clo_id': None, 'efo_id': 'EFO_0001213'}]"
      ]
     },
     "execution_count": 27,
     "metadata": {},
     "output_type": "execute_result"
    }
   ],
   "source": [
    "from chembl_webresource_client.new_client import new_client\n",
    "cell_line = new_client.cell_line\n",
    "res = cell_line.filter(cellosaurus_id=\"CVCL_0417\")\n",
    "res"
   ]
  },
  {
   "cell_type": "markdown",
   "metadata": {},
   "source": [
    "## Targets"
   ]
  },
  {
   "cell_type": "markdown",
   "metadata": {},
   "source": [
    "### Find a target by gene name"
   ]
  },
  {
   "cell_type": "code",
   "execution_count": 28,
   "metadata": {},
   "outputs": [
    {
     "name": "stdout",
     "output_type": "stream",
     "text": [
      "{'organism': 'Homo sapiens', 'pref_name': 'Bromodomain-containing protein 4', 'target_type': 'SINGLE PROTEIN'}\n",
      "{'organism': 'Mus musculus', 'pref_name': 'Bromodomain-containing protein 4', 'target_type': 'SINGLE PROTEIN'}\n",
      "{'organism': 'Homo sapiens', 'pref_name': 'BRD4/HDAC1', 'target_type': 'PROTEIN COMPLEX'}\n",
      "{'organism': 'Homo sapiens', 'pref_name': 'Cereblon/Cullin-4A/Bromodomain-containing protein 4', 'target_type': 'PROTEIN-PROTEIN INTERACTION'}\n",
      "{'organism': 'Homo sapiens', 'pref_name': 'Cereblon/Bromodomain-containing protein 4', 'target_type': 'PROTEIN-PROTEIN INTERACTION'}\n",
      "{'organism': 'Homo sapiens', 'pref_name': 'von Hippel-Lindau disease tumor suppressor/Bromodomain-containing protein 4', 'target_type': 'PROTEIN-PROTEIN INTERACTION'}\n",
      "{'organism': 'Homo sapiens', 'pref_name': 'Cereblon/DNA damage-binding protein 1/Bromodomain-containing protein 4', 'target_type': 'PROTEIN-PROTEIN INTERACTION'}\n",
      "{'organism': 'Homo sapiens', 'pref_name': 'von Hippel-Lindau disease tumor suppressor/Elongin-B/Elongin-C/Bromodomain-containing protein 4', 'target_type': 'PROTEIN-PROTEIN INTERACTION'}\n",
      "{'organism': 'Homo sapiens', 'pref_name': 'Bromodomain and extra-terminal motif (BET)', 'target_type': 'PROTEIN FAMILY'}\n",
      "{'organism': 'Homo sapiens', 'pref_name': 'BRD4/E3 ubiquitin-protein ligase Mdm2', 'target_type': 'PROTEIN-PROTEIN INTERACTION'}\n",
      "{'organism': 'Homo sapiens', 'pref_name': 'BRD4/E3 ubiquitin-protein ligase XIAP', 'target_type': 'PROTEIN-PROTEIN INTERACTION'}\n"
     ]
    }
   ],
   "source": [
    "from chembl_webresource_client.new_client import new_client\n",
    "target = new_client.target\n",
    "gene_name = \"BRD4\"\n",
    "res = target.filter(target_synonym__icontains=gene_name).only(['organism', 'pref_name', 'target_type'])\n",
    "for i in res:\n",
    "    print(i)"
   ]
  },
  {
   "cell_type": "markdown",
   "metadata": {},
   "source": [
    "## References"
   ]
  },
  {
   "cell_type": "markdown",
   "metadata": {},
   "source": [
    "### 1. Find all PubMed IDs from a list that exist in the ChEMBL database."
   ]
  },
  {
   "cell_type": "code",
   "execution_count": 29,
   "metadata": {},
   "outputs": [
    {
     "data": {
      "text/plain": [
       "[{'pubmed_id': 27502541}, {'pubmed_id': 27584694}, {'pubmed_id': 27977190}]"
      ]
     },
     "execution_count": 29,
     "metadata": {},
     "output_type": "execute_result"
    }
   ],
   "source": [
    "from chembl_webresource_client.new_client import new_client\n",
    "ids = (27502541, 27584694, 27977190, 81377812)\n",
    "pubmed_IDs = new_client.document\n",
    "pm = pubmed_IDs.filter(pubmed_id__in=ids).only('pubmed_id')\n",
    "pm"
   ]
  },
  {
   "cell_type": "markdown",
   "metadata": {},
   "source": [
    "### 2. Find all Datasets that were produced after 2021"
   ]
  },
  {
   "cell_type": "code",
   "execution_count": 30,
   "metadata": {},
   "outputs": [
    {
     "data": {
      "text/plain": [
       "[{'abstract': '', 'authors': 'University of Dundee', 'chembl_release': {'chembl_release': 'CHEMBL_24', 'creation_date': '2018-04-23T00:00:00'}, 'doc_type': 'DATASET', 'document_chembl_id': 'CHEMBL3988442', 'doi': '10.6019/CHEMBL3988442', 'doi_chembl': None, 'first_page': None, 'issue': None, 'journal': None, 'journal_full_title': None, 'last_page': None, 'patent_id': None, 'pubmed_id': None, 'src_id': 33, 'title': 'University of Dundee, Small-Polar-MMV Screening Library', 'volume': None, 'year': 2021}, {'abstract': 'SGC Frankfurt donated chemical probe project: A-079 was donated by Abbvie. Website: https://www.sgc-ffm.uni-frankfurt.de/#!specificprobeoverview/A-079. Control: A-226. References: 1. Bianchi, Bruce R, Xu-Feng Zhang, Regina M Reilly, Philip R Kym, Betty B Yao, and Jun Chen. 2012. ‘Species Comparison and Pharmacological Characterization of Human, Monkey, Rat, and Mouse TRPA1 Channels’. The Journal of Pharmacology and Experimental Therapeutics 341(2):360–68. PMID: 22319196. 2. Chen, Jun, Shailen K Joshi, Stanley DiDomenico, Richard J Perner, Joe P Mikusa, Donna M Gauvin, Jason A Segreti, Ping Han, Xu-Feng Zhang, Wende Niforatos, Bruce R Bianchi, Scott J Baker, Chengmin Zhong, Gricelda H Simler, Heath A McDonald, Robert G Schmidt, Steve P McGaraughty, Katharine L Chu, Connie R Faltynek, Michael E Kort, Regina M Reilly, and Philip R Kym. 2011. ‘Selective Blockade of TRPA1 Channel Attenuates Pathological Pain without Altering Noxious Cold Sensation or Body Temperature Regulation’. Pain 152(5):1165–72. PMID: 21402443.', 'authors': 'SGC Frankfurt', 'chembl_release': {'chembl_release': 'CHEMBL_28', 'creation_date': '2021-01-15T00:00:00'}, 'doc_type': 'DATASET', 'document_chembl_id': 'CHEMBL4507256', 'doi': '10.6019/CHEMBL4507256', 'doi_chembl': None, 'first_page': None, 'issue': None, 'journal': None, 'journal_full_title': None, 'last_page': None, 'patent_id': None, 'pubmed_id': None, 'src_id': 54, 'title': 'Data for DCP probe A-079', 'volume': None, 'year': 2021}, {'abstract': 'SGC Frankfurt donated chemical probe project: ABT-100 was donated by Abbvie. Website: https://www.sgc-ffm.uni-frankfurt.de/#!specificprobeoverview/ABT-100. Control: A-108. References: 1. Gu, Wen-Zhen, Ingrid Joseph, Yi-Chun Wang, David Frost, Gerard M Sullivan, Le Wang, Nan-Horng Lin, Jerry Cohen, Vincent S Stoll, Clarissa G Jakob, Steven W Muchmore, John E Harlan, Tom Holzman, Karl A Walten, Uri S Ladror, Mark G Anderson, Paul Kroeger, Luis E Rodriguez, Kenneth P Jarvis, Debra Ferguson, Kennan Marsh, Shichung Ng, Saul H Rosenberg, Hing L Sham, and Haiying Zhang. 2005. ‘A Highly Potent and Selective Farnesyltransferase Inhibitor ABT-100 in Preclinical Studies’. Anti-Cancer Drugs 16(10):1059–69. PMID: 16222147. 2. Rozema, Michael J, Albert W Kruger, Bridget D Rohde, Bhadra Shelat, Lakshmi Bhagavatula, James J Tien, Weijiang Zhang, and Rodger F Henry. 2005. ‘Synthesis of a Novel Farnesyl Transferase Inhibitor, ABT-100: Selective Preparation of a Stereogenic Tertiary Carbinol’. Tetrahedron 61(18):4419–25. DOI: 10.1016/j.tet.2005.02.072.', 'authors': 'SGC Frankfurt', 'chembl_release': {'chembl_release': 'CHEMBL_28', 'creation_date': '2021-01-15T00:00:00'}, 'doc_type': 'DATASET', 'document_chembl_id': 'CHEMBL4507257', 'doi': '10.6019/CHEMBL4507257', 'doi_chembl': None, 'first_page': None, 'issue': None, 'journal': None, 'journal_full_title': None, 'last_page': None, 'patent_id': None, 'pubmed_id': None, 'src_id': 54, 'title': 'Data for DCP probe ABT-100', 'volume': None, 'year': 2021}, {'abstract': 'SGC Frankfurt donated chemical probe project: ABT-546 was donated by Abbvie. Website: https://www.sgc-ffm.uni-frankfurt.de/#!specificprobeoverview/ABT-546. Control: A-545. References: 1. Wu-Wong, J R, D B Dixon, W J Chiou, B D Dayton, E I Novosad, A L Adler, J L Wessale, S V Calzadilla, L Hernandez, K C Marsh, G Liu, B Szczepankiewicz, T W von Geldern, and T J Opgenorth. 1999. ‘Pharmacology of A-216546: A Highly Selective Antagonist for Endothelin ET(A) Receptor’. European Journal of Pharmacology 366(2–3):189–201. PMID: 10082200.', 'authors': 'SGC Frankfurt', 'chembl_release': {'chembl_release': 'CHEMBL_28', 'creation_date': '2021-01-15T00:00:00'}, 'doc_type': 'DATASET', 'document_chembl_id': 'CHEMBL4507258', 'doi': '10.6019/CHEMBL4507258', 'doi_chembl': None, 'first_page': None, 'issue': None, 'journal': None, 'journal_full_title': None, 'last_page': None, 'patent_id': None, 'pubmed_id': None, 'src_id': 54, 'title': 'Data for DCP probe ABT-546', 'volume': None, 'year': 2021}, '...(remaining elements truncated)...']"
      ]
     },
     "execution_count": 30,
     "metadata": {},
     "output_type": "execute_result"
    }
   ],
   "source": [
    "datasets = new_client.document\n",
    "ds = datasets.filter(year__gte=2021, doc_type = 'DATASET')\n",
    "ds"
   ]
  },
  {
   "cell_type": "markdown",
   "metadata": {},
   "source": [
    "## Sources"
   ]
  },
  {
   "cell_type": "markdown",
   "metadata": {},
   "source": [
    "### Get the table of ChEMBL sources"
   ]
  },
  {
   "cell_type": "code",
   "execution_count": 31,
   "metadata": {},
   "outputs": [
    {
     "data": {
      "text/plain": [
       "[{'src_description': 'Undefined', 'src_id': 0, 'src_short_name': 'UNDEFINED'}, {'src_description': 'Scientific Literature', 'src_id': 1, 'src_short_name': 'LITERATURE'}, {'src_description': 'GSK Malaria Screening', 'src_id': 2, 'src_short_name': 'GSK_TCMDC'}, {'src_description': 'Novartis Malaria Screening', 'src_id': 3, 'src_short_name': 'NOVARTIS'}, '...(remaining elements truncated)...']"
      ]
     },
     "execution_count": 31,
     "metadata": {},
     "output_type": "execute_result"
    }
   ],
   "source": [
    "sources = new_client.source\n",
    "sources"
   ]
  },
  {
   "cell_type": "markdown",
   "metadata": {},
   "source": [
    "## Utils"
   ]
  },
  {
   "cell_type": "markdown",
   "metadata": {},
   "source": [
    "### 1. Convert SMILES to CTAB"
   ]
  },
  {
   "cell_type": "code",
   "execution_count": 32,
   "metadata": {},
   "outputs": [
    {
     "name": "stdout",
     "output_type": "stream",
     "text": [
      "\n",
      "     RDKit          2D\n",
      "\n",
      " 13 13  0  0  0  0  0  0  0  0999 V2000\n",
      "   -1.8012   -1.1888    0.0000 O   0  0  0  0  0  0  0  0  0  0  0  0\n",
      "   -1.7990   -0.1888    0.0000 C   0  0  0  0  0  0  0  0  0  0  0  0\n",
      "   -0.9320    0.3096    0.0000 O   0  0  0  0  0  0  0  0  0  0  0  0\n",
      "   -0.0672   -0.1922    0.0000 C   0  0  0  0  0  0  0  0  0  0  0  0\n",
      "   -0.0690   -1.1922    0.0000 C   0  0  0  0  0  0  0  0  0  0  0  0\n",
      "    0.7960   -1.6940    0.0000 C   0  0  0  0  0  0  0  0  0  0  0  0\n",
      "    1.6630   -1.1956    0.0000 C   0  0  0  0  0  0  0  0  0  0  0  0\n",
      "    1.6650   -0.1956    0.0000 C   0  0  0  0  0  0  0  0  0  0  0  0\n",
      "    0.8000    0.3062    0.0000 C   0  0  0  0  0  0  0  0  0  0  0  0\n",
      "    0.8020    1.3060    0.0000 C   0  0  0  0  0  0  0  0  0  0  0  0\n",
      "   -0.0630    1.8078    0.0000 O   0  0  0  0  0  0  0  0  0  0  0  0\n",
      "    1.6690    1.8042    0.0000 O   0  0  0  0  0  0  0  0  0  0  0  0\n",
      "   -2.6640    0.3130    0.0000 C   0  0  0  0  0  0  0  0  0  0  0  0\n",
      "  1  2  2  0\n",
      "  2  3  1  0\n",
      "  3  4  1  0\n",
      "  4  5  2  0\n",
      "  5  6  1  0\n",
      "  6  7  2  0\n",
      "  7  8  1  0\n",
      "  8  9  2  0\n",
      "  9 10  1  0\n",
      " 10 11  2  0\n",
      " 10 12  1  0\n",
      "  2 13  1  0\n",
      "  9  4  1  0\n",
      "M  END\n",
      "$$$$\n",
      "\n"
     ]
    }
   ],
   "source": [
    "from chembl_webresource_client.utils import utils\n",
    "aspirin = utils.smiles2ctab('O=C(Oc1ccccc1C(=O)O)C')\n",
    "print(aspirin)"
   ]
  },
  {
   "cell_type": "markdown",
   "metadata": {},
   "source": [
    "### 2. Compute Maximal Common Substructure"
   ]
  },
  {
   "cell_type": "code",
   "execution_count": 33,
   "metadata": {},
   "outputs": [
    {
     "data": {
      "text/plain": [
       "'[#6]1(-[#6]):[#6]:[#6](-[#8]-[#6]):[#6](:[#6]:[#6]:1)-[#8]'"
      ]
     },
     "execution_count": 33,
     "metadata": {},
     "output_type": "execute_result"
    }
   ],
   "source": [
    "from chembl_webresource_client.utils import utils\n",
    "\n",
    "smiles = [\"O=C(NCc1cc(OC)c(O)cc1)CCCC/C=C/C(C)C\",\n",
    "          \"CC(C)CCCCCC(=O)NCC1=CC(=C(C=C1)O)OC\", \"c1(C=O)cc(OC)c(O)cc1\"]\n",
    "mols = [utils.smiles2ctab(smile) for smile in smiles]\n",
    "sdf = ''.join(mols)\n",
    "result = utils.mcs(sdf)\n",
    "result"
   ]
  },
  {
   "cell_type": "markdown",
   "metadata": {},
   "source": [
    "### 3. Compute various molecular descriptors"
   ]
  },
  {
   "cell_type": "code",
   "execution_count": 34,
   "metadata": {},
   "outputs": [
    {
     "data": {
      "text/plain": [
       "{'qed': 0.5501217966938848,\n",
       " 'MolWt': 180.15899999999996,\n",
       " 'TPSA': 63.60000000000001,\n",
       " 'HeavyAtomCount': 13,\n",
       " 'NumAromaticRings': 1,\n",
       " 'NumHAcceptors': 3,\n",
       " 'NumHDonors': 1,\n",
       " 'NumRotatableBonds': 2,\n",
       " 'MolLogP': 1.3100999999999998,\n",
       " 'MolecularFormula': 'C9H8O4',\n",
       " 'Ro3Pass': 0,\n",
       " 'NumRo5': 0,\n",
       " 'MonoisotopicMolWt': 180.042258736}"
      ]
     },
     "execution_count": 34,
     "metadata": {},
     "output_type": "execute_result"
    }
   ],
   "source": [
    "from chembl_webresource_client.utils import utils\n",
    "import json\n",
    "\n",
    "aspirin = utils.smiles2ctab('O=C(Oc1ccccc1C(=O)O)C')\n",
    "descs = json.loads(utils.chemblDescriptors(aspirin))[0]\n",
    "descs"
   ]
  },
  {
   "cell_type": "markdown",
   "metadata": {},
   "source": [
    "### 4. Compute atructural alerts"
   ]
  },
  {
   "cell_type": "code",
   "execution_count": 35,
   "metadata": {},
   "outputs": [
    {
     "name": "stdout",
     "output_type": "stream",
     "text": [
      "{'alert_id': 1030, 'alert_name': 'Ester', 'set_name': 'MLSMR', 'smarts': '[#6]-C(=O)O-[#6]'}\n",
      "{'alert_id': 1069, 'alert_name': 'vinyl michael acceptor1', 'set_name': 'MLSMR', 'smarts': '[#6]-[CH1]=C-C(=O)[#6,#7,#8]'}\n"
     ]
    }
   ],
   "source": [
    "from chembl_webresource_client.utils import utils\n",
    "\n",
    "mol = utils.smiles2ctab(\"O=C(Oc1ccccc1C(=O)O)C\")\n",
    "alerts = json.loads(utils.structuralAlerts(mol))\n",
    "for a in alerts[0]:\n",
    "    print(a)"
   ]
  },
  {
   "cell_type": "markdown",
   "metadata": {},
   "source": [
    "### 5. Standardize a molecule"
   ]
  },
  {
   "cell_type": "code",
   "execution_count": 36,
   "metadata": {},
   "outputs": [
    {
     "data": {
      "text/plain": [
       "[{'standard_molblock': '\\n     RDKit          2D\\n\\n 19 17  0  0  0  0  0  0  0  0999 V2000\\n   -1.4275   -2.9831    0.0000 O   0  0  0  0  0  0  0  0  0  0  0  0\\n   -4.9566   -0.4188    0.0000 Na  0  0  0  0  0 15  0  0  0  0  0  0\\n   -4.0888   -0.9158    0.0000 O   0  0  0  0  0  0  0  0  0  0  0  0\\n   -3.2246   -0.4126    0.0000 C   0  0  0  0  0  0  0  0  0  0  0  0\\n   -3.2282    0.5874    0.0000 O   0  0  0  0  0  0  0  0  0  0  0  0\\n   -2.3568   -0.9096    0.0000 C   0  0  0  0  0  0  0  0  0  0  0  0\\n   -1.4926   -0.4064    0.0000 C   0  0  0  0  0  0  0  0  0  0  0  0\\n   -0.6248   -0.9034    0.0000 C   0  0  0  0  0  0  0  0  0  0  0  0\\n    0.2394   -0.4002    0.0000 C   0  0  0  0  0  0  0  0  0  0  0  0\\n    0.2360    0.5998    0.0000 C   0  0  0  0  0  0  0  0  0  0  0  0\\n    1.1000    1.1028    0.0000 C   0  0  0  0  0  0  0  0  0  0  0  0\\n    1.9680    0.6060    0.0000 N   0  0  0  0  0  0  0  0  0  0  0  0\\n   -0.6320    1.0968    0.0000 C   0  0  0  0  0  0  0  0  0  0  0  0\\n   -1.4960    0.5936    0.0000 C   0  0  0  0  0  0  0  0  0  0  0  0\\n    4.7721    0.9028    0.0000 C   0  0  0  0  0  0  0  0  0  0  0  0\\n    4.5695   -0.0764    0.0000 N   0  0  0  0  0  0  0  0  0  0  0  0\\n    3.5755   -0.1862    0.0000 N   0  0  0  0  0  0  0  0  0  0  0  0\\n    3.1639    0.7252    0.0000 N   0  0  0  0  0  0  0  0  0  0  0  0\\n    3.9035    1.3982    0.0000 N   0  0  0  0  0  0  0  0  0  0  0  0\\n  3  4  1  0\\n  4  5  2  0\\n  4  6  1  0\\n  6  7  1  0\\n  7  8  2  0\\n  8  9  1  0\\n  9 10  2  0\\n 10 11  1  0\\n 11 12  1  0\\n 10 13  1  0\\n 13 14  2  0\\n 14  7  1  0\\n 15 16  2  0\\n 16 17  1  0\\n 17 18  2  0\\n 18 19  1  0\\n 19 15  1  0\\nM  CHG  2   2   1   3  -1\\nM  END\\n'}]"
      ]
     },
     "execution_count": 36,
     "metadata": {},
     "output_type": "execute_result"
    }
   ],
   "source": [
    "from chembl_webresource_client.utils import utils\n",
    "mol = utils.smiles2ctab(\"[Na]OC(=O)Cc1ccc(C[NH3+])cc1.c1nnn[n-]1.O\")\n",
    "st = json.loads(utils.standardize(mol))\n",
    "st"
   ]
  },
  {
   "cell_type": "markdown",
   "metadata": {},
   "source": [
    "### 6. Calculate the parent molecule"
   ]
  },
  {
   "cell_type": "code",
   "execution_count": 37,
   "metadata": {},
   "outputs": [
    {
     "data": {
      "text/plain": [
       "[{'parent_molblock': '\\n     RDKit          2D\\n\\n 18 18  0  0  0  0  0  0  0  0999 V2000\\n   -4.9566   -0.4188    0.0000 Na  0  0  0  0  0  1  0  0  0  0  0  0\\n   -4.0888   -0.9158    0.0000 O   0  0  0  0  0  0  0  0  0  0  0  0\\n   -3.2246   -0.4126    0.0000 C   0  0  0  0  0  0  0  0  0  0  0  0\\n   -3.2282    0.5874    0.0000 O   0  0  0  0  0  0  0  0  0  0  0  0\\n   -2.3568   -0.9096    0.0000 C   0  0  0  0  0  0  0  0  0  0  0  0\\n   -1.4926   -0.4064    0.0000 C   0  0  0  0  0  0  0  0  0  0  0  0\\n   -0.6248   -0.9034    0.0000 C   0  0  0  0  0  0  0  0  0  0  0  0\\n    0.2394   -0.4002    0.0000 C   0  0  0  0  0  0  0  0  0  0  0  0\\n    0.2360    0.5998    0.0000 C   0  0  0  0  0  0  0  0  0  0  0  0\\n    1.1000    1.1028    0.0000 C   0  0  0  0  0  0  0  0  0  0  0  0\\n    1.9680    0.6060    0.0000 N   0  0  0  0  0  0  0  0  0  0  0  0\\n   -0.6320    1.0968    0.0000 C   0  0  0  0  0  0  0  0  0  0  0  0\\n   -1.4960    0.5936    0.0000 C   0  0  0  0  0  0  0  0  0  0  0  0\\n    4.7721    0.9028    0.0000 C   0  0  0  0  0  0  0  0  0  0  0  0\\n    4.5695   -0.0764    0.0000 N   0  0  0  0  0  0  0  0  0  0  0  0\\n    3.5755   -0.1862    0.0000 N   0  0  0  0  0  0  0  0  0  0  0  0\\n    3.1639    0.7252    0.0000 N   0  0  0  0  0  0  0  0  0  0  0  0\\n    3.9035    1.3982    0.0000 N   0  0  0  0  0  0  0  0  0  0  0  0\\n  1  2  1  0\\n  2  3  1  0\\n  3  4  2  0\\n  3  5  1  0\\n  5  6  1  0\\n  6  7  2  0\\n  7  8  1  0\\n  8  9  2  0\\n  9 10  1  0\\n 10 11  1  0\\n  9 12  1  0\\n 12 13  2  0\\n 13  6  1  0\\n 14 15  2  0\\n 15 16  1  0\\n 16 17  2  0\\n 17 18  1  0\\n 18 14  1  0\\nM  END\\n',\n",
       "  'exclude': False}]"
      ]
     },
     "execution_count": 37,
     "metadata": {},
     "output_type": "execute_result"
    }
   ],
   "source": [
    "from chembl_webresource_client.utils import utils\n",
    "\n",
    "mol = utils.smiles2ctab(\"[Na]OC(=O)Cc1ccc(C[NH3+])cc1.c1nnn[n-]1.[Na]\")\n",
    "par = json.loads(utils.getParent(mol))\n",
    "par"
   ]
  }
 ],
 "metadata": {
  "kernelspec": {
   "display_name": "molvae",
   "language": "python",
   "name": "molvae"
  },
  "language_info": {
   "codemirror_mode": {
    "name": "ipython",
    "version": 3
   },
   "file_extension": ".py",
   "mimetype": "text/x-python",
   "name": "python",
   "nbconvert_exporter": "python",
   "pygments_lexer": "ipython3",
   "version": "3.9.18"
  }
 },
 "nbformat": 4,
 "nbformat_minor": 4
}
